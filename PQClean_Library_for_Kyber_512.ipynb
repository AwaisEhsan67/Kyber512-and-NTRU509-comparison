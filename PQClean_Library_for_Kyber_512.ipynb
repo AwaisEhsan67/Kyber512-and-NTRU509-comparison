{
  "nbformat": 4,
  "nbformat_minor": 0,
  "metadata": {
    "colab": {
      "provenance": [],
      "authorship_tag": "ABX9TyOyGZNRNEDPM2SBct3v8ToH",
      "include_colab_link": true
    },
    "kernelspec": {
      "name": "python3",
      "display_name": "Python 3"
    },
    "language_info": {
      "name": "python"
    }
  },
  "cells": [
    {
      "cell_type": "markdown",
      "metadata": {
        "id": "view-in-github",
        "colab_type": "text"
      },
      "source": [
        "<a href=\"https://colab.research.google.com/github/AwaisEhsan67/Kyber512-and-NTRU509-comparison/blob/main/PQClean_Library_for_Kyber_512.ipynb\" target=\"_parent\"><img src=\"https://colab.research.google.com/assets/colab-badge.svg\" alt=\"Open In Colab\"/></a>"
      ]
    },
    {
      "cell_type": "code",
      "execution_count": 4,
      "metadata": {
        "colab": {
          "base_uri": "https://localhost:8080/"
        },
        "id": "fUTXkEMgXPgs",
        "outputId": "09ee0198-9e5a-4466-933f-b7adfcbc4120"
      },
      "outputs": [
        {
          "output_type": "stream",
          "name": "stdout",
          "text": [
            "\r0% [Working]\r            \rGet:1 https://cloud.r-project.org/bin/linux/ubuntu jammy-cran40/ InRelease [3,632 B]\n",
            "\r0% [Waiting for headers] [Connecting to security.ubuntu.com (91.189.91.81)] [1 \r0% [Waiting for headers] [Connecting to security.ubuntu.com (91.189.91.81)] [Wa\r                                                                               \rGet:2 https://developer.download.nvidia.com/compute/cuda/repos/ubuntu2204/x86_64  InRelease [1,581 B]\n",
            "\r0% [Waiting for headers] [Connecting to security.ubuntu.com (91.189.91.81)] [Wa\r0% [Waiting for headers] [Connecting to security.ubuntu.com (91.189.91.81)] [Wa\r                                                                               \rHit:3 http://archive.ubuntu.com/ubuntu jammy InRelease\n",
            "Get:4 https://r2u.stat.illinois.edu/ubuntu jammy InRelease [6,555 B]\n",
            "Get:5 http://archive.ubuntu.com/ubuntu jammy-updates InRelease [128 kB]\n",
            "Get:6 http://security.ubuntu.com/ubuntu jammy-security InRelease [129 kB]\n",
            "Get:7 https://cloud.r-project.org/bin/linux/ubuntu jammy-cran40/ Packages [77.5 kB]\n",
            "Hit:8 https://ppa.launchpadcontent.net/deadsnakes/ppa/ubuntu jammy InRelease\n",
            "Hit:9 https://ppa.launchpadcontent.net/graphics-drivers/ppa/ubuntu jammy InRelease\n",
            "Get:10 https://developer.download.nvidia.com/compute/cuda/repos/ubuntu2204/x86_64  Packages [1,659 kB]\n",
            "Hit:11 https://ppa.launchpadcontent.net/ubuntugis/ppa/ubuntu jammy InRelease\n",
            "Get:12 http://archive.ubuntu.com/ubuntu jammy-backports InRelease [127 kB]\n",
            "Get:13 https://r2u.stat.illinois.edu/ubuntu jammy/main all Packages [8,914 kB]\n",
            "Get:14 https://r2u.stat.illinois.edu/ubuntu jammy/main amd64 Packages [2,718 kB]\n",
            "Get:15 http://archive.ubuntu.com/ubuntu jammy-updates/universe amd64 Packages [1,545 kB]\n",
            "Get:16 http://archive.ubuntu.com/ubuntu jammy-updates/main amd64 Packages [3,205 kB]\n",
            "Get:17 http://security.ubuntu.com/ubuntu jammy-security/main amd64 Packages [2,894 kB]\n",
            "Get:18 http://security.ubuntu.com/ubuntu jammy-security/universe amd64 Packages [1,245 kB]\n",
            "Get:19 http://security.ubuntu.com/ubuntu jammy-security/restricted amd64 Packages [4,266 kB]\n",
            "Get:20 http://security.ubuntu.com/ubuntu jammy-security/multiverse amd64 Packages [47.7 kB]\n",
            "Fetched 27.0 MB in 8s (3,548 kB/s)\n",
            "Reading package lists... Done\n",
            "W: Skipping acquire of configured file 'main/source/Sources' as repository 'https://r2u.stat.illinois.edu/ubuntu jammy InRelease' does not seem to provide it (sources.list entry misspelt?)\n",
            "Reading package lists... Done\n",
            "Building dependency tree... Done\n",
            "Reading state information... Done\n",
            "build-essential is already the newest version (12.9ubuntu3).\n",
            "git is already the newest version (1:2.34.1-1ubuntu1.12).\n",
            "0 upgraded, 0 newly installed, 0 to remove and 44 not upgraded.\n"
          ]
        }
      ],
      "source": [
        "!sudo apt-get update\n",
        "!sudo apt-get install build-essential git\n"
      ]
    },
    {
      "cell_type": "code",
      "source": [
        "!git clone https://github.com/PQClean/PQClean.git\n"
      ],
      "metadata": {
        "colab": {
          "base_uri": "https://localhost:8080/"
        },
        "id": "T_ycD0EuXYd_",
        "outputId": "c2877f55-0fa9-4fb4-9bd3-36a58b4d8ae2"
      },
      "execution_count": 5,
      "outputs": [
        {
          "output_type": "stream",
          "name": "stdout",
          "text": [
            "Cloning into 'PQClean'...\n",
            "remote: Enumerating objects: 33664, done.\u001b[K\n",
            "remote: Counting objects: 100% (3106/3106), done.\u001b[K\n",
            "remote: Compressing objects: 100% (728/728), done.\u001b[K\n",
            "remote: Total 33664 (delta 2772), reused 2378 (delta 2378), pack-reused 30558 (from 3)\u001b[K\n",
            "Receiving objects: 100% (33664/33664), 7.44 MiB | 17.15 MiB/s, done.\n",
            "Resolving deltas: 100% (26180/26180), done.\n"
          ]
        }
      ]
    },
    {
      "cell_type": "code",
      "source": [
        "!cd PQClean/crypto_kem/ml-kem-512/clean/\n"
      ],
      "metadata": {
        "id": "-0hgSpxcXfgy"
      },
      "execution_count": 14,
      "outputs": []
    },
    {
      "cell_type": "code",
      "source": [
        "code = \"\"\"\n",
        "#include <stdio.h>\n",
        "#include <stdint.h>\n",
        "#include <stdlib.h>\n",
        "#include <string.h>\n",
        "#include \"api.h\"\n",
        "\n",
        "int main() {\n",
        "    uint8_t pk[PQCLEAN_MLKEM512_CLEAN_CRYPTO_PUBLICKEYBYTES];\n",
        "    uint8_t sk[PQCLEAN_MLKEM512_CLEAN_CRYPTO_SECRETKEYBYTES];\n",
        "    uint8_t ct[PQCLEAN_MLKEM512_CLEAN_CRYPTO_CIPHERTEXTBYTES];\n",
        "    uint8_t key_a[PQCLEAN_MLKEM512_CLEAN_CRYPTO_BYTES];\n",
        "    uint8_t key_b[PQCLEAN_MLKEM512_CLEAN_CRYPTO_BYTES];\n",
        "\n",
        "    PQCLEAN_MLKEM512_CLEAN_crypto_kem_keypair(pk, sk);\n",
        "    PQCLEAN_MLKEM512_CLEAN_crypto_kem_enc(ct, key_a, pk);\n",
        "    PQCLEAN_MLKEM512_CLEAN_crypto_kem_dec(key_b, ct, sk);\n",
        "\n",
        "    printf(\"Shared keys match: %s\\\\n\", memcmp(key_a, key_b, PQCLEAN_MLKEM512_CLEAN_CRYPTO_BYTES) == 0 ? \"YES\" : \"NO\");\n",
        "\n",
        "    return 0;\n",
        "}\n",
        "\"\"\"\n",
        "with open(\"test_kyber.c\", \"w\") as f:\n",
        "    f.write(code)\n"
      ],
      "metadata": {
        "id": "2ym9EGl8Xj3K"
      },
      "execution_count": 15,
      "outputs": []
    },
    {
      "cell_type": "code",
      "source": [
        "!gcc -o test_kyber test_kyber.c \\\n",
        "    kem.c indcpa.c verify.c cbd.c ntt.c reduce.c polyvec.c poly.c symmetric-shake.c \\\n",
        "    ../../../common/randombytes.c \\\n",
        "    ../../../common/fips202.c \\\n",
        "    -I . -I ../../../common\n"
      ],
      "metadata": {
        "colab": {
          "base_uri": "https://localhost:8080/"
        },
        "id": "1lYhNbvJXy-Z",
        "outputId": "842096d9-1dcd-4b85-ee92-e2094e3201fd"
      },
      "execution_count": 16,
      "outputs": [
        {
          "output_type": "stream",
          "name": "stdout",
          "text": [
            "\u001b[01m\u001b[Ktest_kyber.c:6:10:\u001b[m\u001b[K \u001b[01;31m\u001b[Kfatal error: \u001b[m\u001b[Kapi.h: No such file or directory\n",
            "    6 | #include \u001b[01;31m\u001b[K\"api.h\"\u001b[m\u001b[K\n",
            "      |          \u001b[01;31m\u001b[K^~~~~~~\u001b[m\u001b[K\n",
            "compilation terminated.\n",
            "\u001b[01m\u001b[Kcc1:\u001b[m\u001b[K \u001b[01;31m\u001b[Kfatal error: \u001b[m\u001b[Kkem.c: No such file or directory\n",
            "compilation terminated.\n",
            "\u001b[01m\u001b[Kcc1:\u001b[m\u001b[K \u001b[01;31m\u001b[Kfatal error: \u001b[m\u001b[Kindcpa.c: No such file or directory\n",
            "compilation terminated.\n",
            "\u001b[01m\u001b[Kcc1:\u001b[m\u001b[K \u001b[01;31m\u001b[Kfatal error: \u001b[m\u001b[Kverify.c: No such file or directory\n",
            "compilation terminated.\n",
            "\u001b[01m\u001b[Kcc1:\u001b[m\u001b[K \u001b[01;31m\u001b[Kfatal error: \u001b[m\u001b[Kcbd.c: No such file or directory\n",
            "compilation terminated.\n",
            "\u001b[01m\u001b[Kcc1:\u001b[m\u001b[K \u001b[01;31m\u001b[Kfatal error: \u001b[m\u001b[Kntt.c: No such file or directory\n",
            "compilation terminated.\n",
            "\u001b[01m\u001b[Kcc1:\u001b[m\u001b[K \u001b[01;31m\u001b[Kfatal error: \u001b[m\u001b[Kreduce.c: No such file or directory\n",
            "compilation terminated.\n",
            "\u001b[01m\u001b[Kcc1:\u001b[m\u001b[K \u001b[01;31m\u001b[Kfatal error: \u001b[m\u001b[Kpolyvec.c: No such file or directory\n",
            "compilation terminated.\n",
            "\u001b[01m\u001b[Kcc1:\u001b[m\u001b[K \u001b[01;31m\u001b[Kfatal error: \u001b[m\u001b[Kpoly.c: No such file or directory\n",
            "compilation terminated.\n",
            "\u001b[01m\u001b[Kcc1:\u001b[m\u001b[K \u001b[01;31m\u001b[Kfatal error: \u001b[m\u001b[Ksymmetric-shake.c: No such file or directory\n",
            "compilation terminated.\n",
            "\u001b[01m\u001b[Kcc1:\u001b[m\u001b[K \u001b[01;31m\u001b[Kfatal error: \u001b[m\u001b[K../../../common/randombytes.c: No such file or directory\n",
            "compilation terminated.\n",
            "\u001b[01m\u001b[Kcc1:\u001b[m\u001b[K \u001b[01;31m\u001b[Kfatal error: \u001b[m\u001b[K../../../common/fips202.c: No such file or directory\n",
            "compilation terminated.\n"
          ]
        }
      ]
    },
    {
      "cell_type": "code",
      "source": [
        "!./test_kyber\n"
      ],
      "metadata": {
        "colab": {
          "base_uri": "https://localhost:8080/"
        },
        "id": "H1mxLnl4aAiP",
        "outputId": "3332c215-ea5d-41f1-c42f-c0e7b78a9112"
      },
      "execution_count": 9,
      "outputs": [
        {
          "output_type": "stream",
          "name": "stdout",
          "text": [
            "/bin/bash: line 1: ./test_kyber: No such file or directory\n"
          ]
        }
      ]
    },
    {
      "cell_type": "code",
      "source": [
        "!gcc -shared -fPIC \\\n",
        "    kem.c indcpa.c verify.c cbd.c ntt.c reduce.c polyvec.c poly.c symmetric-shake.c \\\n",
        "    ../../../common/randombytes.c ../../../common/fips202.c \\\n",
        "    -I . -I ../../../common \\\n",
        "    -o libkyber512.so\n"
      ],
      "metadata": {
        "colab": {
          "base_uri": "https://localhost:8080/"
        },
        "id": "qi1dew0Sc-NC",
        "outputId": "1b010e48-e767-4386-aad9-d17c3bcef1f6"
      },
      "execution_count": 12,
      "outputs": [
        {
          "output_type": "stream",
          "name": "stdout",
          "text": [
            "\u001b[01m\u001b[Kcc1:\u001b[m\u001b[K \u001b[01;31m\u001b[Kfatal error: \u001b[m\u001b[Kkem.c: No such file or directory\n",
            "compilation terminated.\n",
            "\u001b[01m\u001b[Kcc1:\u001b[m\u001b[K \u001b[01;31m\u001b[Kfatal error: \u001b[m\u001b[Kindcpa.c: No such file or directory\n",
            "compilation terminated.\n",
            "\u001b[01m\u001b[Kcc1:\u001b[m\u001b[K \u001b[01;31m\u001b[Kfatal error: \u001b[m\u001b[Kverify.c: No such file or directory\n",
            "compilation terminated.\n",
            "\u001b[01m\u001b[Kcc1:\u001b[m\u001b[K \u001b[01;31m\u001b[Kfatal error: \u001b[m\u001b[Kcbd.c: No such file or directory\n",
            "compilation terminated.\n",
            "\u001b[01m\u001b[Kcc1:\u001b[m\u001b[K \u001b[01;31m\u001b[Kfatal error: \u001b[m\u001b[Kntt.c: No such file or directory\n",
            "compilation terminated.\n",
            "\u001b[01m\u001b[Kcc1:\u001b[m\u001b[K \u001b[01;31m\u001b[Kfatal error: \u001b[m\u001b[Kreduce.c: No such file or directory\n",
            "compilation terminated.\n",
            "\u001b[01m\u001b[Kcc1:\u001b[m\u001b[K \u001b[01;31m\u001b[Kfatal error: \u001b[m\u001b[Kpolyvec.c: No such file or directory\n",
            "compilation terminated.\n",
            "\u001b[01m\u001b[Kcc1:\u001b[m\u001b[K \u001b[01;31m\u001b[Kfatal error: \u001b[m\u001b[Kpoly.c: No such file or directory\n",
            "compilation terminated.\n",
            "\u001b[01m\u001b[Kcc1:\u001b[m\u001b[K \u001b[01;31m\u001b[Kfatal error: \u001b[m\u001b[Ksymmetric-shake.c: No such file or directory\n",
            "compilation terminated.\n",
            "\u001b[01m\u001b[Kcc1:\u001b[m\u001b[K \u001b[01;31m\u001b[Kfatal error: \u001b[m\u001b[K../../../common/randombytes.c: No such file or directory\n",
            "compilation terminated.\n",
            "\u001b[01m\u001b[Kcc1:\u001b[m\u001b[K \u001b[01;31m\u001b[Kfatal error: \u001b[m\u001b[K../../../common/fips202.c: No such file or directory\n",
            "compilation terminated.\n"
          ]
        }
      ]
    },
    {
      "cell_type": "code",
      "source": [
        "import ctypes\n",
        "import os\n",
        "\n",
        "\n",
        "lib = ctypes.CDLL(\"./libkyber512.so\")\n",
        "\n",
        "\n",
        "pk = ctypes.create_string_buffer(800)\n",
        "sk = ctypes.create_string_buffer(1632)\n",
        "ct = ctypes.create_string_buffer(768)\n",
        "ss = ctypes.create_string_buffer(32)\n",
        "\n",
        "\n",
        "lib.PQCLEAN_MLKEM512_CLEAN_crypto_kem_keypair.argtypes = [ctypes.c_char_p, ctypes.c_char_p]\n",
        "lib.PQCLEAN_MLKEM512_CLEAN_crypto_kem_enc.argtypes = [ctypes.c_char_p, ctypes.c_char_p, ctypes.c_char_p]\n",
        "lib.PQCLEAN_MLKEM512_CLEAN_crypto_kem_dec.argtypes = [ctypes.c_char_p, ctypes.c_char_p, ctypes.c_char_p]\n",
        "\n",
        "\n",
        "lib.PQCLEAN_MLKEM512_CLEAN_crypto_kem_keypair(pk, sk)\n",
        "lib.PQCLEAN_MLKEM512_CLEAN_crypto_kem_enc(ct, ss, pk)\n",
        "ss_dec = ctypes.create_string_buffer(32)\n",
        "lib.PQCLEAN_MLKEM512_CLEAN_crypto_kem_dec(ss_dec, ct, sk)\n",
        "\n",
        "\n",
        "print(\"Shared secret match:\", ss.raw == ss_dec.raw)\n"
      ],
      "metadata": {
        "colab": {
          "base_uri": "https://localhost:8080/",
          "height": 332
        },
        "id": "D81-G9wdeVBH",
        "outputId": "1ce409f9-b23c-439c-9711-59537b911dca"
      },
      "execution_count": 11,
      "outputs": [
        {
          "output_type": "error",
          "ename": "OSError",
          "evalue": "./libkyber512.so: cannot open shared object file: No such file or directory",
          "traceback": [
            "\u001b[0;31m---------------------------------------------------------------------------\u001b[0m",
            "\u001b[0;31mOSError\u001b[0m                                   Traceback (most recent call last)",
            "\u001b[0;32m<ipython-input-11-4705d17dc9c9>\u001b[0m in \u001b[0;36m<cell line: 0>\u001b[0;34m()\u001b[0m\n\u001b[1;32m      3\u001b[0m \u001b[0;34m\u001b[0m\u001b[0m\n\u001b[1;32m      4\u001b[0m \u001b[0;34m\u001b[0m\u001b[0m\n\u001b[0;32m----> 5\u001b[0;31m \u001b[0mlib\u001b[0m \u001b[0;34m=\u001b[0m \u001b[0mctypes\u001b[0m\u001b[0;34m.\u001b[0m\u001b[0mCDLL\u001b[0m\u001b[0;34m(\u001b[0m\u001b[0;34m\"./libkyber512.so\"\u001b[0m\u001b[0;34m)\u001b[0m\u001b[0;34m\u001b[0m\u001b[0;34m\u001b[0m\u001b[0m\n\u001b[0m\u001b[1;32m      6\u001b[0m \u001b[0;34m\u001b[0m\u001b[0m\n\u001b[1;32m      7\u001b[0m \u001b[0;34m\u001b[0m\u001b[0m\n",
            "\u001b[0;32m/usr/lib/python3.11/ctypes/__init__.py\u001b[0m in \u001b[0;36m__init__\u001b[0;34m(self, name, mode, handle, use_errno, use_last_error, winmode)\u001b[0m\n\u001b[1;32m    374\u001b[0m \u001b[0;34m\u001b[0m\u001b[0m\n\u001b[1;32m    375\u001b[0m         \u001b[0;32mif\u001b[0m \u001b[0mhandle\u001b[0m \u001b[0;32mis\u001b[0m \u001b[0;32mNone\u001b[0m\u001b[0;34m:\u001b[0m\u001b[0;34m\u001b[0m\u001b[0;34m\u001b[0m\u001b[0m\n\u001b[0;32m--> 376\u001b[0;31m             \u001b[0mself\u001b[0m\u001b[0;34m.\u001b[0m\u001b[0m_handle\u001b[0m \u001b[0;34m=\u001b[0m \u001b[0m_dlopen\u001b[0m\u001b[0;34m(\u001b[0m\u001b[0mself\u001b[0m\u001b[0;34m.\u001b[0m\u001b[0m_name\u001b[0m\u001b[0;34m,\u001b[0m \u001b[0mmode\u001b[0m\u001b[0;34m)\u001b[0m\u001b[0;34m\u001b[0m\u001b[0;34m\u001b[0m\u001b[0m\n\u001b[0m\u001b[1;32m    377\u001b[0m         \u001b[0;32melse\u001b[0m\u001b[0;34m:\u001b[0m\u001b[0;34m\u001b[0m\u001b[0;34m\u001b[0m\u001b[0m\n\u001b[1;32m    378\u001b[0m             \u001b[0mself\u001b[0m\u001b[0;34m.\u001b[0m\u001b[0m_handle\u001b[0m \u001b[0;34m=\u001b[0m \u001b[0mhandle\u001b[0m\u001b[0;34m\u001b[0m\u001b[0;34m\u001b[0m\u001b[0m\n",
            "\u001b[0;31mOSError\u001b[0m: ./libkyber512.so: cannot open shared object file: No such file or directory"
          ]
        }
      ]
    },
    {
      "cell_type": "code",
      "source": [
        "import ctypes\n",
        "import time\n",
        "import statistics\n",
        "\n",
        "\n",
        "lib = ctypes.CDLL(\"./libkyber512.so\")\n",
        "\n",
        "\n",
        "lib.PQCLEAN_MLKEM512_CLEAN_crypto_kem_keypair.argtypes = [ctypes.c_char_p, ctypes.c_char_p]\n",
        "\n",
        "\n",
        "CRYPTO_PUBLICKEYBYTES = 800\n",
        "CRYPTO_SECRETKEYBYTES = 1632\n",
        "\n",
        "\n",
        "trials = 1000\n",
        "times = []\n",
        "\n",
        "for _ in range(trials):\n",
        "    pk = ctypes.create_string_buffer(CRYPTO_PUBLICKEYBYTES)\n",
        "    sk = ctypes.create_string_buffer(CRYPTO_SECRETKEYBYTES)\n",
        "\n",
        "    start = time.perf_counter()\n",
        "    lib.PQCLEAN_MLKEM512_CLEAN_crypto_kem_keypair(pk, sk)\n",
        "    end = time.perf_counter()\n",
        "\n",
        "    times.append((end - start) * 1000)  # ms\n",
        "\n",
        "\n",
        "print(f\"Ran {trials} trials of Kyber-512 key generation\")\n",
        "print(f\"Average time: {statistics.mean(times):.3f} ms\")\n",
        "print(f\"Min time: {min(times):.3f} ms\")\n",
        "print(f\"Max time: {max(times):.3f} ms\")\n",
        "print(f\"Standard deviation: {statistics.stdev(times):.3f} ms\")\n"
      ],
      "metadata": {
        "colab": {
          "base_uri": "https://localhost:8080/"
        },
        "id": "CPawqJt8fDek",
        "outputId": "a012c3aa-3aac-4e0e-a790-4bfae40072a3"
      },
      "execution_count": 9,
      "outputs": [
        {
          "output_type": "stream",
          "name": "stdout",
          "text": [
            "Ran 1000 trials of Kyber-512 key generation\n",
            "Average time: 0.207 ms\n",
            "Min time: 0.197 ms\n",
            "Max time: 0.389 ms\n",
            "Standard deviation: 0.016 ms\n"
          ]
        }
      ]
    },
    {
      "cell_type": "code",
      "source": [
        "import ctypes\n",
        "import time\n",
        "import statistics\n",
        "\n",
        "lib = ctypes.CDLL(\"./libkyber512.so\")\n",
        "\n",
        "KYBER_PUBLICKEYBYTES  = 800\n",
        "KYBER_SECRETKEYBYTES  = 1632\n",
        "KYBER_CIPHERTEXTBYTES = 768\n",
        "KYBER_SSBYTES         = 32\n",
        "\n",
        "\n",
        "keypair = lib.PQCLEAN_MLKEM512_CLEAN_crypto_kem_keypair\n",
        "keypair.argtypes = [ctypes.c_char_p, ctypes.c_char_p]\n",
        "keypair.restype  = ctypes.c_int\n",
        "\n",
        "encapsulate = lib.PQCLEAN_MLKEM512_CLEAN_crypto_kem_enc\n",
        "encapsulate.argtypes = [ctypes.c_char_p, ctypes.c_char_p, ctypes.c_char_p]\n",
        "encapsulate.restype  = ctypes.c_int\n",
        "\n",
        "decapsulate = lib.PQCLEAN_MLKEM512_CLEAN_crypto_kem_dec\n",
        "decapsulate.argtypes = [ctypes.c_char_p, ctypes.c_char_p, ctypes.c_char_p]\n",
        "decapsulate.restype  = ctypes.c_int\n",
        "\n",
        "def functional_test():\n",
        "    pk = ctypes.create_string_buffer(KYBER_PUBLICKEYBYTES)\n",
        "    sk = ctypes.create_string_buffer(KYBER_SECRETKEYBYTES)\n",
        "    ct = ctypes.create_string_buffer(KYBER_CIPHERTEXTBYTES)\n",
        "    ss = ctypes.create_string_buffer(KYBER_SSBYTES)\n",
        "    ss_dec = ctypes.create_string_buffer(KYBER_SSBYTES)\n",
        "\n",
        "    assert keypair(pk, sk) == 0, \"Keypair failed\"\n",
        "    assert encapsulate(ct, ss, pk) == 0, \"Encapsulation failed\"\n",
        "    assert decapsulate(ss_dec, ct, sk) == 0, \"Decapsulation failed\"\n",
        "\n",
        "    match = ss.raw == ss_dec.raw\n",
        "    print(f\"[Functional] Shared secret match: {match}\")\n",
        "\n",
        "def benchmark(fn, buf_sizes, trials=1000):\n",
        "    \"\"\"Run fn(bufs...) for trials and return list of ms timings.\"\"\"\n",
        "    times = []\n",
        "    for _ in range(trials):\n",
        "        bufs = [ctypes.create_string_buffer(sz) for sz in buf_sizes]\n",
        "        start = time.perf_counter()\n",
        "        assert fn(*bufs) == 0\n",
        "        end = time.perf_counter()\n",
        "        times.append((end - start) * 1000)\n",
        "    return times\n",
        "\n",
        "def print_stats(name, times):\n",
        "    print(f\"[Benchmark] {name}:\")\n",
        "    print(f\"  avg = {statistics.mean(times):.3f} ms\")\n",
        "    print(f\"  min = {min(times):.3f} ms\")\n",
        "    print(f\"  max = {max(times):.3f} ms\")\n",
        "    print(f\"  std = {statistics.stdev(times):.3f} ms\")\n",
        "\n",
        "\n",
        "if __name__ == \"__main__\":\n",
        "    # 1) Functional correctness\n",
        "    functional_test()\n",
        "\n",
        "    # 2) Benchmarks\n",
        "    trials = 1000\n",
        "    # Key generation\n",
        "    t_keygen = benchmark(keypair, [KYBER_PUBLICKEYBYTES, KYBER_SECRETKEYBYTES], trials)\n",
        "    print_stats(\"Kyber KeyGen\", t_keygen)\n",
        "\n",
        "    # Encapsulation\n",
        "    t_enc = benchmark(encapsulate,\n",
        "                      [KYBER_CIPHERTEXTBYTES, KYBER_SSBYTES, KYBER_PUBLICKEYBYTES],\n",
        "                      trials)\n",
        "    print_stats(\"Kyber Encapsulate\", t_enc)\n",
        "\n",
        "    # Decapsulation\n",
        "    t_dec = benchmark(decapsulate,\n",
        "                      [KYBER_SSBYTES, KYBER_CIPHERTEXTBYTES, KYBER_SECRETKEYBYTES],\n",
        "                      trials)\n",
        "    print_stats(\"Kyber Decapsulate\", t_dec)\n"
      ],
      "metadata": {
        "colab": {
          "base_uri": "https://localhost:8080/"
        },
        "id": "to3E9OvFAQQw",
        "outputId": "83efa694-403e-425e-d69e-91f831dfe232"
      },
      "execution_count": 10,
      "outputs": [
        {
          "output_type": "stream",
          "name": "stdout",
          "text": [
            "[Functional] Shared secret match: True\n",
            "[Benchmark] Kyber KeyGen:\n",
            "  avg = 0.211 ms\n",
            "  min = 0.197 ms\n",
            "  max = 0.760 ms\n",
            "  std = 0.033 ms\n",
            "[Benchmark] Kyber Encapsulate:\n",
            "  avg = 0.264 ms\n",
            "  min = 0.247 ms\n",
            "  max = 0.822 ms\n",
            "  std = 0.029 ms\n",
            "[Benchmark] Kyber Decapsulate:\n",
            "  avg = 0.357 ms\n",
            "  min = 0.323 ms\n",
            "  max = 1.688 ms\n",
            "  std = 0.067 ms\n"
          ]
        }
      ]
    },
    {
      "cell_type": "code",
      "source": [
        "!pip install psutil\n"
      ],
      "metadata": {
        "colab": {
          "base_uri": "https://localhost:8080/"
        },
        "id": "SbNG82ttGg7A",
        "outputId": "30526d9f-824e-47dc-90eb-1ceb58c25a9b"
      },
      "execution_count": 13,
      "outputs": [
        {
          "output_type": "stream",
          "name": "stdout",
          "text": [
            "Requirement already satisfied: psutil in /usr/local/lib/python3.11/dist-packages (5.9.5)\n"
          ]
        }
      ]
    },
    {
      "cell_type": "code",
      "source": [
        "import ctypes\n",
        "import psutil\n",
        "import time\n",
        "\n",
        "\n",
        "lib = ctypes.CDLL(\"./libkyber512.so\")\n",
        "\n",
        "keypair = lib.PQCLEAN_MLKEM512_CLEAN_crypto_kem_keypair\n",
        "keypair.argtypes = [ctypes.c_void_p, ctypes.c_void_p]\n",
        "keypair.restype  = ctypes.c_int\n",
        "\n",
        "\n",
        "KYBER_PK = 800\n",
        "KYBER_SK = 1632\n",
        "\n",
        "\n",
        "proc = psutil.Process()\n",
        "\n",
        "\n",
        "pk = ctypes.create_string_buffer(KYBER_PK)\n",
        "sk = ctypes.create_string_buffer(KYBER_SK)\n",
        "keypair(pk, sk)\n",
        "\n",
        "# Force a short sleep to let OS settle memory\n",
        "time.sleep(0.1)\n",
        "\n",
        "\n",
        "mem_before = proc.memory_info().rss\n",
        "\n",
        "\n",
        "pk = ctypes.create_string_buffer(KYBER_PK)\n",
        "sk = ctypes.create_string_buffer(KYBER_SK)\n",
        "keypair(pk, sk)\n",
        "\n",
        "mem_after = proc.memory_info().rss\n",
        "\n",
        "print(f\"Kyber-512 KeyGen Memory (RSS):\")\n",
        "print(f\"  Before: {mem_before/1024:.1f} KB\")\n",
        "print(f\"  After:  {mem_after/1024:.1f} KB\")\n",
        "print(f\"  Delta:  {(mem_after-mem_before)/1024:.1f} KB\")\n"
      ],
      "metadata": {
        "colab": {
          "base_uri": "https://localhost:8080/"
        },
        "id": "bqHl_jw3HqFz",
        "outputId": "7e151692-2848-4744-f92e-fa32ce75df0a"
      },
      "execution_count": 14,
      "outputs": [
        {
          "output_type": "stream",
          "name": "stdout",
          "text": [
            "Kyber-512 KeyGen Memory (RSS):\n",
            "  Before: 289248.0 KB\n",
            "  After:  289248.0 KB\n",
            "  Delta:  0.0 KB\n"
          ]
        }
      ]
    },
    {
      "cell_type": "code",
      "source": [
        "\n",
        "%%shell\n",
        "/usr/bin/time -f \"Kyber-512 KeyGen PeakRSS: %M KB\" python3 - << 'PYCODE'\n",
        "import ctypes\n",
        "\n",
        "lib = ctypes.CDLL(\"./libkyber512.so\")\n",
        "kp  = lib.PQCLEAN_MLKEM512_CLEAN_crypto_kem_keypair\n",
        "kp.argtypes = [ctypes.c_void_p, ctypes.c_void_p]\n",
        "\n",
        "pk = ctypes.create_string_buffer(800)\n",
        "sk = ctypes.create_string_buffer(1632)\n",
        "kp(pk, sk)\n",
        "PYCODE\n"
      ],
      "metadata": {
        "colab": {
          "base_uri": "https://localhost:8080/"
        },
        "id": "qFYtAGQhJOGB",
        "outputId": "0d361554-055d-4038-8a55-3bb3965e3455"
      },
      "execution_count": 16,
      "outputs": [
        {
          "output_type": "stream",
          "name": "stdout",
          "text": [
            "Kyber-512 KeyGen PeakRSS: 13580 KB\n"
          ]
        },
        {
          "output_type": "execute_result",
          "data": {
            "text/plain": []
          },
          "metadata": {},
          "execution_count": 16
        }
      ]
    },
    {
      "cell_type": "code",
      "source": [
        "import ctypes\n",
        "import time\n",
        "\n",
        "kyber = ctypes.CDLL(\"./libkyber512.so\")\n",
        "keypair = lib.PQCLEAN_MLKEM512_CLEAN_crypto_kem_keypair\n",
        "keypair.argtypes = [ctypes.c_char_p, ctypes.c_char_p]\n",
        "keypair.restype  = ctypes.c_int\n",
        "\n",
        "encapsulate = lib.PQCLEAN_MLKEM512_CLEAN_crypto_kem_enc\n",
        "encapsulate.argtypes = [ctypes.c_char_p, ctypes.c_char_p, ctypes.c_char_p]\n",
        "encapsulate.restype  = ctypes.c_int\n",
        "\n",
        "decapsulate = lib.PQCLEAN_MLKEM512_CLEAN_crypto_kem_dec\n",
        "decapsulate.argtypes = [ctypes.c_char_p, ctypes.c_char_p, ctypes.c_char_p]\n",
        "decapsulate.restype  = ctypes.c_int\n",
        "\n",
        "\n",
        "pk = ctypes.create_string_buffer(800)\n",
        "sk = ctypes.create_string_buffer(1600)\n",
        "ct = ctypes.create_string_buffer(768)\n",
        "ss = ctypes.create_string_buffer(32)\n",
        "\n",
        "start = time.perf_counter_ns()\n",
        "keypair(pk, sk)\n",
        "keygen_time = time.perf_counter_ns() - start\n",
        "\n",
        "start = time.perf_counter_ns()\n",
        "encapsulate(ct, ss, pk)\n",
        "enc_time = time.perf_counter_ns() - start\n",
        "\n",
        "start = time.perf_counter_ns()\n",
        "decapsulate(ss, ct, sk)\n",
        "dec_time = time.perf_counter_ns() - start\n",
        "\n",
        "\n",
        "keygen_time //= 1000\n",
        "enc_time    //= 1000\n",
        "dec_time    //= 1000\n",
        "\n",
        "print(\"KeyGen:\", keygen_time, \"µs\")\n",
        "print(\"Encapsulation:\", enc_time, \"µs\")\n",
        "print(\"Decapsulation:\", dec_time, \"µs\")\n"
      ],
      "metadata": {
        "colab": {
          "base_uri": "https://localhost:8080/"
        },
        "id": "pMrb3XUhL18y",
        "outputId": "4873dfa3-a838-4aa0-ae26-4c7e5bbc92f8"
      },
      "execution_count": 18,
      "outputs": [
        {
          "output_type": "stream",
          "name": "stdout",
          "text": [
            "KeyGen: 1596 µs\n",
            "Encapsulation: 546 µs\n",
            "Decapsulation: 686 µs\n"
          ]
        }
      ]
    },
    {
      "cell_type": "code",
      "source": [
        "!lscpu\n"
      ],
      "metadata": {
        "colab": {
          "base_uri": "https://localhost:8080/"
        },
        "id": "1-9XamqRZYOY",
        "outputId": "a0a48324-6b5b-4fda-de17-b9204fce71e8"
      },
      "execution_count": 20,
      "outputs": [
        {
          "output_type": "stream",
          "name": "stdout",
          "text": [
            "Architecture:             x86_64\n",
            "  CPU op-mode(s):         32-bit, 64-bit\n",
            "  Address sizes:          46 bits physical, 48 bits virtual\n",
            "  Byte Order:             Little Endian\n",
            "CPU(s):                   2\n",
            "  On-line CPU(s) list:    0,1\n",
            "Vendor ID:                GenuineIntel\n",
            "  Model name:             Intel(R) Xeon(R) CPU @ 2.20GHz\n",
            "    CPU family:           6\n",
            "    Model:                79\n",
            "    Thread(s) per core:   2\n",
            "    Core(s) per socket:   1\n",
            "    Socket(s):            1\n",
            "    Stepping:             0\n",
            "    BogoMIPS:             4399.99\n",
            "    Flags:                fpu vme de pse tsc msr pae mce cx8 apic sep mtrr pge mca cmov pat pse36 cl\n",
            "                          flush mmx fxsr sse sse2 ss ht syscall nx pdpe1gb rdtscp lm constant_tsc re\n",
            "                          p_good nopl xtopology nonstop_tsc cpuid tsc_known_freq pni pclmulqdq ssse3\n",
            "                           fma cx16 pcid sse4_1 sse4_2 x2apic movbe popcnt aes xsave avx f16c rdrand\n",
            "                           hypervisor lahf_lm abm 3dnowprefetch invpcid_single ssbd ibrs ibpb stibp \n",
            "                          fsgsbase tsc_adjust bmi1 hle avx2 smep bmi2 erms invpcid rtm rdseed adx sm\n",
            "                          ap xsaveopt arat md_clear arch_capabilities\n",
            "Virtualization features:  \n",
            "  Hypervisor vendor:      KVM\n",
            "  Virtualization type:    full\n",
            "Caches (sum of all):      \n",
            "  L1d:                    32 KiB (1 instance)\n",
            "  L1i:                    32 KiB (1 instance)\n",
            "  L2:                     256 KiB (1 instance)\n",
            "  L3:                     55 MiB (1 instance)\n",
            "NUMA:                     \n",
            "  NUMA node(s):           1\n",
            "  NUMA node0 CPU(s):      0,1\n",
            "Vulnerabilities:          \n",
            "  Gather data sampling:   Not affected\n",
            "  Itlb multihit:          Not affected\n",
            "  L1tf:                   Mitigation; PTE Inversion\n",
            "  Mds:                    Vulnerable; SMT Host state unknown\n",
            "  Meltdown:               Vulnerable\n",
            "  Mmio stale data:        Vulnerable\n",
            "  Reg file data sampling: Not affected\n",
            "  Retbleed:               Vulnerable\n",
            "  Spec rstack overflow:   Not affected\n",
            "  Spec store bypass:      Vulnerable\n",
            "  Spectre v1:             Vulnerable: __user pointer sanitization and usercopy barriers only; no swa\n",
            "                          pgs barriers\n",
            "  Spectre v2:             Vulnerable; IBPB: disabled; STIBP: disabled; PBRSB-eIBRS: Not affected; BH\n",
            "                          I: Vulnerable\n",
            "  Srbds:                  Not affected\n",
            "  Tsx async abort:        Vulnerable\n"
          ]
        }
      ]
    },
    {
      "cell_type": "code",
      "source": [
        "!free -h\n"
      ],
      "metadata": {
        "colab": {
          "base_uri": "https://localhost:8080/"
        },
        "id": "jvsr_wiAZpin",
        "outputId": "5548f540-de47-412f-abe4-f64728807804"
      },
      "execution_count": 21,
      "outputs": [
        {
          "output_type": "stream",
          "name": "stdout",
          "text": [
            "               total        used        free      shared  buff/cache   available\n",
            "Mem:            12Gi       870Mi       8.1Gi       2.0Mi       3.7Gi        11Gi\n",
            "Swap:             0B          0B          0B\n"
          ]
        }
      ]
    },
    {
      "cell_type": "code",
      "source": [
        "!cat /proc/cpuinfo\n",
        "!cat /proc/meminfo\n"
      ],
      "metadata": {
        "colab": {
          "base_uri": "https://localhost:8080/"
        },
        "id": "wzGPZmoIZUFn",
        "outputId": "c566cce1-6fba-4177-aa08-a381489861ae"
      },
      "execution_count": 19,
      "outputs": [
        {
          "output_type": "stream",
          "name": "stdout",
          "text": [
            "processor\t: 0\n",
            "vendor_id\t: GenuineIntel\n",
            "cpu family\t: 6\n",
            "model\t\t: 79\n",
            "model name\t: Intel(R) Xeon(R) CPU @ 2.20GHz\n",
            "stepping\t: 0\n",
            "microcode\t: 0xffffffff\n",
            "cpu MHz\t\t: 2199.998\n",
            "cache size\t: 56320 KB\n",
            "physical id\t: 0\n",
            "siblings\t: 2\n",
            "core id\t\t: 0\n",
            "cpu cores\t: 1\n",
            "apicid\t\t: 0\n",
            "initial apicid\t: 0\n",
            "fpu\t\t: yes\n",
            "fpu_exception\t: yes\n",
            "cpuid level\t: 13\n",
            "wp\t\t: yes\n",
            "flags\t\t: fpu vme de pse tsc msr pae mce cx8 apic sep mtrr pge mca cmov pat pse36 clflush mmx fxsr sse sse2 ss ht syscall nx pdpe1gb rdtscp lm constant_tsc rep_good nopl xtopology nonstop_tsc cpuid tsc_known_freq pni pclmulqdq ssse3 fma cx16 pcid sse4_1 sse4_2 x2apic movbe popcnt aes xsave avx f16c rdrand hypervisor lahf_lm abm 3dnowprefetch invpcid_single ssbd ibrs ibpb stibp fsgsbase tsc_adjust bmi1 hle avx2 smep bmi2 erms invpcid rtm rdseed adx smap xsaveopt arat md_clear arch_capabilities\n",
            "bugs\t\t: cpu_meltdown spectre_v1 spectre_v2 spec_store_bypass l1tf mds swapgs taa mmio_stale_data retbleed bhi\n",
            "bogomips\t: 4399.99\n",
            "clflush size\t: 64\n",
            "cache_alignment\t: 64\n",
            "address sizes\t: 46 bits physical, 48 bits virtual\n",
            "power management:\n",
            "\n",
            "processor\t: 1\n",
            "vendor_id\t: GenuineIntel\n",
            "cpu family\t: 6\n",
            "model\t\t: 79\n",
            "model name\t: Intel(R) Xeon(R) CPU @ 2.20GHz\n",
            "stepping\t: 0\n",
            "microcode\t: 0xffffffff\n",
            "cpu MHz\t\t: 2199.998\n",
            "cache size\t: 56320 KB\n",
            "physical id\t: 0\n",
            "siblings\t: 2\n",
            "core id\t\t: 0\n",
            "cpu cores\t: 1\n",
            "apicid\t\t: 1\n",
            "initial apicid\t: 1\n",
            "fpu\t\t: yes\n",
            "fpu_exception\t: yes\n",
            "cpuid level\t: 13\n",
            "wp\t\t: yes\n",
            "flags\t\t: fpu vme de pse tsc msr pae mce cx8 apic sep mtrr pge mca cmov pat pse36 clflush mmx fxsr sse sse2 ss ht syscall nx pdpe1gb rdtscp lm constant_tsc rep_good nopl xtopology nonstop_tsc cpuid tsc_known_freq pni pclmulqdq ssse3 fma cx16 pcid sse4_1 sse4_2 x2apic movbe popcnt aes xsave avx f16c rdrand hypervisor lahf_lm abm 3dnowprefetch invpcid_single ssbd ibrs ibpb stibp fsgsbase tsc_adjust bmi1 hle avx2 smep bmi2 erms invpcid rtm rdseed adx smap xsaveopt arat md_clear arch_capabilities\n",
            "bugs\t\t: cpu_meltdown spectre_v1 spectre_v2 spec_store_bypass l1tf mds swapgs taa mmio_stale_data retbleed bhi\n",
            "bogomips\t: 4399.99\n",
            "clflush size\t: 64\n",
            "cache_alignment\t: 64\n",
            "address sizes\t: 46 bits physical, 48 bits virtual\n",
            "power management:\n",
            "\n",
            "MemTotal:       13289424 kB\n",
            "MemFree:         8513908 kB\n",
            "MemAvailable:   12077008 kB\n",
            "Buffers:          460712 kB\n",
            "Cached:          3268220 kB\n",
            "SwapCached:            0 kB\n",
            "Active:           983184 kB\n",
            "Inactive:        3492264 kB\n",
            "Active(anon):       1528 kB\n",
            "Inactive(anon):   747084 kB\n",
            "Active(file):     981656 kB\n",
            "Inactive(file):  2745180 kB\n",
            "Unevictable:           8 kB\n",
            "Mlocked:               8 kB\n",
            "SwapTotal:             0 kB\n",
            "SwapFree:              0 kB\n",
            "Dirty:               256 kB\n",
            "Writeback:             0 kB\n",
            "AnonPages:        746692 kB\n",
            "Mapped:           378332 kB\n",
            "Shmem:              2088 kB\n",
            "KReclaimable:     154408 kB\n",
            "Slab:             196592 kB\n",
            "SReclaimable:     154408 kB\n",
            "SUnreclaim:        42184 kB\n",
            "KernelStack:        5312 kB\n",
            "PageTables:        11876 kB\n",
            "SecPageTables:         0 kB\n",
            "NFS_Unstable:          0 kB\n",
            "Bounce:                0 kB\n",
            "WritebackTmp:          0 kB\n",
            "CommitLimit:     6644712 kB\n",
            "Committed_AS:    2781808 kB\n",
            "VmallocTotal:   34359738367 kB\n",
            "VmallocUsed:       11960 kB\n",
            "VmallocChunk:          0 kB\n",
            "Percpu:             1072 kB\n",
            "HardwareCorrupted:     0 kB\n",
            "AnonHugePages:         0 kB\n",
            "ShmemHugePages:        0 kB\n",
            "ShmemPmdMapped:        0 kB\n",
            "FileHugePages:         0 kB\n",
            "FilePmdMapped:         0 kB\n",
            "CmaTotal:              0 kB\n",
            "CmaFree:               0 kB\n",
            "Unaccepted:            0 kB\n",
            "HugePages_Total:       0\n",
            "HugePages_Free:        0\n",
            "HugePages_Rsvd:        0\n",
            "HugePages_Surp:        0\n",
            "Hugepagesize:       2048 kB\n",
            "Hugetlb:               0 kB\n",
            "DirectMap4k:       70448 kB\n",
            "DirectMap2M:     5169152 kB\n",
            "DirectMap1G:    10485760 kB\n"
          ]
        }
      ]
    },
    {
      "cell_type": "code",
      "source": [
        "!pip install pyRAPL\n"
      ],
      "metadata": {
        "colab": {
          "base_uri": "https://localhost:8080/"
        },
        "id": "sQ0jngQ9XjF5",
        "outputId": "e769d0cb-9f31-4277-ca47-f467572ba3fb"
      },
      "execution_count": 3,
      "outputs": [
        {
          "output_type": "stream",
          "name": "stdout",
          "text": [
            "Requirement already satisfied: pyRAPL in /usr/local/lib/python3.11/dist-packages (0.2.3.1)\n"
          ]
        }
      ]
    },
    {
      "cell_type": "code",
      "source": [
        "\n",
        "# following code will work on laptop and Raspberry Pi only, not on collab.\n",
        "import ctypes\n",
        "import pyRAPL\n",
        "import sys\n",
        "\n",
        "\n",
        "pyRAPL.setup()\n",
        "meter = pyRAPL.Measurement('kyber_full_kem')\n",
        "\n",
        "\n",
        "lib = ctypes.CDLL(\"./libkyber512.so\")\n",
        "kp = lib.PQCLEAN_MLKEM512_CLEAN_crypto_kem_keypair\n",
        "enc = lib.PQCLEAN_MLKEM512_CLEAN_crypto_kem_enc\n",
        "dec = lib.PQCLEAN_MLKEM512_CLEAN_crypto_kem_dec\n",
        "\n",
        "kp.argtypes = [ctypes.c_void_p, ctypes.c_void_p]\n",
        "enc.argtypes = [ctypes.c_void_p, ctypes.c_void_p, ctypes.c_void_p]\n",
        "dec.argtypes = [ctypes.c_void_p, ctypes.c_void_p, ctypes.c_void_p]\n",
        "\n",
        "\n",
        "PK_BYTES = 800\n",
        "SK_BYTES = 1632\n",
        "CT_BYTES = 768\n",
        "SS_BYTES = 32\n",
        "\n",
        "pk = ctypes.create_string_buffer(PK_BYTES)\n",
        "sk = ctypes.create_string_buffer(SK_BYTES)\n",
        "ct = ctypes.create_string_buffer(CT_BYTES)\n",
        "ss = ctypes.create_string_buffer(SS_BYTES)\n",
        "\n",
        "\n",
        "meter.begin()\n",
        "kp(pk, sk)\n",
        "enc(ct, ss, pk)\n",
        "dec(ss, ct, sk)\n",
        "meter.end()\n",
        "\n",
        "print(\"Kyber-512 full KEM energy (µJ):\", meter.result.pkg)\n"
      ],
      "metadata": {
        "colab": {
          "base_uri": "https://localhost:8080/",
          "height": 373
        },
        "id": "zrnJregjXs6F",
        "outputId": "ed125b78-55ef-455c-db8e-a817e3b64ba4"
      },
      "execution_count": 4,
      "outputs": [
        {
          "output_type": "error",
          "ename": "PyRAPLCantRecordEnergyConsumption",
          "evalue": "",
          "traceback": [
            "\u001b[0;31m---------------------------------------------------------------------------\u001b[0m",
            "\u001b[0;31mPyRAPLCantRecordEnergyConsumption\u001b[0m         Traceback (most recent call last)",
            "\u001b[0;32m<ipython-input-4-5704e676a2cd>\u001b[0m in \u001b[0;36m<cell line: 0>\u001b[0;34m()\u001b[0m\n\u001b[1;32m      5\u001b[0m \u001b[0;34m\u001b[0m\u001b[0m\n\u001b[1;32m      6\u001b[0m \u001b[0;31m# Initialize RAPL measurement\u001b[0m\u001b[0;34m\u001b[0m\u001b[0;34m\u001b[0m\u001b[0m\n\u001b[0;32m----> 7\u001b[0;31m \u001b[0mpyRAPL\u001b[0m\u001b[0;34m.\u001b[0m\u001b[0msetup\u001b[0m\u001b[0;34m(\u001b[0m\u001b[0;34m)\u001b[0m\u001b[0;34m\u001b[0m\u001b[0;34m\u001b[0m\u001b[0m\n\u001b[0m\u001b[1;32m      8\u001b[0m \u001b[0mmeter\u001b[0m \u001b[0;34m=\u001b[0m \u001b[0mpyRAPL\u001b[0m\u001b[0;34m.\u001b[0m\u001b[0mMeasurement\u001b[0m\u001b[0;34m(\u001b[0m\u001b[0;34m'kyber_full_kem'\u001b[0m\u001b[0;34m)\u001b[0m\u001b[0;34m\u001b[0m\u001b[0;34m\u001b[0m\u001b[0m\n\u001b[1;32m      9\u001b[0m \u001b[0;34m\u001b[0m\u001b[0m\n",
            "\u001b[0;32m/usr/local/lib/python3.11/dist-packages/pyRAPL/pyRAPL.py\u001b[0m in \u001b[0;36msetup\u001b[0;34m(devices, socket_ids)\u001b[0m\n\u001b[1;32m     37\u001b[0m     \u001b[0;34m:\u001b[0m\u001b[0;32mraise\u001b[0m \u001b[0mPyRAPLBadSocketIdException\u001b[0m\u001b[0;34m:\u001b[0m \u001b[0;32mif\u001b[0m \u001b[0mthe\u001b[0m \u001b[0mgiven\u001b[0m \u001b[0msocket\u001b[0m \u001b[0;32min\u001b[0m \u001b[0mparameter\u001b[0m \u001b[0mdoesn\u001b[0m\u001b[0;31m'\u001b[0m\u001b[0mt\u001b[0m \u001b[0mexist\u001b[0m\u001b[0;34m\u001b[0m\u001b[0;34m\u001b[0m\u001b[0m\n\u001b[1;32m     38\u001b[0m     \"\"\"\n\u001b[0;32m---> 39\u001b[0;31m     \u001b[0mpyRAPL\u001b[0m\u001b[0;34m.\u001b[0m\u001b[0m_sensor\u001b[0m \u001b[0;34m=\u001b[0m \u001b[0mSensor\u001b[0m\u001b[0;34m(\u001b[0m\u001b[0mdevices\u001b[0m\u001b[0;34m=\u001b[0m\u001b[0mdevices\u001b[0m\u001b[0;34m,\u001b[0m \u001b[0msocket_ids\u001b[0m\u001b[0;34m=\u001b[0m\u001b[0msocket_ids\u001b[0m\u001b[0;34m)\u001b[0m\u001b[0;34m\u001b[0m\u001b[0;34m\u001b[0m\u001b[0m\n\u001b[0m",
            "\u001b[0;32m/usr/local/lib/python3.11/dist-packages/pyRAPL/sensor.py\u001b[0m in \u001b[0;36m__init__\u001b[0;34m(self, devices, socket_ids)\u001b[0m\n\u001b[1;32m     66\u001b[0m \u001b[0;34m\u001b[0m\u001b[0m\n\u001b[1;32m     67\u001b[0m         \u001b[0;32mif\u001b[0m \u001b[0;32mnot\u001b[0m \u001b[0mself\u001b[0m\u001b[0;34m.\u001b[0m\u001b[0m_available_devices\u001b[0m\u001b[0;34m:\u001b[0m\u001b[0;34m\u001b[0m\u001b[0;34m\u001b[0m\u001b[0m\n\u001b[0;32m---> 68\u001b[0;31m             \u001b[0;32mraise\u001b[0m \u001b[0mPyRAPLCantRecordEnergyConsumption\u001b[0m\u001b[0;34m(\u001b[0m\u001b[0;32mNone\u001b[0m\u001b[0;34m)\u001b[0m\u001b[0;34m\u001b[0m\u001b[0;34m\u001b[0m\u001b[0m\n\u001b[0m\u001b[1;32m     69\u001b[0m \u001b[0;34m\u001b[0m\u001b[0m\n\u001b[1;32m     70\u001b[0m         \u001b[0mself\u001b[0m\u001b[0;34m.\u001b[0m\u001b[0m_socket_ids\u001b[0m \u001b[0;34m=\u001b[0m \u001b[0msocket_ids\u001b[0m \u001b[0;32mif\u001b[0m \u001b[0msocket_ids\u001b[0m \u001b[0;32mis\u001b[0m \u001b[0;32mnot\u001b[0m \u001b[0;32mNone\u001b[0m \u001b[0;32melse\u001b[0m \u001b[0mlist\u001b[0m\u001b[0;34m(\u001b[0m\u001b[0mself\u001b[0m\u001b[0;34m.\u001b[0m\u001b[0m_device_api\u001b[0m\u001b[0;34m.\u001b[0m\u001b[0mvalues\u001b[0m\u001b[0;34m(\u001b[0m\u001b[0;34m)\u001b[0m\u001b[0;34m)\u001b[0m\u001b[0;34m[\u001b[0m\u001b[0;36m0\u001b[0m\u001b[0;34m]\u001b[0m\u001b[0;34m.\u001b[0m\u001b[0m_socket_ids\u001b[0m\u001b[0;34m\u001b[0m\u001b[0;34m\u001b[0m\u001b[0m\n",
            "\u001b[0;31mPyRAPLCantRecordEnergyConsumption\u001b[0m: "
          ]
        }
      ]
    },
    {
      "cell_type": "code",
      "source": [],
      "metadata": {
        "colab": {
          "base_uri": "https://localhost:8080/",
          "height": 332
        },
        "collapsed": true,
        "id": "jbW0UxB3ZdgT",
        "outputId": "ff9034ab-fbc6-4337-c5d2-08d01a95cc38"
      },
      "execution_count": 5,
      "outputs": [
        {
          "output_type": "error",
          "ename": "KeyboardInterrupt",
          "evalue": "",
          "traceback": [
            "\u001b[0;31m---------------------------------------------------------------------------\u001b[0m",
            "\u001b[0;31mKeyboardInterrupt\u001b[0m                         Traceback (most recent call last)",
            "\u001b[0;32m<ipython-input-5-847024ad60be>\u001b[0m in \u001b[0;36m<cell line: 0>\u001b[0;34m()\u001b[0m\n\u001b[1;32m      6\u001b[0m \u001b[0msock\u001b[0m\u001b[0;34m.\u001b[0m\u001b[0mbind\u001b[0m\u001b[0;34m(\u001b[0m\u001b[0;34m(\u001b[0m\u001b[0mHOST\u001b[0m\u001b[0;34m,\u001b[0m \u001b[0mPORT\u001b[0m\u001b[0;34m)\u001b[0m\u001b[0;34m)\u001b[0m\u001b[0;34m\u001b[0m\u001b[0;34m\u001b[0m\u001b[0m\n\u001b[1;32m      7\u001b[0m \u001b[0msock\u001b[0m\u001b[0;34m.\u001b[0m\u001b[0mlisten\u001b[0m\u001b[0;34m(\u001b[0m\u001b[0;36m1\u001b[0m\u001b[0;34m)\u001b[0m\u001b[0;34m\u001b[0m\u001b[0;34m\u001b[0m\u001b[0m\n\u001b[0;32m----> 8\u001b[0;31m \u001b[0mconn\u001b[0m\u001b[0;34m,\u001b[0m \u001b[0m_\u001b[0m \u001b[0;34m=\u001b[0m \u001b[0msock\u001b[0m\u001b[0;34m.\u001b[0m\u001b[0maccept\u001b[0m\u001b[0;34m(\u001b[0m\u001b[0;34m)\u001b[0m\u001b[0;34m\u001b[0m\u001b[0;34m\u001b[0m\u001b[0m\n\u001b[0m\u001b[1;32m      9\u001b[0m \u001b[0;34m\u001b[0m\u001b[0m\n\u001b[1;32m     10\u001b[0m \u001b[0mdata\u001b[0m \u001b[0;34m=\u001b[0m \u001b[0mconn\u001b[0m\u001b[0;34m.\u001b[0m\u001b[0mrecv\u001b[0m\u001b[0;34m(\u001b[0m\u001b[0;36m4096\u001b[0m\u001b[0;34m)\u001b[0m\u001b[0;34m\u001b[0m\u001b[0;34m\u001b[0m\u001b[0m\n",
            "\u001b[0;32m/usr/lib/python3.11/socket.py\u001b[0m in \u001b[0;36maccept\u001b[0;34m(self)\u001b[0m\n\u001b[1;32m    292\u001b[0m         \u001b[0mFor\u001b[0m \u001b[0mIP\u001b[0m \u001b[0msockets\u001b[0m\u001b[0;34m,\u001b[0m \u001b[0mthe\u001b[0m \u001b[0maddress\u001b[0m \u001b[0minfo\u001b[0m \u001b[0;32mis\u001b[0m \u001b[0ma\u001b[0m \u001b[0mpair\u001b[0m \u001b[0;34m(\u001b[0m\u001b[0mhostaddr\u001b[0m\u001b[0;34m,\u001b[0m \u001b[0mport\u001b[0m\u001b[0;34m)\u001b[0m\u001b[0;34m.\u001b[0m\u001b[0;34m\u001b[0m\u001b[0;34m\u001b[0m\u001b[0m\n\u001b[1;32m    293\u001b[0m         \"\"\"\n\u001b[0;32m--> 294\u001b[0;31m         \u001b[0mfd\u001b[0m\u001b[0;34m,\u001b[0m \u001b[0maddr\u001b[0m \u001b[0;34m=\u001b[0m \u001b[0mself\u001b[0m\u001b[0;34m.\u001b[0m\u001b[0m_accept\u001b[0m\u001b[0;34m(\u001b[0m\u001b[0;34m)\u001b[0m\u001b[0;34m\u001b[0m\u001b[0;34m\u001b[0m\u001b[0m\n\u001b[0m\u001b[1;32m    295\u001b[0m         \u001b[0msock\u001b[0m \u001b[0;34m=\u001b[0m \u001b[0msocket\u001b[0m\u001b[0;34m(\u001b[0m\u001b[0mself\u001b[0m\u001b[0;34m.\u001b[0m\u001b[0mfamily\u001b[0m\u001b[0;34m,\u001b[0m \u001b[0mself\u001b[0m\u001b[0;34m.\u001b[0m\u001b[0mtype\u001b[0m\u001b[0;34m,\u001b[0m \u001b[0mself\u001b[0m\u001b[0;34m.\u001b[0m\u001b[0mproto\u001b[0m\u001b[0;34m,\u001b[0m \u001b[0mfileno\u001b[0m\u001b[0;34m=\u001b[0m\u001b[0mfd\u001b[0m\u001b[0;34m)\u001b[0m\u001b[0;34m\u001b[0m\u001b[0;34m\u001b[0m\u001b[0m\n\u001b[1;32m    296\u001b[0m         \u001b[0;31m# Issue #7995: if no default timeout is set and the listening\u001b[0m\u001b[0;34m\u001b[0m\u001b[0;34m\u001b[0m\u001b[0m\n",
            "\u001b[0;31mKeyboardInterrupt\u001b[0m: "
          ]
        }
      ]
    },
    {
      "cell_type": "code",
      "source": [
        "import time\n",
        "\n",
        "bandwidth_mbps = 10  # Mbps\n",
        "bandwidth_bps = bandwidth_mbps * 1_000_000\n",
        "\n",
        "kyber_total_bytes = 800 + 768  # pk + ct\n",
        "ntru_total_bytes = 699 + 699   # pk + ct\n",
        "\n",
        "def simulate_network_transfer(data_bytes):\n",
        "    data_bits = data_bytes * 8\n",
        "    expected_time = data_bits / bandwidth_bps  # seconds\n",
        "    start = time.time()\n",
        "    time.sleep(expected_time)\n",
        "    end = time.time()\n",
        "    return end - start\n",
        "\n",
        "\n",
        "kyber_time = simulate_network_transfer(kyber_total_bytes)\n",
        "print(f\"Kyber512 simulated transmission time: {kyber_time * 1000:.2f} ms\")\n",
        "\n",
        "\n",
        "ntru_time = simulate_network_transfer(ntru_total_bytes)\n",
        "print(f\"NTRU509 simulated transmission time: {ntru_time * 1000:.2f} ms\")\n"
      ],
      "metadata": {
        "colab": {
          "base_uri": "https://localhost:8080/"
        },
        "id": "gvzXynl3ak_0",
        "outputId": "4b64e14e-a8a6-4964-f22f-3bdd2ef71f8d"
      },
      "execution_count": 3,
      "outputs": [
        {
          "output_type": "stream",
          "name": "stdout",
          "text": [
            "Kyber512 simulated transmission time: 1.54 ms\n",
            "NTRU509 simulated transmission time: 1.21 ms\n"
          ]
        }
      ]
    },
    {
      "cell_type": "code",
      "source": [
        "#additional code, will try to run in future for further analysis\n",
        "import re\n",
        "import os\n",
        "\n",
        "\n",
        "api_path = os.path.join(\"PQClean\",\"crypto_kem\",\"ml-kem-512\",\"clean\",\"api.h\")\n",
        "with open(api_path, \"r\") as f:\n",
        "    hdr = f.read()\n",
        "\n",
        "pk_bytes = int(re.search(r\"#define\\s+CRYPTO_PUBLICKEYBYTES\\s+(\\d+)\", hdr).group(1))\n",
        "ct_bytes = int(re.search(r\"#define\\s+CRYPTO_CIPHERTEXTBYTES\\s+(\\d+)\", hdr).group(1))\n",
        "\n",
        "\n",
        "total_bytes = pk_bytes + ct_bytes\n",
        "bandwidth_bps = 10_000_000  # 10 Mbps\n",
        "trans_time_ms = (total_bytes * 8) / bandwidth_bps * 1000\n",
        "\n",
        "print(\"Kyber-512 Bandwidth Metrics\")\n",
        "print(f\"  Public key size     : {pk_bytes} bytes\")\n",
        "print(f\"  Ciphertext size     : {ct_bytes} bytes\")\n",
        "print(f\"  Total transmission  : {total_bytes} bytes\")\n",
        "print(f\"  Est. trans. delay   : {trans_time_ms:.2f} ms\")\n"
      ],
      "metadata": {
        "colab": {
          "base_uri": "https://localhost:8080/",
          "height": 211
        },
        "id": "UmT56cRdbDHH",
        "outputId": "6457f805-b2b5-4dcb-c6a8-15e9409b210a"
      },
      "execution_count": 17,
      "outputs": [
        {
          "output_type": "error",
          "ename": "AttributeError",
          "evalue": "'NoneType' object has no attribute 'group'",
          "traceback": [
            "\u001b[0;31m---------------------------------------------------------------------------\u001b[0m",
            "\u001b[0;31mAttributeError\u001b[0m                            Traceback (most recent call last)",
            "\u001b[0;32m<ipython-input-17-b29d83593a07>\u001b[0m in \u001b[0;36m<cell line: 0>\u001b[0;34m()\u001b[0m\n\u001b[1;32m      7\u001b[0m     \u001b[0mhdr\u001b[0m \u001b[0;34m=\u001b[0m \u001b[0mf\u001b[0m\u001b[0;34m.\u001b[0m\u001b[0mread\u001b[0m\u001b[0;34m(\u001b[0m\u001b[0;34m)\u001b[0m\u001b[0;34m\u001b[0m\u001b[0;34m\u001b[0m\u001b[0m\n\u001b[1;32m      8\u001b[0m \u001b[0;34m\u001b[0m\u001b[0m\n\u001b[0;32m----> 9\u001b[0;31m \u001b[0mpk_bytes\u001b[0m \u001b[0;34m=\u001b[0m \u001b[0mint\u001b[0m\u001b[0;34m(\u001b[0m\u001b[0mre\u001b[0m\u001b[0;34m.\u001b[0m\u001b[0msearch\u001b[0m\u001b[0;34m(\u001b[0m\u001b[0;34mr\"#define\\s+CRYPTO_PUBLICKEYBYTES\\s+(\\d+)\"\u001b[0m\u001b[0;34m,\u001b[0m \u001b[0mhdr\u001b[0m\u001b[0;34m)\u001b[0m\u001b[0;34m.\u001b[0m\u001b[0mgroup\u001b[0m\u001b[0;34m(\u001b[0m\u001b[0;36m1\u001b[0m\u001b[0;34m)\u001b[0m\u001b[0;34m)\u001b[0m\u001b[0;34m\u001b[0m\u001b[0;34m\u001b[0m\u001b[0m\n\u001b[0m\u001b[1;32m     10\u001b[0m \u001b[0mct_bytes\u001b[0m \u001b[0;34m=\u001b[0m \u001b[0mint\u001b[0m\u001b[0;34m(\u001b[0m\u001b[0mre\u001b[0m\u001b[0;34m.\u001b[0m\u001b[0msearch\u001b[0m\u001b[0;34m(\u001b[0m\u001b[0;34mr\"#define\\s+CRYPTO_CIPHERTEXTBYTES\\s+(\\d+)\"\u001b[0m\u001b[0;34m,\u001b[0m \u001b[0mhdr\u001b[0m\u001b[0;34m)\u001b[0m\u001b[0;34m.\u001b[0m\u001b[0mgroup\u001b[0m\u001b[0;34m(\u001b[0m\u001b[0;36m1\u001b[0m\u001b[0;34m)\u001b[0m\u001b[0;34m)\u001b[0m\u001b[0;34m\u001b[0m\u001b[0;34m\u001b[0m\u001b[0m\n\u001b[1;32m     11\u001b[0m \u001b[0;34m\u001b[0m\u001b[0m\n",
            "\u001b[0;31mAttributeError\u001b[0m: 'NoneType' object has no attribute 'group'"
          ]
        }
      ]
    }
  ]
}