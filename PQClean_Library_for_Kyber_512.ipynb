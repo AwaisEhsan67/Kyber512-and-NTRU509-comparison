{
  "nbformat": 4,
  "nbformat_minor": 0,
  "metadata": {
    "colab": {
      "provenance": [],
      "authorship_tag": "ABX9TyNHoHxMJjxfWR+DGb2otCEy",
      "include_colab_link": true
    },
    "kernelspec": {
      "name": "python3",
      "display_name": "Python 3"
    },
    "language_info": {
      "name": "python"
    }
  },
  "cells": [
    {
      "cell_type": "markdown",
      "metadata": {
        "id": "view-in-github",
        "colab_type": "text"
      },
      "source": [
        "<a href=\"https://colab.research.google.com/github/AwaisEhsan67/Kyber512-and-NTRU509-comparison/blob/main/PQClean_Library_for_Kyber_512.ipynb\" target=\"_parent\"><img src=\"https://colab.research.google.com/assets/colab-badge.svg\" alt=\"Open In Colab\"/></a>"
      ]
    },
    {
      "cell_type": "code",
      "execution_count": 1,
      "metadata": {
        "colab": {
          "base_uri": "https://localhost:8080/"
        },
        "id": "fUTXkEMgXPgs",
        "outputId": "124f5014-b4c1-4768-d781-a886c11bd10f"
      },
      "outputs": [
        {
          "output_type": "stream",
          "name": "stdout",
          "text": [
            "\r0% [Working]\r            \rGet:1 https://cloud.r-project.org/bin/linux/ubuntu jammy-cran40/ InRelease [3,632 B]\n",
            "\r0% [Connecting to archive.ubuntu.com (91.189.91.83)] [Waiting for headers] [1 I\r0% [Connecting to archive.ubuntu.com (91.189.91.83)] [Waiting for headers] [Con\r                                                                               \rHit:2 http://archive.ubuntu.com/ubuntu jammy InRelease\n",
            "Get:3 http://archive.ubuntu.com/ubuntu jammy-updates InRelease [128 kB]\n",
            "Get:4 http://security.ubuntu.com/ubuntu jammy-security InRelease [129 kB]\n",
            "Hit:5 https://developer.download.nvidia.com/compute/cuda/repos/ubuntu2204/x86_64  InRelease\n",
            "Get:6 http://archive.ubuntu.com/ubuntu jammy-backports InRelease [127 kB]\n",
            "Get:7 https://r2u.stat.illinois.edu/ubuntu jammy InRelease [6,555 B]\n",
            "Hit:8 https://ppa.launchpadcontent.net/deadsnakes/ppa/ubuntu jammy InRelease\n",
            "Hit:9 https://ppa.launchpadcontent.net/graphics-drivers/ppa/ubuntu jammy InRelease\n",
            "Hit:10 https://ppa.launchpadcontent.net/ubuntugis/ppa/ubuntu jammy InRelease\n",
            "Get:11 http://archive.ubuntu.com/ubuntu jammy-updates/universe amd64 Packages [1,545 kB]\n",
            "Get:12 http://archive.ubuntu.com/ubuntu jammy-updates/main amd64 Packages [3,208 kB]\n",
            "Get:13 http://archive.ubuntu.com/ubuntu jammy-updates/restricted amd64 Packages [4,428 kB]\n",
            "Get:14 http://archive.ubuntu.com/ubuntu jammy-backports/main amd64 Packages [83.2 kB]\n",
            "Get:15 https://r2u.stat.illinois.edu/ubuntu jammy/main amd64 Packages [2,715 kB]\n",
            "Get:16 https://r2u.stat.illinois.edu/ubuntu jammy/main all Packages [8,909 kB]\n",
            "Get:17 http://security.ubuntu.com/ubuntu jammy-security/restricted amd64 Packages [4,266 kB]\n",
            "Get:18 http://security.ubuntu.com/ubuntu jammy-security/main amd64 Packages [2,894 kB]\n",
            "Get:19 http://security.ubuntu.com/ubuntu jammy-security/universe amd64 Packages [1,245 kB]\n",
            "Get:20 http://security.ubuntu.com/ubuntu jammy-security/multiverse amd64 Packages [47.7 kB]\n",
            "Fetched 29.7 MB in 7s (4,368 kB/s)\n",
            "Reading package lists... Done\n",
            "W: Skipping acquire of configured file 'main/source/Sources' as repository 'https://r2u.stat.illinois.edu/ubuntu jammy InRelease' does not seem to provide it (sources.list entry misspelt?)\n",
            "Reading package lists... Done\n",
            "Building dependency tree... Done\n",
            "Reading state information... Done\n",
            "build-essential is already the newest version (12.9ubuntu3).\n",
            "git is already the newest version (1:2.34.1-1ubuntu1.12).\n",
            "0 upgraded, 0 newly installed, 0 to remove and 38 not upgraded.\n"
          ]
        }
      ],
      "source": [
        "!sudo apt-get update\n",
        "!sudo apt-get install build-essential git\n"
      ]
    },
    {
      "cell_type": "code",
      "source": [
        "!git clone https://github.com/PQClean/PQClean.git\n"
      ],
      "metadata": {
        "colab": {
          "base_uri": "https://localhost:8080/"
        },
        "id": "T_ycD0EuXYd_",
        "outputId": "9c96ca1f-bec2-4af2-c48e-259fcd0974fa"
      },
      "execution_count": 2,
      "outputs": [
        {
          "output_type": "stream",
          "name": "stdout",
          "text": [
            "Cloning into 'PQClean'...\n",
            "remote: Enumerating objects: 33664, done.\u001b[K\n",
            "remote: Counting objects: 100% (3101/3101), done.\u001b[K\n",
            "remote: Compressing objects: 100% (724/724), done.\u001b[K\n",
            "remote: Total 33664 (delta 2770), reused 2377 (delta 2377), pack-reused 30563 (from 3)\u001b[K\n",
            "Receiving objects: 100% (33664/33664), 7.43 MiB | 20.96 MiB/s, done.\n",
            "Resolving deltas: 100% (26181/26181), done.\n"
          ]
        }
      ]
    },
    {
      "cell_type": "code",
      "source": [
        "cd PQClean/crypto_kem/ml-kem-512/clean/\n"
      ],
      "metadata": {
        "colab": {
          "base_uri": "https://localhost:8080/"
        },
        "id": "-0hgSpxcXfgy",
        "outputId": "54f21ab3-1f8a-47a6-9450-c61400bcdef7"
      },
      "execution_count": 13,
      "outputs": [
        {
          "output_type": "stream",
          "name": "stdout",
          "text": [
            "/content/PQClean/crypto_kem/ml-kem-512/clean\n"
          ]
        }
      ]
    },
    {
      "cell_type": "code",
      "source": [
        "code = \"\"\"\n",
        "#include <stdio.h>\n",
        "#include <stdint.h>\n",
        "#include <stdlib.h>\n",
        "#include <string.h>\n",
        "#include \"api.h\"\n",
        "\n",
        "int main() {\n",
        "    uint8_t pk[PQCLEAN_MLKEM512_CLEAN_CRYPTO_PUBLICKEYBYTES];\n",
        "    uint8_t sk[PQCLEAN_MLKEM512_CLEAN_CRYPTO_SECRETKEYBYTES];\n",
        "    uint8_t ct[PQCLEAN_MLKEM512_CLEAN_CRYPTO_CIPHERTEXTBYTES];\n",
        "    uint8_t key_a[PQCLEAN_MLKEM512_CLEAN_CRYPTO_BYTES];\n",
        "    uint8_t key_b[PQCLEAN_MLKEM512_CLEAN_CRYPTO_BYTES];\n",
        "\n",
        "    PQCLEAN_MLKEM512_CLEAN_crypto_kem_keypair(pk, sk);\n",
        "    PQCLEAN_MLKEM512_CLEAN_crypto_kem_enc(ct, key_a, pk);\n",
        "    PQCLEAN_MLKEM512_CLEAN_crypto_kem_dec(key_b, ct, sk);\n",
        "\n",
        "    printf(\"Shared keys match: %s\\\\n\", memcmp(key_a, key_b, PQCLEAN_MLKEM512_CLEAN_CRYPTO_BYTES) == 0 ? \"YES\" : \"NO\");\n",
        "\n",
        "    return 0;\n",
        "}\n",
        "\"\"\"\n",
        "with open(\"test_kyber.c\", \"w\") as f:\n",
        "    f.write(code)\n"
      ],
      "metadata": {
        "id": "2ym9EGl8Xj3K"
      },
      "execution_count": 21,
      "outputs": []
    },
    {
      "cell_type": "code",
      "source": [
        "!ls\n"
      ],
      "metadata": {
        "colab": {
          "base_uri": "https://localhost:8080/"
        },
        "id": "h1yiWgqjsfgT",
        "outputId": "13f0108f-8d03-426e-d869-940ba6f43322"
      },
      "execution_count": 22,
      "outputs": [
        {
          "output_type": "stream",
          "name": "stdout",
          "text": [
            "api.h\t  kem.c\t\t\t    ntt.c     polyvec.c    symmetric-shake.c\n",
            "cbd.c\t  kem.h\t\t\t    ntt.h     polyvec.h    test_kyber.c\n",
            "cbd.h\t  LICENSE\t\t    params.h  reduce.c\t   verify.c\n",
            "indcpa.c  Makefile\t\t    poly.c    reduce.h\t   verify.h\n",
            "indcpa.h  Makefile.Microsoft_nmake  poly.h    symmetric.h\n"
          ]
        }
      ]
    },
    {
      "cell_type": "code",
      "source": [
        "!ls test_kyber.c\n",
        "!ls kem.c indcpa.c verify.c cbd.c ntt.c reduce.c polyvec.c poly.c symmetric-shake.c\n",
        "!ls ../../../common/randombytes.c\n",
        "!ls ../../../common/fips202.c\n"
      ],
      "metadata": {
        "colab": {
          "base_uri": "https://localhost:8080/"
        },
        "id": "fXyaKE7WsQ0_",
        "outputId": "643aae89-30bc-49fc-a5bf-87af9af8cc18"
      },
      "execution_count": 23,
      "outputs": [
        {
          "output_type": "stream",
          "name": "stdout",
          "text": [
            "test_kyber.c\n",
            "cbd.c\t  kem.c  poly.c     reduce.c\t       verify.c\n",
            "indcpa.c  ntt.c  polyvec.c  symmetric-shake.c\n",
            "../../../common/randombytes.c\n",
            "../../../common/fips202.c\n"
          ]
        }
      ]
    },
    {
      "cell_type": "code",
      "source": [
        "!gcc -o test_kyber test_kyber.c \\\n",
        "    kem.c indcpa.c verify.c cbd.c ntt.c reduce.c polyvec.c poly.c symmetric-shake.c \\\n",
        "    ../../../common/randombytes.c \\\n",
        "    ../../../common/fips202.c \\\n",
        "    -I . -I ../../../common\n"
      ],
      "metadata": {
        "id": "1lYhNbvJXy-Z"
      },
      "execution_count": 24,
      "outputs": []
    },
    {
      "cell_type": "code",
      "source": [
        "!./test_kyber\n"
      ],
      "metadata": {
        "colab": {
          "base_uri": "https://localhost:8080/"
        },
        "id": "H1mxLnl4aAiP",
        "outputId": "fb17a0ce-8c9b-4ac0-b244-0868f1cdb5b7"
      },
      "execution_count": 25,
      "outputs": [
        {
          "output_type": "stream",
          "name": "stdout",
          "text": [
            "Shared keys match: YES\n"
          ]
        }
      ]
    },
    {
      "cell_type": "code",
      "source": [
        "!gcc -shared -fPIC \\\n",
        "    kem.c indcpa.c verify.c cbd.c ntt.c reduce.c polyvec.c poly.c symmetric-shake.c \\\n",
        "    ../../../common/randombytes.c ../../../common/fips202.c \\\n",
        "    -I . -I ../../../common \\\n",
        "    -o libkyber512.so\n"
      ],
      "metadata": {
        "id": "qi1dew0Sc-NC"
      },
      "execution_count": 26,
      "outputs": []
    },
    {
      "cell_type": "code",
      "source": [
        "import ctypes\n",
        "import os\n",
        "\n",
        "\n",
        "lib = ctypes.CDLL(\"./libkyber512.so\")\n",
        "\n",
        "\n",
        "pk = ctypes.create_string_buffer(800)\n",
        "sk = ctypes.create_string_buffer(1632)\n",
        "ct = ctypes.create_string_buffer(768)\n",
        "ss = ctypes.create_string_buffer(32)\n",
        "\n",
        "\n",
        "lib.PQCLEAN_MLKEM512_CLEAN_crypto_kem_keypair.argtypes = [ctypes.c_char_p, ctypes.c_char_p]\n",
        "lib.PQCLEAN_MLKEM512_CLEAN_crypto_kem_enc.argtypes = [ctypes.c_char_p, ctypes.c_char_p, ctypes.c_char_p]\n",
        "lib.PQCLEAN_MLKEM512_CLEAN_crypto_kem_dec.argtypes = [ctypes.c_char_p, ctypes.c_char_p, ctypes.c_char_p]\n",
        "\n",
        "\n",
        "lib.PQCLEAN_MLKEM512_CLEAN_crypto_kem_keypair(pk, sk)\n",
        "lib.PQCLEAN_MLKEM512_CLEAN_crypto_kem_enc(ct, ss, pk)\n",
        "ss_dec = ctypes.create_string_buffer(32)\n",
        "lib.PQCLEAN_MLKEM512_CLEAN_crypto_kem_dec(ss_dec, ct, sk)\n",
        "\n",
        "\n",
        "print(\"Shared secret match:\", ss.raw == ss_dec.raw)\n"
      ],
      "metadata": {
        "colab": {
          "base_uri": "https://localhost:8080/"
        },
        "id": "D81-G9wdeVBH",
        "outputId": "a786ada1-c086-4764-e06c-d94526c1e8fe"
      },
      "execution_count": 27,
      "outputs": [
        {
          "output_type": "stream",
          "name": "stdout",
          "text": [
            "Shared secret match: True\n"
          ]
        }
      ]
    },
    {
      "cell_type": "code",
      "source": [
        "import ctypes\n",
        "import time\n",
        "import statistics\n",
        "\n",
        "\n",
        "lib = ctypes.CDLL(\"./libkyber512.so\")\n",
        "\n",
        "\n",
        "lib.PQCLEAN_MLKEM512_CLEAN_crypto_kem_keypair.argtypes = [ctypes.c_char_p, ctypes.c_char_p]\n",
        "\n",
        "\n",
        "CRYPTO_PUBLICKEYBYTES = 800\n",
        "CRYPTO_SECRETKEYBYTES = 1632\n",
        "\n",
        "\n",
        "trials = 1000\n",
        "times = []\n",
        "\n",
        "for _ in range(trials):\n",
        "    pk = ctypes.create_string_buffer(CRYPTO_PUBLICKEYBYTES)\n",
        "    sk = ctypes.create_string_buffer(CRYPTO_SECRETKEYBYTES)\n",
        "\n",
        "    start = time.perf_counter()\n",
        "    lib.PQCLEAN_MLKEM512_CLEAN_crypto_kem_keypair(pk, sk)\n",
        "    end = time.perf_counter()\n",
        "\n",
        "    times.append((end - start) * 1000)  # ms\n",
        "\n",
        "\n",
        "print(f\"Ran {trials} trials of Kyber-512 key generation\")\n",
        "print(f\"Average time: {statistics.mean(times):.3f} ms\")\n",
        "print(f\"Min time: {min(times):.3f} ms\")\n",
        "print(f\"Max time: {max(times):.3f} ms\")\n",
        "print(f\"Standard deviation: {statistics.stdev(times):.3f} ms\")\n"
      ],
      "metadata": {
        "colab": {
          "base_uri": "https://localhost:8080/"
        },
        "id": "CPawqJt8fDek",
        "outputId": "a02120c3-46d7-4932-f71a-cf7de1a2ee51"
      },
      "execution_count": 28,
      "outputs": [
        {
          "output_type": "stream",
          "name": "stdout",
          "text": [
            "Ran 1000 trials of Kyber-512 key generation\n",
            "Average time: 0.163 ms\n",
            "Min time: 0.155 ms\n",
            "Max time: 0.665 ms\n",
            "Standard deviation: 0.025 ms\n"
          ]
        }
      ]
    },
    {
      "cell_type": "code",
      "source": [
        "import ctypes\n",
        "import time\n",
        "import statistics\n",
        "\n",
        "lib = ctypes.CDLL(\"./libkyber512.so\")\n",
        "\n",
        "KYBER_PUBLICKEYBYTES  = 800\n",
        "KYBER_SECRETKEYBYTES  = 1632\n",
        "KYBER_CIPHERTEXTBYTES = 768\n",
        "KYBER_SSBYTES         = 32\n",
        "\n",
        "\n",
        "keypair = lib.PQCLEAN_MLKEM512_CLEAN_crypto_kem_keypair\n",
        "keypair.argtypes = [ctypes.c_char_p, ctypes.c_char_p]\n",
        "keypair.restype  = ctypes.c_int\n",
        "\n",
        "encapsulate = lib.PQCLEAN_MLKEM512_CLEAN_crypto_kem_enc\n",
        "encapsulate.argtypes = [ctypes.c_char_p, ctypes.c_char_p, ctypes.c_char_p]\n",
        "encapsulate.restype  = ctypes.c_int\n",
        "\n",
        "decapsulate = lib.PQCLEAN_MLKEM512_CLEAN_crypto_kem_dec\n",
        "decapsulate.argtypes = [ctypes.c_char_p, ctypes.c_char_p, ctypes.c_char_p]\n",
        "decapsulate.restype  = ctypes.c_int\n",
        "\n",
        "def functional_test():\n",
        "    pk = ctypes.create_string_buffer(KYBER_PUBLICKEYBYTES)\n",
        "    sk = ctypes.create_string_buffer(KYBER_SECRETKEYBYTES)\n",
        "    ct = ctypes.create_string_buffer(KYBER_CIPHERTEXTBYTES)\n",
        "    ss = ctypes.create_string_buffer(KYBER_SSBYTES)\n",
        "    ss_dec = ctypes.create_string_buffer(KYBER_SSBYTES)\n",
        "\n",
        "    assert keypair(pk, sk) == 0, \"Keypair failed\"\n",
        "    assert encapsulate(ct, ss, pk) == 0, \"Encapsulation failed\"\n",
        "    assert decapsulate(ss_dec, ct, sk) == 0, \"Decapsulation failed\"\n",
        "\n",
        "    match = ss.raw == ss_dec.raw\n",
        "    print(f\"[Functional] Shared secret match: {match}\")\n",
        "\n",
        "def benchmark(fn, buf_sizes, trials=1000):\n",
        "    \"\"\"Run fn(bufs...) for trials and return list of ms timings.\"\"\"\n",
        "    times = []\n",
        "    for _ in range(trials):\n",
        "        bufs = [ctypes.create_string_buffer(sz) for sz in buf_sizes]\n",
        "        start = time.perf_counter()\n",
        "        assert fn(*bufs) == 0\n",
        "        end = time.perf_counter()\n",
        "        times.append((end - start) * 1000)\n",
        "    return times\n",
        "\n",
        "def print_stats(name, times):\n",
        "    print(f\"[Benchmark] {name}:\")\n",
        "    print(f\"  avg = {statistics.mean(times):.3f} ms\")\n",
        "    print(f\"  min = {min(times):.3f} ms\")\n",
        "    print(f\"  max = {max(times):.3f} ms\")\n",
        "    print(f\"  std = {statistics.stdev(times):.3f} ms\")\n",
        "\n",
        "\n",
        "if __name__ == \"__main__\":\n",
        "\n",
        "    functional_test()\n",
        "\n",
        "\n",
        "    trials = 1000\n",
        "\n",
        "    t_keygen = benchmark(keypair, [KYBER_PUBLICKEYBYTES, KYBER_SECRETKEYBYTES], trials)\n",
        "    print_stats(\"Kyber KeyGen\", t_keygen)\n",
        "\n",
        "\n",
        "    t_enc = benchmark(encapsulate,\n",
        "                      [KYBER_CIPHERTEXTBYTES, KYBER_SSBYTES, KYBER_PUBLICKEYBYTES],\n",
        "                      trials)\n",
        "    print_stats(\"Kyber Encapsulate\", t_enc)\n",
        "\n",
        "\n",
        "    t_dec = benchmark(decapsulate,\n",
        "                      [KYBER_SSBYTES, KYBER_CIPHERTEXTBYTES, KYBER_SECRETKEYBYTES],\n",
        "                      trials)\n",
        "    print_stats(\"Kyber Decapsulate\", t_dec)\n"
      ],
      "metadata": {
        "colab": {
          "base_uri": "https://localhost:8080/"
        },
        "id": "to3E9OvFAQQw",
        "outputId": "53d79e5f-0e20-4eac-97e8-4f75f98e5b8e"
      },
      "execution_count": 30,
      "outputs": [
        {
          "output_type": "stream",
          "name": "stdout",
          "text": [
            "[Functional] Shared secret match: True\n",
            "[Benchmark] Kyber KeyGen:\n",
            "  avg = 0.163 ms\n",
            "  min = 0.155 ms\n",
            "  max = 0.437 ms\n",
            "  std = 0.018 ms\n",
            "[Benchmark] Kyber Encapsulate:\n",
            "  avg = 0.209 ms\n",
            "  min = 0.201 ms\n",
            "  max = 0.590 ms\n",
            "  std = 0.023 ms\n",
            "[Benchmark] Kyber Decapsulate:\n",
            "  avg = 0.279 ms\n",
            "  min = 0.265 ms\n",
            "  max = 0.764 ms\n",
            "  std = 0.036 ms\n"
          ]
        }
      ]
    },
    {
      "cell_type": "code",
      "source": [
        "!pip install psutil\n"
      ],
      "metadata": {
        "colab": {
          "base_uri": "https://localhost:8080/"
        },
        "id": "SbNG82ttGg7A",
        "outputId": "160d273b-ebff-4a67-9b4b-2744adf044e4"
      },
      "execution_count": 31,
      "outputs": [
        {
          "output_type": "stream",
          "name": "stdout",
          "text": [
            "Requirement already satisfied: psutil in /usr/local/lib/python3.11/dist-packages (5.9.5)\n"
          ]
        }
      ]
    },
    {
      "cell_type": "code",
      "source": [
        "!sudo apt-get update\n",
        "!sudo apt-get install time"
      ],
      "metadata": {
        "colab": {
          "base_uri": "https://localhost:8080/"
        },
        "id": "BVTEhTGSuBLh",
        "outputId": "cdcb8482-2eb0-420e-9698-8933bbc8bdbb"
      },
      "execution_count": 8,
      "outputs": [
        {
          "output_type": "stream",
          "name": "stdout",
          "text": [
            "\r0% [Working]\r            \rHit:1 https://cloud.r-project.org/bin/linux/ubuntu jammy-cran40/ InRelease\n",
            "\r0% [Connecting to archive.ubuntu.com (185.125.190.83)] [Connecting to security.\r                                                                               \rHit:2 https://developer.download.nvidia.com/compute/cuda/repos/ubuntu2204/x86_64  InRelease\n",
            "\r0% [Waiting for headers] [Connecting to security.ubuntu.com (91.189.91.81)] [Wa\r                                                                               \rHit:3 https://r2u.stat.illinois.edu/ubuntu jammy InRelease\n",
            "Hit:4 http://archive.ubuntu.com/ubuntu jammy InRelease\n",
            "Get:5 http://archive.ubuntu.com/ubuntu jammy-updates InRelease [128 kB]\n",
            "Hit:6 https://ppa.launchpadcontent.net/deadsnakes/ppa/ubuntu jammy InRelease\n",
            "Hit:7 https://ppa.launchpadcontent.net/graphics-drivers/ppa/ubuntu jammy InRelease\n",
            "Get:8 http://security.ubuntu.com/ubuntu jammy-security InRelease [129 kB]\n",
            "Hit:9 https://ppa.launchpadcontent.net/ubuntugis/ppa/ubuntu jammy InRelease\n",
            "Get:10 http://archive.ubuntu.com/ubuntu jammy-backports InRelease [127 kB]\n",
            "Get:11 http://archive.ubuntu.com/ubuntu jammy-updates/main amd64 Packages [3,208 kB]\n",
            "Fetched 3,593 kB in 2s (2,360 kB/s)\n",
            "Reading package lists... Done\n",
            "W: Skipping acquire of configured file 'main/source/Sources' as repository 'https://r2u.stat.illinois.edu/ubuntu jammy InRelease' does not seem to provide it (sources.list entry misspelt?)\n",
            "Reading package lists... Done\n",
            "Building dependency tree... Done\n",
            "Reading state information... Done\n",
            "The following NEW packages will be installed:\n",
            "  time\n",
            "0 upgraded, 1 newly installed, 0 to remove and 38 not upgraded.\n",
            "Need to get 46.7 kB of archives.\n",
            "After this operation, 129 kB of additional disk space will be used.\n",
            "Get:1 http://archive.ubuntu.com/ubuntu jammy/main amd64 time amd64 1.9-0.1build2 [46.7 kB]\n",
            "Fetched 46.7 kB in 0s (142 kB/s)\n",
            "debconf: unable to initialize frontend: Dialog\n",
            "debconf: (No usable dialog-like program is installed, so the dialog based frontend cannot be used. at /usr/share/perl5/Debconf/FrontEnd/Dialog.pm line 78, <> line 1.)\n",
            "debconf: falling back to frontend: Readline\n",
            "debconf: unable to initialize frontend: Readline\n",
            "debconf: (This frontend requires a controlling tty.)\n",
            "debconf: falling back to frontend: Teletype\n",
            "dpkg-preconfigure: unable to re-open stdin: \n",
            "Selecting previously unselected package time.\n",
            "(Reading database ... 126102 files and directories currently installed.)\n",
            "Preparing to unpack .../time_1.9-0.1build2_amd64.deb ...\n",
            "Unpacking time (1.9-0.1build2) ...\n",
            "Setting up time (1.9-0.1build2) ...\n",
            "Processing triggers for man-db (2.10.2-1) ...\n"
          ]
        }
      ]
    },
    {
      "cell_type": "code",
      "source": [
        "!which time"
      ],
      "metadata": {
        "colab": {
          "base_uri": "https://localhost:8080/"
        },
        "id": "rAZdTm0ft6wV",
        "outputId": "504d4867-14a8-40b3-c8a3-d3e5fb67eed5"
      },
      "execution_count": 9,
      "outputs": [
        {
          "output_type": "stream",
          "name": "stdout",
          "text": [
            "/usr/bin/time\n"
          ]
        }
      ]
    },
    {
      "cell_type": "code",
      "source": [
        "import ctypes\n",
        "import psutil\n",
        "import time\n",
        "\n",
        "\n",
        "lib = ctypes.CDLL(\"./libkyber512.so\")\n",
        "\n",
        "keypair = lib.PQCLEAN_MLKEM512_CLEAN_crypto_kem_keypair\n",
        "keypair.argtypes = [ctypes.c_void_p, ctypes.c_void_p]\n",
        "keypair.restype  = ctypes.c_int\n",
        "\n",
        "\n",
        "KYBER_PK = 800\n",
        "KYBER_SK = 1632\n",
        "\n",
        "\n",
        "proc = psutil.Process()\n",
        "\n",
        "\n",
        "pk = ctypes.create_string_buffer(KYBER_PK)\n",
        "sk = ctypes.create_string_buffer(KYBER_SK)\n",
        "keypair(pk, sk)\n",
        "\n",
        "# Force a short sleep to let OS settle memory\n",
        "time.sleep(0.1)\n",
        "\n",
        "\n",
        "mem_before = proc.memory_info().rss\n",
        "\n",
        "\n",
        "pk = ctypes.create_string_buffer(KYBER_PK)\n",
        "sk = ctypes.create_string_buffer(KYBER_SK)\n",
        "keypair(pk, sk)\n",
        "\n",
        "mem_after = proc.memory_info().rss\n",
        "\n",
        "print(f\"Kyber-512 KeyGen Memory (RSS):\")\n",
        "print(f\"  Before: {mem_before/1024:.1f} KB\")\n",
        "print(f\"  After:  {mem_after/1024:.1f} KB\")\n",
        "print(f\"  Delta:  {(mem_after-mem_before)/1024:.1f} KB\")\n"
      ],
      "metadata": {
        "colab": {
          "base_uri": "https://localhost:8080/"
        },
        "id": "bqHl_jw3HqFz",
        "outputId": "348b8aaa-a004-49e8-ebee-ed13a387d677"
      },
      "execution_count": 14,
      "outputs": [
        {
          "output_type": "stream",
          "name": "stdout",
          "text": [
            "Kyber-512 KeyGen Memory (RSS):\n",
            "  Before: 103084.0 KB\n",
            "  After:  103084.0 KB\n",
            "  Delta:  0.0 KB\n"
          ]
        }
      ]
    },
    {
      "cell_type": "code",
      "source": [
        "\n",
        "%%shell\n",
        "/usr/bin/time -f \"Kyber-512 KeyGen PeakRSS: %M KB\" python3 - << 'PYCODE'\n",
        "import ctypes\n",
        "\n",
        "lib = ctypes.CDLL(\"./libkyber512.so\")\n",
        "kp  = lib.PQCLEAN_MLKEM512_CLEAN_crypto_kem_keypair\n",
        "kp.argtypes = [ctypes.c_void_p, ctypes.c_void_p]\n",
        "\n",
        "pk = ctypes.create_string_buffer(800)\n",
        "sk = ctypes.create_string_buffer(1632)\n",
        "kp(pk, sk)\n",
        "PYCODE\n"
      ],
      "metadata": {
        "colab": {
          "base_uri": "https://localhost:8080/"
        },
        "id": "qFYtAGQhJOGB",
        "outputId": "c7a5e563-8265-4a41-9163-c51124e976d6"
      },
      "execution_count": 15,
      "outputs": [
        {
          "output_type": "stream",
          "name": "stdout",
          "text": [
            "Kyber-512 KeyGen PeakRSS: 13576 KB\n"
          ]
        },
        {
          "output_type": "execute_result",
          "data": {
            "text/plain": []
          },
          "metadata": {},
          "execution_count": 15
        }
      ]
    },
    {
      "cell_type": "code",
      "source": [
        "import ctypes\n",
        "import time\n",
        "\n",
        "kyber = ctypes.CDLL(\"./libkyber512.so\")\n",
        "keypair = lib.PQCLEAN_MLKEM512_CLEAN_crypto_kem_keypair\n",
        "keypair.argtypes = [ctypes.c_char_p, ctypes.c_char_p]\n",
        "keypair.restype  = ctypes.c_int\n",
        "\n",
        "encapsulate = lib.PQCLEAN_MLKEM512_CLEAN_crypto_kem_enc\n",
        "encapsulate.argtypes = [ctypes.c_char_p, ctypes.c_char_p, ctypes.c_char_p]\n",
        "encapsulate.restype  = ctypes.c_int\n",
        "\n",
        "decapsulate = lib.PQCLEAN_MLKEM512_CLEAN_crypto_kem_dec\n",
        "decapsulate.argtypes = [ctypes.c_char_p, ctypes.c_char_p, ctypes.c_char_p]\n",
        "decapsulate.restype  = ctypes.c_int\n",
        "\n",
        "\n",
        "pk = ctypes.create_string_buffer(800)\n",
        "sk = ctypes.create_string_buffer(1600)\n",
        "ct = ctypes.create_string_buffer(768)\n",
        "ss = ctypes.create_string_buffer(32)\n",
        "\n",
        "start = time.perf_counter_ns()\n",
        "keypair(pk, sk)\n",
        "keygen_time = time.perf_counter_ns() - start\n",
        "\n",
        "start = time.perf_counter_ns()\n",
        "encapsulate(ct, ss, pk)\n",
        "enc_time = time.perf_counter_ns() - start\n",
        "\n",
        "start = time.perf_counter_ns()\n",
        "decapsulate(ss, ct, sk)\n",
        "dec_time = time.perf_counter_ns() - start\n",
        "\n",
        "\n",
        "keygen_time //= 1000\n",
        "enc_time    //= 1000\n",
        "dec_time    //= 1000\n",
        "\n",
        "print(\"KeyGen:\", keygen_time, \"µs\")\n",
        "print(\"Encapsulation:\", enc_time, \"µs\")\n",
        "print(\"Decapsulation:\", dec_time, \"µs\")\n"
      ],
      "metadata": {
        "colab": {
          "base_uri": "https://localhost:8080/"
        },
        "id": "pMrb3XUhL18y",
        "outputId": "1a139dbb-d8e9-4456-8f4e-45f81d0bd11c"
      },
      "execution_count": 16,
      "outputs": [
        {
          "output_type": "stream",
          "name": "stdout",
          "text": [
            "KeyGen: 407 µs\n",
            "Encapsulation: 443 µs\n",
            "Decapsulation: 576 µs\n"
          ]
        }
      ]
    },
    {
      "cell_type": "code",
      "source": [
        "!lscpu\n"
      ],
      "metadata": {
        "colab": {
          "base_uri": "https://localhost:8080/"
        },
        "id": "1-9XamqRZYOY",
        "outputId": "7d595cf1-0b42-4246-ef8b-68858b5b672e"
      },
      "execution_count": 1,
      "outputs": [
        {
          "output_type": "stream",
          "name": "stdout",
          "text": [
            "Architecture:             x86_64\n",
            "  CPU op-mode(s):         32-bit, 64-bit\n",
            "  Address sizes:          46 bits physical, 48 bits virtual\n",
            "  Byte Order:             Little Endian\n",
            "CPU(s):                   2\n",
            "  On-line CPU(s) list:    0,1\n",
            "Vendor ID:                GenuineIntel\n",
            "  Model name:             Intel(R) Xeon(R) CPU @ 2.20GHz\n",
            "    CPU family:           6\n",
            "    Model:                79\n",
            "    Thread(s) per core:   2\n",
            "    Core(s) per socket:   1\n",
            "    Socket(s):            1\n",
            "    Stepping:             0\n",
            "    BogoMIPS:             4400.30\n",
            "    Flags:                fpu vme de pse tsc msr pae mce cx8 apic sep mtrr pge m\n",
            "                          ca cmov pat pse36 clflush mmx fxsr sse sse2 ss ht sysc\n",
            "                          all nx pdpe1gb rdtscp lm constant_tsc rep_good nopl xt\n",
            "                          opology nonstop_tsc cpuid tsc_known_freq pni pclmulqdq\n",
            "                           ssse3 fma cx16 pcid sse4_1 sse4_2 x2apic movbe popcnt\n",
            "                           aes xsave avx f16c rdrand hypervisor lahf_lm abm 3dno\n",
            "                          wprefetch invpcid_single ssbd ibrs ibpb stibp fsgsbase\n",
            "                           tsc_adjust bmi1 hle avx2 smep bmi2 erms invpcid rtm r\n",
            "                          dseed adx smap xsaveopt arat md_clear arch_capabilitie\n",
            "                          s\n",
            "Virtualization features:  \n",
            "  Hypervisor vendor:      KVM\n",
            "  Virtualization type:    full\n",
            "Caches (sum of all):      \n",
            "  L1d:                    32 KiB (1 instance)\n",
            "  L1i:                    32 KiB (1 instance)\n",
            "  L2:                     256 KiB (1 instance)\n",
            "  L3:                     55 MiB (1 instance)\n",
            "NUMA:                     \n",
            "  NUMA node(s):           1\n",
            "  NUMA node0 CPU(s):      0,1\n",
            "Vulnerabilities:          \n",
            "  Gather data sampling:   Not affected\n",
            "  Itlb multihit:          Not affected\n",
            "  L1tf:                   Mitigation; PTE Inversion\n",
            "  Mds:                    Vulnerable; SMT Host state unknown\n",
            "  Meltdown:               Vulnerable\n",
            "  Mmio stale data:        Vulnerable\n",
            "  Reg file data sampling: Not affected\n",
            "  Retbleed:               Vulnerable\n",
            "  Spec rstack overflow:   Not affected\n",
            "  Spec store bypass:      Vulnerable\n",
            "  Spectre v1:             Vulnerable: __user pointer sanitization and usercopy b\n",
            "                          arriers only; no swapgs barriers\n",
            "  Spectre v2:             Vulnerable; IBPB: disabled; STIBP: disabled; PBRSB-eIB\n",
            "                          RS: Not affected; BHI: Vulnerable\n",
            "  Srbds:                  Not affected\n",
            "  Tsx async abort:        Vulnerable\n"
          ]
        }
      ]
    },
    {
      "cell_type": "code",
      "source": [
        "!free -h\n"
      ],
      "metadata": {
        "colab": {
          "base_uri": "https://localhost:8080/"
        },
        "id": "jvsr_wiAZpin",
        "outputId": "210b0d49-67fe-4dbc-bf99-5c317afffd9a"
      },
      "execution_count": 2,
      "outputs": [
        {
          "output_type": "stream",
          "name": "stdout",
          "text": [
            "               total        used        free      shared  buff/cache   available\n",
            "Mem:            12Gi       705Mi       7.2Gi       2.0Mi       4.8Gi        11Gi\n",
            "Swap:             0B          0B          0B\n"
          ]
        }
      ]
    },
    {
      "cell_type": "code",
      "source": [
        "!cat /proc/cpuinfo\n",
        "!cat /proc/meminfo\n"
      ],
      "metadata": {
        "colab": {
          "base_uri": "https://localhost:8080/"
        },
        "id": "wzGPZmoIZUFn",
        "outputId": "cfd5af9d-5968-478c-f6ec-6f9a0ea37964"
      },
      "execution_count": 3,
      "outputs": [
        {
          "output_type": "stream",
          "name": "stdout",
          "text": [
            "processor\t: 0\n",
            "vendor_id\t: GenuineIntel\n",
            "cpu family\t: 6\n",
            "model\t\t: 79\n",
            "model name\t: Intel(R) Xeon(R) CPU @ 2.20GHz\n",
            "stepping\t: 0\n",
            "microcode\t: 0xffffffff\n",
            "cpu MHz\t\t: 2200.150\n",
            "cache size\t: 56320 KB\n",
            "physical id\t: 0\n",
            "siblings\t: 2\n",
            "core id\t\t: 0\n",
            "cpu cores\t: 1\n",
            "apicid\t\t: 0\n",
            "initial apicid\t: 0\n",
            "fpu\t\t: yes\n",
            "fpu_exception\t: yes\n",
            "cpuid level\t: 13\n",
            "wp\t\t: yes\n",
            "flags\t\t: fpu vme de pse tsc msr pae mce cx8 apic sep mtrr pge mca cmov pat pse36 clflush mmx fxsr sse sse2 ss ht syscall nx pdpe1gb rdtscp lm constant_tsc rep_good nopl xtopology nonstop_tsc cpuid tsc_known_freq pni pclmulqdq ssse3 fma cx16 pcid sse4_1 sse4_2 x2apic movbe popcnt aes xsave avx f16c rdrand hypervisor lahf_lm abm 3dnowprefetch invpcid_single ssbd ibrs ibpb stibp fsgsbase tsc_adjust bmi1 hle avx2 smep bmi2 erms invpcid rtm rdseed adx smap xsaveopt arat md_clear arch_capabilities\n",
            "bugs\t\t: cpu_meltdown spectre_v1 spectre_v2 spec_store_bypass l1tf mds swapgs taa mmio_stale_data retbleed bhi\n",
            "bogomips\t: 4400.30\n",
            "clflush size\t: 64\n",
            "cache_alignment\t: 64\n",
            "address sizes\t: 46 bits physical, 48 bits virtual\n",
            "power management:\n",
            "\n",
            "processor\t: 1\n",
            "vendor_id\t: GenuineIntel\n",
            "cpu family\t: 6\n",
            "model\t\t: 79\n",
            "model name\t: Intel(R) Xeon(R) CPU @ 2.20GHz\n",
            "stepping\t: 0\n",
            "microcode\t: 0xffffffff\n",
            "cpu MHz\t\t: 2200.150\n",
            "cache size\t: 56320 KB\n",
            "physical id\t: 0\n",
            "siblings\t: 2\n",
            "core id\t\t: 0\n",
            "cpu cores\t: 1\n",
            "apicid\t\t: 1\n",
            "initial apicid\t: 1\n",
            "fpu\t\t: yes\n",
            "fpu_exception\t: yes\n",
            "cpuid level\t: 13\n",
            "wp\t\t: yes\n",
            "flags\t\t: fpu vme de pse tsc msr pae mce cx8 apic sep mtrr pge mca cmov pat pse36 clflush mmx fxsr sse sse2 ss ht syscall nx pdpe1gb rdtscp lm constant_tsc rep_good nopl xtopology nonstop_tsc cpuid tsc_known_freq pni pclmulqdq ssse3 fma cx16 pcid sse4_1 sse4_2 x2apic movbe popcnt aes xsave avx f16c rdrand hypervisor lahf_lm abm 3dnowprefetch invpcid_single ssbd ibrs ibpb stibp fsgsbase tsc_adjust bmi1 hle avx2 smep bmi2 erms invpcid rtm rdseed adx smap xsaveopt arat md_clear arch_capabilities\n",
            "bugs\t\t: cpu_meltdown spectre_v1 spectre_v2 spec_store_bypass l1tf mds swapgs taa mmio_stale_data retbleed bhi\n",
            "bogomips\t: 4400.30\n",
            "clflush size\t: 64\n",
            "cache_alignment\t: 64\n",
            "address sizes\t: 46 bits physical, 48 bits virtual\n",
            "power management:\n",
            "\n",
            "MemTotal:       13289416 kB\n",
            "MemFree:         7567884 kB\n",
            "MemAvailable:   12253392 kB\n",
            "Buffers:          437672 kB\n",
            "Cached:          4421188 kB\n",
            "SwapCached:            0 kB\n",
            "Active:           893328 kB\n",
            "Inactive:        4565736 kB\n",
            "Active(anon):       1480 kB\n",
            "Inactive(anon):   600900 kB\n",
            "Active(file):     891848 kB\n",
            "Inactive(file):  3964836 kB\n",
            "Unevictable:           8 kB\n",
            "Mlocked:               8 kB\n",
            "SwapTotal:             0 kB\n",
            "SwapFree:              0 kB\n",
            "Dirty:               728 kB\n",
            "Writeback:             4 kB\n",
            "AnonPages:        600276 kB\n",
            "Mapped:           328340 kB\n",
            "Shmem:              2168 kB\n",
            "KReclaimable:     139848 kB\n",
            "Slab:             180616 kB\n",
            "SReclaimable:     139848 kB\n",
            "SUnreclaim:        40768 kB\n",
            "KernelStack:        5296 kB\n",
            "PageTables:        10092 kB\n",
            "SecPageTables:         0 kB\n",
            "NFS_Unstable:          0 kB\n",
            "Bounce:                0 kB\n",
            "WritebackTmp:          0 kB\n",
            "CommitLimit:     6644708 kB\n",
            "Committed_AS:    2639696 kB\n",
            "VmallocTotal:   34359738367 kB\n",
            "VmallocUsed:       11944 kB\n",
            "VmallocChunk:          0 kB\n",
            "Percpu:             1096 kB\n",
            "HardwareCorrupted:     0 kB\n",
            "AnonHugePages:         0 kB\n",
            "ShmemHugePages:        0 kB\n",
            "ShmemPmdMapped:        0 kB\n",
            "FileHugePages:         0 kB\n",
            "FilePmdMapped:         0 kB\n",
            "CmaTotal:              0 kB\n",
            "CmaFree:               0 kB\n",
            "Unaccepted:            0 kB\n",
            "HugePages_Total:       0\n",
            "HugePages_Free:        0\n",
            "HugePages_Rsvd:        0\n",
            "HugePages_Surp:        0\n",
            "Hugepagesize:       2048 kB\n",
            "Hugetlb:               0 kB\n",
            "DirectMap4k:       68400 kB\n",
            "DirectMap2M:     6219776 kB\n",
            "DirectMap1G:     9437184 kB\n"
          ]
        }
      ]
    },
    {
      "cell_type": "code",
      "source": [
        "!pip install pyRAPL\n"
      ],
      "metadata": {
        "colab": {
          "base_uri": "https://localhost:8080/"
        },
        "id": "sQ0jngQ9XjF5",
        "outputId": "01f0a0e5-36a2-421b-c40c-e444f8de85a0"
      },
      "execution_count": 4,
      "outputs": [
        {
          "output_type": "stream",
          "name": "stdout",
          "text": [
            "Collecting pyRAPL\n",
            "  Downloading pyRAPL-0.2.3.1-py2.py3-none-any.whl.metadata (8.0 kB)\n",
            "Downloading pyRAPL-0.2.3.1-py2.py3-none-any.whl (27 kB)\n",
            "Installing collected packages: pyRAPL\n",
            "Successfully installed pyRAPL-0.2.3.1\n"
          ]
        }
      ]
    },
    {
      "cell_type": "code",
      "source": [
        "\n",
        "# following code will work on laptop and Raspberry Pi only, not on collab.\n",
        "import ctypes\n",
        "import pyRAPL\n",
        "import sys\n",
        "\n",
        "\n",
        "pyRAPL.setup()\n",
        "meter = pyRAPL.Measurement('kyber_full_kem')\n",
        "\n",
        "\n",
        "lib = ctypes.CDLL(\"./libkyber512.so\")\n",
        "kp = lib.PQCLEAN_MLKEM512_CLEAN_crypto_kem_keypair\n",
        "enc = lib.PQCLEAN_MLKEM512_CLEAN_crypto_kem_enc\n",
        "dec = lib.PQCLEAN_MLKEM512_CLEAN_crypto_kem_dec\n",
        "\n",
        "kp.argtypes = [ctypes.c_void_p, ctypes.c_void_p]\n",
        "enc.argtypes = [ctypes.c_void_p, ctypes.c_void_p, ctypes.c_void_p]\n",
        "dec.argtypes = [ctypes.c_void_p, ctypes.c_void_p, ctypes.c_void_p]\n",
        "\n",
        "\n",
        "PK_BYTES = 800\n",
        "SK_BYTES = 1632\n",
        "CT_BYTES = 768\n",
        "SS_BYTES = 32\n",
        "\n",
        "pk = ctypes.create_string_buffer(PK_BYTES)\n",
        "sk = ctypes.create_string_buffer(SK_BYTES)\n",
        "ct = ctypes.create_string_buffer(CT_BYTES)\n",
        "ss = ctypes.create_string_buffer(SS_BYTES)\n",
        "\n",
        "\n",
        "meter.begin()\n",
        "kp(pk, sk)\n",
        "enc(ct, ss, pk)\n",
        "dec(ss, ct, sk)\n",
        "meter.end()\n",
        "\n",
        "print(\"Kyber-512 full KEM energy (µJ):\", meter.result.pkg)\n"
      ],
      "metadata": {
        "id": "zrnJregjXs6F"
      },
      "execution_count": null,
      "outputs": []
    },
    {
      "cell_type": "code",
      "source": [
        "import time\n",
        "\n",
        "bandwidth_mbps = 10  # Mbps\n",
        "bandwidth_bps = bandwidth_mbps * 1_000_000\n",
        "\n",
        "kyber_total_bytes = 800 + 768  # pk + ct\n",
        "ntru_total_bytes = 699 + 699   # pk + ct\n",
        "\n",
        "def simulate_network_transfer(data_bytes):\n",
        "    data_bits = data_bytes * 8\n",
        "    expected_time = data_bits / bandwidth_bps  # seconds\n",
        "    start = time.time()\n",
        "    time.sleep(expected_time)\n",
        "    end = time.time()\n",
        "    return end - start\n",
        "\n",
        "\n",
        "kyber_time = simulate_network_transfer(kyber_total_bytes)\n",
        "print(f\"Kyber512 simulated transmission time: {kyber_time * 1000:.2f} ms\")\n",
        "\n",
        "\n",
        "ntru_time = simulate_network_transfer(ntru_total_bytes)\n",
        "print(f\"NTRU509 simulated transmission time: {ntru_time * 1000:.2f} ms\")\n"
      ],
      "metadata": {
        "colab": {
          "base_uri": "https://localhost:8080/"
        },
        "id": "gvzXynl3ak_0",
        "outputId": "cf4635d1-b642-4a69-ab6d-0cc2594808b5"
      },
      "execution_count": 5,
      "outputs": [
        {
          "output_type": "stream",
          "name": "stdout",
          "text": [
            "Kyber512 simulated transmission time: 2.41 ms\n",
            "NTRU509 simulated transmission time: 1.19 ms\n"
          ]
        }
      ]
    }
  ]
}