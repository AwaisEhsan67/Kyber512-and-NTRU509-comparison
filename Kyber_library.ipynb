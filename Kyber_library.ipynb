{
  "nbformat": 4,
  "nbformat_minor": 0,
  "metadata": {
    "colab": {
      "provenance": [],
      "authorship_tag": "ABX9TyM4qtHlvD2eM9QhMJpNOXkX",
      "include_colab_link": true
    },
    "kernelspec": {
      "name": "python3",
      "display_name": "Python 3"
    },
    "language_info": {
      "name": "python"
    }
  },
  "cells": [
    {
      "cell_type": "markdown",
      "metadata": {
        "id": "view-in-github",
        "colab_type": "text"
      },
      "source": [
        "<a href=\"https://colab.research.google.com/github/AwaisEhsan67/Kyber512-and-NTRU509-comparison/blob/main/Kyber_library.ipynb\" target=\"_parent\"><img src=\"https://colab.research.google.com/assets/colab-badge.svg\" alt=\"Open In Colab\"/></a>"
      ]
    },
    {
      "cell_type": "markdown",
      "source": [
        "# **Kyber.py Library**"
      ],
      "metadata": {
        "id": "GcukwmfSiJOh"
      }
    },
    {
      "cell_type": "code",
      "execution_count": 1,
      "metadata": {
        "colab": {
          "base_uri": "https://localhost:8080/"
        },
        "id": "eafGoqBZDK7O",
        "outputId": "82242792-99c7-495e-ebad-0a0a39edbf3b"
      },
      "outputs": [
        {
          "output_type": "stream",
          "name": "stdout",
          "text": [
            "Collecting kyber-py\n",
            "  Downloading kyber_py-1.0.1-py3-none-any.whl.metadata (13 kB)\n",
            "Downloading kyber_py-1.0.1-py3-none-any.whl (26 kB)\n",
            "Installing collected packages: kyber-py\n",
            "Successfully installed kyber-py-1.0.1\n"
          ]
        }
      ],
      "source": [
        "!pip install kyber-py"
      ]
    },
    {
      "cell_type": "code",
      "source": [
        "from kyber_py.ml_kem import ML_KEM_512\n"
      ],
      "metadata": {
        "id": "jscQmx42DdYb"
      },
      "execution_count": 2,
      "outputs": []
    },
    {
      "cell_type": "code",
      "source": [
        "ek, dk = ML_KEM_512.keygen()\n",
        "key, ct = ML_KEM_512.encaps(ek)\n",
        "_key = ML_KEM_512.decaps(dk, ct)\n",
        "assert key == _key"
      ],
      "metadata": {
        "id": "YEYPF-rcDk95"
      },
      "execution_count": 3,
      "outputs": []
    },
    {
      "cell_type": "code",
      "source": [
        "from kyber_py.kyber import Kyber512\n",
        "\n",
        "# ---------------------------\n",
        "# Key Generation\n",
        "# ---------------------------\n",
        "public_key, secret_key = Kyber512.keygen()\n",
        "print(\"Public Key:\", public_key.hex())  # Truncate for display\n",
        "print(\"Secret Key:\", secret_key.hex())\n",
        "\n",
        "# ---------------------------\n",
        "# Encapsulation (Encrypt)\n",
        "# ---------------------------\n",
        "shared_secret_encap, ciphertext = Kyber512.encaps(public_key)\n",
        "print(\"Ciphertext:\", ciphertext.hex())\n",
        "print(\"Shared Secret (Encaps):\", shared_secret_encap.hex())\n",
        "\n",
        "# ---------------------------\n",
        "# Decapsulation (Decrypt)\n",
        "# ---------------------------\n",
        "shared_secret_decap = Kyber512.decaps(secret_key, ciphertext)\n",
        "print(\"Shared Secret (Decaps):\", shared_secret_decap.hex())\n",
        "\n",
        "# ---------------------------\n",
        "# Verify Correctness\n",
        "# ---------------------------\n",
        "assert shared_secret_encap == shared_secret_decap, \"Secrets do not match!\"\n",
        "print(\"\\n✅ Success: Shared secrets match!\")"
      ],
      "metadata": {
        "colab": {
          "base_uri": "https://localhost:8080/"
        },
        "id": "qLmNxY5UE7oj",
        "outputId": "6e4cdc6e-e893-470a-d3ae-7dc7c8837433"
      },
      "execution_count": 4,
      "outputs": [
        {
          "output_type": "stream",
          "name": "stdout",
          "text": [
            "Public Key: 7fc638018a8dbce0a6495a549b6ca9afaca389a02b8dc597bb937ccf17009d1b4466b35aa320ca6bbc9838f17c7e306066b03086e279f88218e2634d3d0146a9a873f6ba4699b42855ba4e3a8bac145a8f382077eb80392a8c9591c10438271b260376ee8815efea208c68b55fb58ca0065c7efa5eb9f5a1d377a0d14c54791049d2475b2680089ef976ad938c01f974117446b1a5663cbc6f71356d19bccc0d6c37bd9a5da42c89aa638d7903750d388056593181379c6b3acfe47cc9b74a648d6bc685036bdceb6cb1180771b5bca8a8c10c4c26c264a31f92bd3ff1971bfc2893b9c458f8772684c4ca63338c96a25b651efc1b0a75dc573fec99ffa861d8465baeb683113426f6528169829ae97666d10971238477e6d3636cc6a766c1a1a0c3a198e048b7eb2321d294ac60b1997445074236bf777bf5093662587998b4775c775e69acb84778b98be728cec9401202cede70cf1949740edabc3d466f5e8a0fc3e23d1edb7b80a52c709495260522d8688aee41b961d71f22ba6614080d1bb0ae8a5868d74bb9b948a154412c69e14672a48bc728820a35b1d413779cf29bf882725c19b02e33b59e2682ef86678d780e5803424c5386dcd707c78404f0612d9a0cccad940e94d205b92bce4b7656a348c49b4450d5d064ef5350c988bde0e9a8ace08a033ca42f69943c09af443538a8c7243e076664639d51dc6cdae40a2a13660697c7fadb08c6a3714748008ae425b0303e145358de95736c0605e7ab0cda8bcebc314db52ba07e90b58d901fb743b30843be1033ad539bcff9f690692c4e21fa158d32bfcdd468cc7c73518912401a92e817542217372107516d440e5e528e1d5a7ae64a7317ea917e9104519cae7cc328cb32195bd0652045652f3a14320a9390444439c8bf8d0970446c0783e603c4f80300151853a9c69d514fc043a489380630b6713e6c27ad878b4b2656861496e24a035fb1b6db4515ad251270298ca77a019c205591044708e6baebbabb14490a8aca2759b2890707c1ff691c2d6119b11bb5ed87084c278c9d4140d81a5a05bc0f0b88236bf16719f38231369ddd4f90b15b4047155d26c62aa293830fdda5fa5f39be771e2e953f0854\n",
            "Secret Key: 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\n",
            "Ciphertext: 2b28bf4e7423ac4a7fd9ff9e3d71860e41aee0febb39fff0c2460c22469bf2a01c71d08b1b7eaf03072c81e884732daa2dfad9b0cef066b74079aae06fafc83aeb18fb6cc7005c00c994a6e1705a36cc875ecf10b2991abf693241ca3e509921f3346bbddf9a673eb59000e6b009fd06b630fea6b8bd1b017f94b8c91b8c5524308d0f1c716f9e57bb0cdba215c76cbbfaf2d60496e96b7552e3eae90fb192b8e3b7a2ec759c9e00ef8b1f68d062c840d1b8202843f20832189461423c6f82185441eb01cebb4d231e6f7edb3eceb45af087a284e0a656c7d07e61d366fb9459ded056d79a0232bc7e1783425f0eadb585ac1ccc67c47b1fab0b19490f888d5a05a12ba61dbafbea9e6472bf3a72b369909026f38ff2f7e718fc96ff29cf9f19fd66020a139177518d909baf9ca22f37e00b514fa3ce2c6252e94a95d7ac256f8029882a7f9c4ff54865b7aa466a0f12df2eb152cbd053b2ce25e0ec3e787201a673505cbb25aafeff9548953fa26403c9bad3792e72734b2036992b2ea076e31822883cced3b9c806bb1dfab16b40cfe1162e1edc02d83c8c9bf655411f570ac0735f0e50fb259e656f27c58c161fa49ec82b0b9166f4494142493b8c010c8e6cd0de4a97b4e5ad5245649ab506f4dbf6672c281d889fe42f4b00c82500e8a500b45758fa273dceaa244af7ad207d24e4914fff4907a41a1e46cd926efdc44b0376515b7f51d289c5f947d50cfae436c7fe32cbb3c5632749966cc9293f3afd15ba87020965b75aaa1d0e81fbeaf6d565cda12eefb5d918667792ad42bc1e09ac9f55521979dc66a9b559fafc056b86051a698abef20718a640033a1b0f372fc51eea7be1ba2a85a09118862c31a129c6e80d761f9e8f5308cb64c292ac28ce6ff47510ec339031604a6c053e433f8a0a693e30c8a570fc966d3c60f3831101fe286aa219b243fc0a3d957fd524d52e8eb696a0f1afaa8714971aebfd22932306a86517795c02a8b662e638b14e80c76e13a26efe84278cd9969e65f826abd04619d370054be66c9fbbfa71d26333de043175c49fdece7cb0c6531573a16a3a\n",
            "Shared Secret (Encaps): 940e65806ff21825ef49c279a3c0bd989a458484dcf796faab828aba4057c2e6\n",
            "Shared Secret (Decaps): 940e65806ff21825ef49c279a3c0bd989a458484dcf796faab828aba4057c2e6\n",
            "\n",
            "✅ Success: Shared secrets match!\n"
          ]
        }
      ]
    },
    {
      "cell_type": "code",
      "source": [
        "import timeit\n",
        "\n",
        "# Key Generation\n",
        "keygen_time = timeit.timeit(\n",
        "    lambda: Kyber512.keygen(),\n",
        "    number=100\n",
        ") / 100 * 1000  # Convert to ms\n",
        "print(f\"KeyGen: {keygen_time:.2f} ms\")\n",
        "\n",
        "# Encapsulation\n",
        "encaps_time = timeit.timeit(\n",
        "    lambda: Kyber512.encaps(public_key),\n",
        "    number=100\n",
        ") / 100 * 1000\n",
        "print(f\"Encaps: {encaps_time:.2f} ms\")\n",
        "\n",
        "# Decapsulation\n",
        "decap_time = timeit.timeit(\n",
        "    lambda: Kyber512.decaps(secret_key, ciphertext),\n",
        "    number=100\n",
        ") / 100 * 1000\n",
        "print(f\"Decaps: {decap_time:.2f} ms\")"
      ],
      "metadata": {
        "colab": {
          "base_uri": "https://localhost:8080/"
        },
        "id": "7KWJ3fkuF-ev",
        "outputId": "436b5829-fbba-4cde-88ac-89505f765d82"
      },
      "execution_count": 5,
      "outputs": [
        {
          "output_type": "stream",
          "name": "stdout",
          "text": [
            "KeyGen: 4.59 ms\n",
            "Encaps: 6.42 ms\n",
            "Decaps: 7.63 ms\n"
          ]
        }
      ]
    }
  ]
}