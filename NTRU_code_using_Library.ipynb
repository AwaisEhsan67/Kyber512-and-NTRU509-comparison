{
  "nbformat": 4,
  "nbformat_minor": 0,
  "metadata": {
    "colab": {
      "provenance": [],
      "authorship_tag": "ABX9TyP0PeQyzOv+MDAG7PupfQci",
      "include_colab_link": true
    },
    "kernelspec": {
      "name": "python3",
      "display_name": "Python 3"
    },
    "language_info": {
      "name": "python"
    }
  },
  "cells": [
    {
      "cell_type": "markdown",
      "metadata": {
        "id": "view-in-github",
        "colab_type": "text"
      },
      "source": [
        "<a href=\"https://colab.research.google.com/github/AwaisEhsan67/Kyber512-and-NTRU509-comparison/blob/main/NTRU_code_using_Library.ipynb\" target=\"_parent\"><img src=\"https://colab.research.google.com/assets/colab-badge.svg\" alt=\"Open In Colab\"/></a>"
      ]
    },
    {
      "cell_type": "code",
      "execution_count": 1,
      "metadata": {
        "colab": {
          "base_uri": "https://localhost:8080/"
        },
        "id": "wGfVztW2J9RW",
        "outputId": "54e28626-50b7-4d32-fdec-f5c5ce4652dc"
      },
      "outputs": [
        {
          "output_type": "stream",
          "name": "stdout",
          "text": [
            "Cloning into 'ntru'...\n",
            "remote: Enumerating objects: 2446, done.\u001b[K\n",
            "remote: Counting objects: 100% (307/307), done.\u001b[K\n",
            "remote: Compressing objects: 100% (176/176), done.\u001b[K\n",
            "remote: Total 2446 (delta 204), reused 215 (delta 126), pack-reused 2139 (from 1)\u001b[K\n",
            "Receiving objects: 100% (2446/2446), 468.51 KiB | 2.68 MiB/s, done.\n",
            "Resolving deltas: 100% (1714/1714), done.\n"
          ]
        }
      ],
      "source": [
        "!git clone https://github.com/jschanck/ntru.git\n",
        "\n"
      ]
    },
    {
      "cell_type": "code",
      "source": [
        "cd ntru\n"
      ],
      "metadata": {
        "colab": {
          "base_uri": "https://localhost:8080/"
        },
        "id": "-De-yAKp6O4a",
        "outputId": "0acb73e0-9d8b-4374-c2dc-1f8da834260e"
      },
      "execution_count": 2,
      "outputs": [
        {
          "output_type": "stream",
          "name": "stdout",
          "text": [
            "/content/ntru\n"
          ]
        }
      ]
    },
    {
      "cell_type": "code",
      "source": [
        "%%shell\n",
        "sudo apt-get update\n",
        "sudo apt-get install -y unifdef\n"
      ],
      "metadata": {
        "colab": {
          "base_uri": "https://localhost:8080/"
        },
        "id": "tsqcmelj6ZI3",
        "outputId": "ec2e2145-4840-4a09-ab7f-382c099a750f"
      },
      "execution_count": 3,
      "outputs": [
        {
          "output_type": "stream",
          "name": "stdout",
          "text": [
            "\r0% [Working]\r            \rGet:1 https://cloud.r-project.org/bin/linux/ubuntu jammy-cran40/ InRelease [3,632 B]\n",
            "Hit:2 https://developer.download.nvidia.com/compute/cuda/repos/ubuntu2204/x86_64  InRelease\n",
            "Hit:3 http://archive.ubuntu.com/ubuntu jammy InRelease\n",
            "Get:4 http://security.ubuntu.com/ubuntu jammy-security InRelease [129 kB]\n",
            "Get:5 http://archive.ubuntu.com/ubuntu jammy-updates InRelease [128 kB]\n",
            "Get:6 https://r2u.stat.illinois.edu/ubuntu jammy InRelease [6,555 B]\n",
            "Hit:7 https://ppa.launchpadcontent.net/deadsnakes/ppa/ubuntu jammy InRelease\n",
            "Get:8 https://r2u.stat.illinois.edu/ubuntu jammy/main amd64 Packages [2,715 kB]\n",
            "Hit:9 https://ppa.launchpadcontent.net/graphics-drivers/ppa/ubuntu jammy InRelease\n",
            "Hit:10 https://ppa.launchpadcontent.net/ubuntugis/ppa/ubuntu jammy InRelease\n",
            "Get:11 http://security.ubuntu.com/ubuntu jammy-security/multiverse amd64 Packages [47.7 kB]\n",
            "Get:12 http://archive.ubuntu.com/ubuntu jammy-backports InRelease [127 kB]\n",
            "Get:13 http://security.ubuntu.com/ubuntu jammy-security/universe amd64 Packages [1,245 kB]\n",
            "Get:14 http://archive.ubuntu.com/ubuntu jammy-updates/main amd64 Packages [3,208 kB]\n",
            "Get:15 http://security.ubuntu.com/ubuntu jammy-security/main amd64 Packages [2,894 kB]\n",
            "Get:16 https://r2u.stat.illinois.edu/ubuntu jammy/main all Packages [8,909 kB]\n",
            "Get:17 http://archive.ubuntu.com/ubuntu jammy-updates/restricted amd64 Packages [4,428 kB]\n",
            "Get:18 http://security.ubuntu.com/ubuntu jammy-security/restricted amd64 Packages [4,266 kB]\n",
            "Get:19 http://archive.ubuntu.com/ubuntu jammy-updates/universe amd64 Packages [1,545 kB]\n",
            "Get:20 http://archive.ubuntu.com/ubuntu jammy-backports/main amd64 Packages [83.2 kB]\n",
            "Fetched 29.7 MB in 5s (5,637 kB/s)\n",
            "Reading package lists... Done\n",
            "W: Skipping acquire of configured file 'main/source/Sources' as repository 'https://r2u.stat.illinois.edu/ubuntu jammy InRelease' does not seem to provide it (sources.list entry misspelt?)\n",
            "Reading package lists... Done\n",
            "Building dependency tree... Done\n",
            "Reading state information... Done\n",
            "The following NEW packages will be installed:\n",
            "  unifdef\n",
            "0 upgraded, 1 newly installed, 0 to remove and 38 not upgraded.\n",
            "Need to get 21.9 kB of archives.\n",
            "After this operation, 72.7 kB of additional disk space will be used.\n",
            "Get:1 http://archive.ubuntu.com/ubuntu jammy-updates/universe amd64 unifdef amd64 2.10-1.1build0.2 [21.9 kB]\n",
            "Fetched 21.9 kB in 1s (33.7 kB/s)\n",
            "debconf: unable to initialize frontend: Dialog\n",
            "debconf: (No usable dialog-like program is installed, so the dialog based frontend cannot be used. at /usr/share/perl5/Debconf/FrontEnd/Dialog.pm line 78, <> line 1.)\n",
            "debconf: falling back to frontend: Readline\n",
            "debconf: unable to initialize frontend: Readline\n",
            "debconf: (This frontend requires a controlling tty.)\n",
            "debconf: falling back to frontend: Teletype\n",
            "dpkg-preconfigure: unable to re-open stdin: \n",
            "Selecting previously unselected package unifdef.\n",
            "(Reading database ... 126102 files and directories currently installed.)\n",
            "Preparing to unpack .../unifdef_2.10-1.1build0.2_amd64.deb ...\n",
            "Unpacking unifdef (2.10-1.1build0.2) ...\n",
            "Setting up unifdef (2.10-1.1build0.2) ...\n",
            "Processing triggers for man-db (2.10.2-1) ...\n"
          ]
        },
        {
          "output_type": "execute_result",
          "data": {
            "text/plain": []
          },
          "metadata": {},
          "execution_count": 3
        }
      ]
    },
    {
      "cell_type": "code",
      "source": [
        "!mkdir -p hps-pruned"
      ],
      "metadata": {
        "id": "kGCbMw257OE_"
      },
      "execution_count": 4,
      "outputs": []
    },
    {
      "cell_type": "code",
      "source": [
        "%%shell\n",
        "for f in ref-hps2048509/*.c; do\n",
        "  unifdef -k \\\n",
        "    -DNTRU_HPS -UNTRU_HRSS \\\n",
        "    -DNTRU_N=509 -DNTRU_Q=2048 \\\n",
        "    \"ref-hps2048509/${f##*/}\" \\\n",
        "    > \"hps-pruned/${f##*/}\"\n",
        "done\n",
        "cp ref-hps2048509/*.h hps-pruned/\n",
        "cp ref-common/*.h     hps-pruned/\n"
      ],
      "metadata": {
        "colab": {
          "base_uri": "https://localhost:8080/"
        },
        "id": "CxmOprjY7v8G",
        "outputId": "941c4d88-a100-4f6b-cec4-7d73a8e7e3f9"
      },
      "execution_count": 5,
      "outputs": [
        {
          "output_type": "execute_result",
          "data": {
            "text/plain": []
          },
          "metadata": {},
          "execution_count": 5
        }
      ]
    },
    {
      "cell_type": "code",
      "source": [
        "%%shell\n",
        "gcc -shared -fPIC \\\n",
        "    -D'CRYPTO_NAMESPACE(name)=name' \\\n",
        "    hps-pruned/*.c \\\n",
        "    -I hps-pruned \\\n",
        "    -o libntru2048509.so\n"
      ],
      "metadata": {
        "colab": {
          "base_uri": "https://localhost:8080/"
        },
        "id": "fj5GcySX8Q4M",
        "outputId": "a464ca68-9010-44fa-a20c-4186175cea0c"
      },
      "execution_count": 6,
      "outputs": [
        {
          "output_type": "execute_result",
          "data": {
            "text/plain": []
          },
          "metadata": {},
          "execution_count": 6
        }
      ]
    },
    {
      "cell_type": "code",
      "source": [
        "!ls -lh libntru2048509.so"
      ],
      "metadata": {
        "colab": {
          "base_uri": "https://localhost:8080/"
        },
        "id": "-rwoy0pZ8k2V",
        "outputId": "88fc3c56-9422-4d2a-de37-36fce0543ca5"
      },
      "execution_count": 7,
      "outputs": [
        {
          "output_type": "stream",
          "name": "stdout",
          "text": [
            "-rwxr-xr-x 1 root root 47K May  7 02:54 libntru2048509.so\n"
          ]
        }
      ]
    },
    {
      "cell_type": "code",
      "source": [
        "!nm -D libntru2048509.so\n"
      ],
      "metadata": {
        "colab": {
          "base_uri": "https://localhost:8080/"
        },
        "id": "PpcPvr0H9f8S",
        "outputId": "cbe4af19-5436-46d9-f59f-22069fb11dc8"
      },
      "execution_count": 8,
      "outputs": [
        {
          "output_type": "stream",
          "name": "stdout",
          "text": [
            "0000000000001539 T cmov\n",
            "00000000000015b2 T cpucycles\n",
            "00000000000015cd T crypto_sort_int32\n",
            "                 w __cxa_finalize@GLIBC_2.2.5\n",
            "0000000000003867 T dec\n",
            "0000000000003752 T enc\n",
            "                 w __gmon_start__\n",
            "                 w _ITM_deregisterTMCloneTable\n",
            "                 w _ITM_registerTMCloneTable\n",
            "0000000000001d6b T KeccakF1600_StatePermute\n",
            "00000000000036bd T keypair\n",
            "                 U open@GLIBC_2.2.5\n",
            "0000000000003ed4 T owcpa_dec\n",
            "0000000000003d91 T owcpa_enc\n",
            "0000000000003afe T owcpa_keypair\n",
            "00000000000052c6 T poly_lift\n",
            "00000000000053b4 T poly_mod_3_Phi_n\n",
            "0000000000005413 T poly_mod_q_Phi_n\n",
            "0000000000005516 T poly_R2_inv\n",
            "000000000000524a T poly_Rq_inv\n",
            "00000000000059ce T poly_Rq_mul\n",
            "0000000000004e28 T poly_Rq_sum_zero_frombytes\n",
            "0000000000004dfe T poly_Rq_sum_zero_tobytes\n",
            "0000000000005464 T poly_Rq_to_S3\n",
            "0000000000004316 T poly_S3_frombytes\n",
            "000000000000749a T poly_S3_inv\n",
            "0000000000004fb8 T poly_S3_mul\n",
            "00000000000041b6 T poly_S3_tobytes\n",
            "00000000000048ca T poly_Sq_frombytes\n",
            "0000000000004f7a T poly_Sq_mul\n",
            "0000000000004495 T poly_Sq_tobytes\n",
            "0000000000004efd T poly_trinary_Zq_to_Z3\n",
            "0000000000004e9e T poly_Z3_to_Zq\n",
            "00000000000079d1 T randombytes\n",
            "                 U read@GLIBC_2.2.5\n",
            "0000000000007a93 T sample_fg\n",
            "0000000000007b23 T sample_fixed_type\n",
            "0000000000008042 T sample_iid\n",
            "0000000000007adb T sample_rm\n",
            "0000000000003513 T sha3_256\n",
            "00000000000035eb T sha3_512\n",
            "000000000000333c T shake128_absorb\n",
            "0000000000003374 T shake128_squeezeblocks\n",
            "00000000000033a8 T shake256\n",
            "                 U sleep@GLIBC_2.2.5\n",
            "                 U __stack_chk_fail@GLIBC_2.4\n"
          ]
        }
      ]
    },
    {
      "cell_type": "code",
      "source": [
        "import ctypes\n",
        "import time\n",
        "import statistics\n",
        "\n",
        "ntru = ctypes.CDLL(\"./libntru2048509.so\")\n",
        "\n",
        "keypair = ntru.keypair\n",
        "keypair.argtypes = [ctypes.c_void_p, ctypes.c_void_p]\n",
        "keypair.restype  = ctypes.c_int\n",
        "\n",
        "encapsulate = ntru.enc\n",
        "encapsulate.argtypes = [ctypes.c_void_p, ctypes.c_void_p, ctypes.c_void_p]\n",
        "encapsulate.restype  = ctypes.c_int\n",
        "\n",
        "decapsulate = ntru.dec\n",
        "decapsulate.argtypes = [ctypes.c_void_p, ctypes.c_void_p, ctypes.c_void_p]\n",
        "decapsulate.restype  = ctypes.c_int\n",
        "\n",
        "\n",
        "NTRU_PK, NTRU_SK    = 1138, 1671\n",
        "NTRU_CT, NTRU_SS    = 1138, 32\n",
        "\n",
        "\n",
        "def benchmark_keygen(trials=1000):\n",
        "    times = []\n",
        "    for _ in range(trials):\n",
        "        pk = ctypes.create_string_buffer(NTRU_PK)\n",
        "        sk = ctypes.create_string_buffer(NTRU_SK)\n",
        "        t0 = time.perf_counter()\n",
        "        if keypair(pk, sk) != 0:\n",
        "            raise RuntimeError(\"keypair failed\")\n",
        "        t1 = time.perf_counter()\n",
        "        times.append((t1 - t0) * 1000)\n",
        "    return times\n",
        "\n",
        "if __name__ == \"__main__\":\n",
        "    # Run 1000 trials\n",
        "    times = benchmark_keygen(1000)\n",
        "    print(f\"Avg keygen: {statistics.mean(times):.3f} ms\")\n",
        "    print(f\"Min keygen: {min(times):.3f} ms\")\n",
        "    print(f\"Max keygen: {max(times):.3f} ms\")\n",
        "    print(f\"Stddev   : {statistics.stdev(times):.3f} ms\")\n"
      ],
      "metadata": {
        "colab": {
          "base_uri": "https://localhost:8080/"
        },
        "id": "BKiJOMgY-DgB",
        "outputId": "8683de93-8bdf-4a70-a00c-4ef1d6b11685"
      },
      "execution_count": 9,
      "outputs": [
        {
          "output_type": "stream",
          "name": "stdout",
          "text": [
            "Avg keygen: 28.810 ms\n",
            "Min keygen: 26.563 ms\n",
            "Max keygen: 82.073 ms\n",
            "Stddev   : 4.411 ms\n"
          ]
        }
      ]
    },
    {
      "cell_type": "code",
      "source": [
        "import ctypes\n",
        "import time\n",
        "import statistics\n",
        "\n",
        "\n",
        "ntru = ctypes.CDLL(\"./libntru2048509.so\")\n",
        "\n",
        "\n",
        "keypair    = ntru.keypair\n",
        "keypair.argtypes = [ctypes.c_void_p, ctypes.c_void_p]\n",
        "keypair.restype  = ctypes.c_int\n",
        "\n",
        "encapsulate = ntru.enc\n",
        "encapsulate.argtypes = [ctypes.c_void_p, ctypes.c_void_p, ctypes.c_void_p]\n",
        "encapsulate.restype  = ctypes.c_int\n",
        "\n",
        "decapsulate = ntru.dec\n",
        "decapsulate.argtypes = [ctypes.c_void_p, ctypes.c_void_p, ctypes.c_void_p]\n",
        "decapsulate.restype  = ctypes.c_int\n",
        "\n",
        "NTRU_PK, NTRU_SK = 1138, 1671\n",
        "NTRU_CT, NTRU_SS = 1138,   32\n",
        "\n",
        "\n",
        "def functional_test():\n",
        "    pk = ctypes.create_string_buffer(NTRU_PK)\n",
        "    sk = ctypes.create_string_buffer(NTRU_SK)\n",
        "    ct = ctypes.create_string_buffer(NTRU_CT)\n",
        "    ss = ctypes.create_string_buffer(NTRU_SS)\n",
        "    ss_dec = ctypes.create_string_buffer(NTRU_SS)\n",
        "\n",
        "    assert keypair(pk, sk) == 0\n",
        "    assert encapsulate(ct, ss, pk) == 0\n",
        "    assert decapsulate(ss_dec, ct, sk) == 0\n",
        "\n",
        "    print(f\"[Functional] NTRU shared secret match: {ss.raw == ss_dec.raw}\")\n",
        "\n",
        "\n",
        "def benchmark(fn, buf_sizes, trials=1000):\n",
        "    times = []\n",
        "    for _ in range(trials):\n",
        "        bufs = [ctypes.create_string_buffer(sz) for sz in buf_sizes]\n",
        "        start = time.perf_counter()\n",
        "        assert fn(*bufs) == 0\n",
        "        end = time.perf_counter()\n",
        "        times.append((end - start)*1000)\n",
        "    return times\n",
        "\n",
        "def print_stats(label, times):\n",
        "    print(f\"[Benchmark] {label}: avg={statistics.mean(times):.3f} ms, \"\n",
        "          f\"min={min(times):.3f} ms, max={max(times):.3f} ms, std={statistics.stdev(times):.3f} ms\")\n",
        "\n",
        "if __name__ == \"__main__\":\n",
        "    functional_test()\n",
        "    trials = 1000\n",
        "    print_stats(\"NTRU KeyGen\",    benchmark(keypair,    [NTRU_PK, NTRU_SK],     trials))\n",
        "    print_stats(\"NTRU Encapsulate\",benchmark(encapsulate, [NTRU_CT, NTRU_SS, NTRU_PK], trials))\n",
        "    print_stats(\"NTRU Decapsulate\",benchmark(decapsulate, [NTRU_SS, NTRU_CT, NTRU_SK], trials))\n"
      ],
      "metadata": {
        "colab": {
          "base_uri": "https://localhost:8080/"
        },
        "id": "BB_tB5eJAYxD",
        "outputId": "e86e5723-a926-4cd0-8604-46e062beb89b"
      },
      "execution_count": 10,
      "outputs": [
        {
          "output_type": "stream",
          "name": "stdout",
          "text": [
            "[Functional] NTRU shared secret match: True\n",
            "[Benchmark] NTRU KeyGen: avg=29.361 ms, min=26.563 ms, max=44.908 ms, std=4.404 ms\n",
            "[Benchmark] NTRU Encapsulate: avg=0.436 ms, min=0.405 ms, max=1.136 ms, std=0.076 ms\n",
            "[Benchmark] NTRU Decapsulate: avg=0.915 ms, min=0.871 ms, max=1.499 ms, std=0.112 ms\n"
          ]
        }
      ]
    },
    {
      "cell_type": "code",
      "source": [
        "!pip install psutil\n"
      ],
      "metadata": {
        "colab": {
          "base_uri": "https://localhost:8080/"
        },
        "id": "33d3DtPfHU6T",
        "outputId": "18d9078f-fbe3-49d7-f63f-35c09ccff60f"
      },
      "execution_count": 11,
      "outputs": [
        {
          "output_type": "stream",
          "name": "stdout",
          "text": [
            "Requirement already satisfied: psutil in /usr/local/lib/python3.11/dist-packages (5.9.5)\n"
          ]
        }
      ]
    },
    {
      "cell_type": "code",
      "source": [
        "import ctypes\n",
        "import psutil\n",
        "import time\n",
        "\n",
        "ntru = ctypes.CDLL(\"./libntru2048509.so\")\n",
        "\n",
        "\n",
        "keypair = ntru.keypair\n",
        "keypair.argtypes = [ctypes.c_void_p, ctypes.c_void_p]\n",
        "keypair.restype  = ctypes.c_int\n",
        "\n",
        "NTRU_PK = 1138\n",
        "NTRU_SK = 1671\n",
        "\n",
        "\n",
        "proc = psutil.Process()\n",
        "\n",
        "pk = ctypes.create_string_buffer(NTRU_PK)\n",
        "sk = ctypes.create_string_buffer(NTRU_SK)\n",
        "keypair(pk, sk)\n",
        "time.sleep(0.1)\n",
        "\n",
        "mem_before = proc.memory_info().rss\n",
        "\n",
        "pk = ctypes.create_string_buffer(NTRU_PK)\n",
        "sk = ctypes.create_string_buffer(NTRU_SK)\n",
        "keypair(pk, sk)\n",
        "\n",
        "\n",
        "mem_after = proc.memory_info().rss\n",
        "\n",
        "print(f\"NTRU-HPS-2048_509 KeyGen Memory (RSS):\")\n",
        "print(f\"  Before: {mem_before/1024:.1f} KB\")\n",
        "print(f\"  After:  {mem_after/1024:.1f} KB\")\n",
        "print(f\"  Delta:  {(mem_after-mem_before)/1024:.1f} KB\")\n"
      ],
      "metadata": {
        "colab": {
          "base_uri": "https://localhost:8080/"
        },
        "id": "uRkG0-hAH83F",
        "outputId": "9d7da7bc-02ca-47f1-b1ca-73c734117fa8"
      },
      "execution_count": 12,
      "outputs": [
        {
          "output_type": "stream",
          "name": "stdout",
          "text": [
            "NTRU-HPS-2048_509 KeyGen Memory (RSS):\n",
            "  Before: 102980.0 KB\n",
            "  After:  102980.0 KB\n",
            "  Delta:  0.0 KB\n"
          ]
        }
      ]
    },
    {
      "cell_type": "code",
      "source": [
        "!sudo apt-get update\n",
        "!sudo apt-get install time\n"
      ],
      "metadata": {
        "colab": {
          "base_uri": "https://localhost:8080/"
        },
        "id": "-LOVrPBqK59C",
        "outputId": "ef60e1de-34cf-4836-a160-d8fb7494a819"
      },
      "execution_count": 13,
      "outputs": [
        {
          "output_type": "stream",
          "name": "stdout",
          "text": [
            "\r0% [Working]\r            \rHit:1 https://cloud.r-project.org/bin/linux/ubuntu jammy-cran40/ InRelease\n",
            "Hit:2 https://developer.download.nvidia.com/compute/cuda/repos/ubuntu2204/x86_64  InRelease\n",
            "Hit:3 http://security.ubuntu.com/ubuntu jammy-security InRelease\n",
            "Hit:4 http://archive.ubuntu.com/ubuntu jammy InRelease\n",
            "Hit:5 https://r2u.stat.illinois.edu/ubuntu jammy InRelease\n",
            "Hit:6 http://archive.ubuntu.com/ubuntu jammy-updates InRelease\n",
            "Hit:7 http://archive.ubuntu.com/ubuntu jammy-backports InRelease\n",
            "Hit:8 https://ppa.launchpadcontent.net/deadsnakes/ppa/ubuntu jammy InRelease\n",
            "Hit:9 https://ppa.launchpadcontent.net/graphics-drivers/ppa/ubuntu jammy InRelease\n",
            "Hit:10 https://ppa.launchpadcontent.net/ubuntugis/ppa/ubuntu jammy InRelease\n",
            "Reading package lists... Done\n",
            "W: Skipping acquire of configured file 'main/source/Sources' as repository 'https://r2u.stat.illinois.edu/ubuntu jammy InRelease' does not seem to provide it (sources.list entry misspelt?)\n",
            "Reading package lists... Done\n",
            "Building dependency tree... Done\n",
            "Reading state information... Done\n",
            "The following NEW packages will be installed:\n",
            "  time\n",
            "0 upgraded, 1 newly installed, 0 to remove and 38 not upgraded.\n",
            "Need to get 46.7 kB of archives.\n",
            "After this operation, 129 kB of additional disk space will be used.\n",
            "Get:1 http://archive.ubuntu.com/ubuntu jammy/main amd64 time amd64 1.9-0.1build2 [46.7 kB]\n",
            "Fetched 46.7 kB in 1s (57.4 kB/s)\n",
            "debconf: unable to initialize frontend: Dialog\n",
            "debconf: (No usable dialog-like program is installed, so the dialog based frontend cannot be used. at /usr/share/perl5/Debconf/FrontEnd/Dialog.pm line 78, <> line 1.)\n",
            "debconf: falling back to frontend: Readline\n",
            "debconf: unable to initialize frontend: Readline\n",
            "debconf: (This frontend requires a controlling tty.)\n",
            "debconf: falling back to frontend: Teletype\n",
            "dpkg-preconfigure: unable to re-open stdin: \n",
            "Selecting previously unselected package time.\n",
            "(Reading database ... 126111 files and directories currently installed.)\n",
            "Preparing to unpack .../time_1.9-0.1build2_amd64.deb ...\n",
            "Unpacking time (1.9-0.1build2) ...\n",
            "Setting up time (1.9-0.1build2) ...\n",
            "Processing triggers for man-db (2.10.2-1) ...\n"
          ]
        }
      ]
    },
    {
      "cell_type": "code",
      "source": [
        "!which time\n"
      ],
      "metadata": {
        "colab": {
          "base_uri": "https://localhost:8080/"
        },
        "id": "9ju7tTIsK9e7",
        "outputId": "8afacb99-e556-4cb1-853f-43ee898d6f99"
      },
      "execution_count": 14,
      "outputs": [
        {
          "output_type": "stream",
          "name": "stdout",
          "text": [
            "/usr/bin/time\n"
          ]
        }
      ]
    },
    {
      "cell_type": "code",
      "source": [
        "%%shell\n",
        "/usr/bin/time -f \"NTRU-509 KeyGen PeakRSS: %M KB\" python3 - << 'PYCODE'\n",
        "import ctypes\n",
        "\n",
        "ntru = ctypes.CDLL(\"./libntru2048509.so\")\n",
        "kp   = ntru.keypair\n",
        "kp.argtypes = [ctypes.c_void_p, ctypes.c_void_p]\n",
        "\n",
        "\n",
        "pk = ctypes.create_string_buffer(1138)\n",
        "sk = ctypes.create_string_buffer(1671)\n",
        "kp(pk, sk)\n",
        "PYCODE\n"
      ],
      "metadata": {
        "colab": {
          "base_uri": "https://localhost:8080/"
        },
        "id": "dV8_oi_qJbbO",
        "outputId": "3fd66a7c-0d58-4451-c3a6-1c567e940042"
      },
      "execution_count": 15,
      "outputs": [
        {
          "output_type": "stream",
          "name": "stdout",
          "text": [
            "NTRU-509 KeyGen PeakRSS: 13756 KB\n"
          ]
        },
        {
          "output_type": "execute_result",
          "data": {
            "text/plain": []
          },
          "metadata": {},
          "execution_count": 15
        }
      ]
    },
    {
      "source": [
        "import ctypes\n",
        "import time\n",
        "\n",
        "\n",
        "ntru = ctypes.CDLL(\"./libntru2048509.so\")\n",
        "\n",
        "\n",
        "keypair    = ntru.keypair\n",
        "keypair.argtypes = [ctypes.c_void_p, ctypes.c_void_p]\n",
        "keypair.restype  = ctypes.c_int\n",
        "\n",
        "encapsulate = ntru.enc\n",
        "encapsulate.argtypes = [ctypes.c_void_p, ctypes.c_void_p, ctypes.c_void_p]\n",
        "encapsulate.restype  = ctypes.c_int\n",
        "\n",
        "decapsulate = ntru.dec\n",
        "decapsulate.argtypes = [ctypes.c_void_p, ctypes.c_void_p, ctypes.c_void_p]\n",
        "decapsulate.restype  = ctypes.c_int\n",
        "\n",
        "\n",
        "pk = ctypes.create_string_buffer(699)\n",
        "sk = ctypes.create_string_buffer(935)\n",
        "ct = ctypes.create_string_buffer(699)\n",
        "ss = ctypes.create_string_buffer(32)\n",
        "\n",
        "start = time.perf_counter_ns()\n",
        "keypair(pk, sk)\n",
        "keygen_time = time.perf_counter_ns() - start\n",
        "\n",
        "start = time.perf_counter_ns()\n",
        "encapsulate(ct, ss, pk)\n",
        "enc_time = time.perf_counter_ns() - start\n",
        "\n",
        "\n",
        "start = time.perf_counter_ns()\n",
        "decapsulate(ss, ct, sk)\n",
        "dec_time = time.perf_counter_ns() - start\n",
        "\n",
        "keygen_time //= 1000\n",
        "enc_time    //= 1000\n",
        "dec_time    //= 1000\n",
        "\n",
        "\n",
        "print(\"KeyGen:\", keygen_time, \"µs\")\n",
        "print(\"Encapsulation:\", enc_time, \"µs\")\n",
        "print(\"Decapsulation:\", dec_time, \"µs\")\n"
      ],
      "cell_type": "code",
      "metadata": {
        "colab": {
          "base_uri": "https://localhost:8080/"
        },
        "id": "uKIGluC2Jy4b",
        "outputId": "4b535a68-ae72-41f3-f8e9-a119c56d5ee1"
      },
      "execution_count": 16,
      "outputs": [
        {
          "output_type": "stream",
          "name": "stdout",
          "text": [
            "KeyGen: 29737 µs\n",
            "Encapsulation: 507 µs\n",
            "Decapsulation: 947 µs\n"
          ]
        }
      ]
    },
    {
      "cell_type": "code",
      "source": [
        "!lscpu\n"
      ],
      "metadata": {
        "colab": {
          "base_uri": "https://localhost:8080/"
        },
        "id": "oyyidMx7ZgVr",
        "outputId": "86d2636f-70f2-4f11-b277-3edc8f7f2685"
      },
      "execution_count": 17,
      "outputs": [
        {
          "output_type": "stream",
          "name": "stdout",
          "text": [
            "Architecture:             x86_64\n",
            "  CPU op-mode(s):         32-bit, 64-bit\n",
            "  Address sizes:          46 bits physical, 48 bits virtual\n",
            "  Byte Order:             Little Endian\n",
            "CPU(s):                   2\n",
            "  On-line CPU(s) list:    0,1\n",
            "Vendor ID:                GenuineIntel\n",
            "  Model name:             Intel(R) Xeon(R) CPU @ 2.20GHz\n",
            "    CPU family:           6\n",
            "    Model:                79\n",
            "    Thread(s) per core:   2\n",
            "    Core(s) per socket:   1\n",
            "    Socket(s):            1\n",
            "    Stepping:             0\n",
            "    BogoMIPS:             4400.26\n",
            "    Flags:                fpu vme de pse tsc msr pae mce cx8 apic sep mtrr pge m\n",
            "                          ca cmov pat pse36 clflush mmx fxsr sse sse2 ss ht sysc\n",
            "                          all nx pdpe1gb rdtscp lm constant_tsc rep_good nopl xt\n",
            "                          opology nonstop_tsc cpuid tsc_known_freq pni pclmulqdq\n",
            "                           ssse3 fma cx16 pcid sse4_1 sse4_2 x2apic movbe popcnt\n",
            "                           aes xsave avx f16c rdrand hypervisor lahf_lm abm 3dno\n",
            "                          wprefetch invpcid_single ssbd ibrs ibpb stibp fsgsbase\n",
            "                           tsc_adjust bmi1 hle avx2 smep bmi2 erms invpcid rtm r\n",
            "                          dseed adx smap xsaveopt arat md_clear arch_capabilitie\n",
            "                          s\n",
            "Virtualization features:  \n",
            "  Hypervisor vendor:      KVM\n",
            "  Virtualization type:    full\n",
            "Caches (sum of all):      \n",
            "  L1d:                    32 KiB (1 instance)\n",
            "  L1i:                    32 KiB (1 instance)\n",
            "  L2:                     256 KiB (1 instance)\n",
            "  L3:                     55 MiB (1 instance)\n",
            "NUMA:                     \n",
            "  NUMA node(s):           1\n",
            "  NUMA node0 CPU(s):      0,1\n",
            "Vulnerabilities:          \n",
            "  Gather data sampling:   Not affected\n",
            "  Itlb multihit:          Not affected\n",
            "  L1tf:                   Mitigation; PTE Inversion\n",
            "  Mds:                    Vulnerable; SMT Host state unknown\n",
            "  Meltdown:               Vulnerable\n",
            "  Mmio stale data:        Vulnerable\n",
            "  Reg file data sampling: Not affected\n",
            "  Retbleed:               Vulnerable\n",
            "  Spec rstack overflow:   Not affected\n",
            "  Spec store bypass:      Vulnerable\n",
            "  Spectre v1:             Vulnerable: __user pointer sanitization and usercopy b\n",
            "                          arriers only; no swapgs barriers\n",
            "  Spectre v2:             Vulnerable; IBPB: disabled; STIBP: disabled; PBRSB-eIB\n",
            "                          RS: Not affected; BHI: Vulnerable\n",
            "  Srbds:                  Not affected\n",
            "  Tsx async abort:        Vulnerable\n"
          ]
        }
      ]
    },
    {
      "cell_type": "code",
      "source": [
        "!free -h\n"
      ],
      "metadata": {
        "colab": {
          "base_uri": "https://localhost:8080/"
        },
        "id": "DSp9BRBSZs3r",
        "outputId": "a59ff9ec-ac97-4eef-e118-f8b200f17986"
      },
      "execution_count": 18,
      "outputs": [
        {
          "output_type": "stream",
          "name": "stdout",
          "text": [
            "               total        used        free      shared  buff/cache   available\n",
            "Mem:            12Gi       774Mi       7.3Gi       1.0Mi       4.7Gi        11Gi\n",
            "Swap:             0B          0B          0B\n"
          ]
        }
      ]
    },
    {
      "cell_type": "code",
      "source": [
        "!pip install pyRAPL\n"
      ],
      "metadata": {
        "colab": {
          "base_uri": "https://localhost:8080/"
        },
        "id": "ShNIToPVZF0f",
        "outputId": "90f4701b-c75d-4f04-f5f0-cf697de0a680"
      },
      "execution_count": 19,
      "outputs": [
        {
          "output_type": "stream",
          "name": "stdout",
          "text": [
            "Collecting pyRAPL\n",
            "  Downloading pyRAPL-0.2.3.1-py2.py3-none-any.whl.metadata (8.0 kB)\n",
            "Downloading pyRAPL-0.2.3.1-py2.py3-none-any.whl (27 kB)\n",
            "Installing collected packages: pyRAPL\n",
            "Successfully installed pyRAPL-0.2.3.1\n"
          ]
        }
      ]
    },
    {
      "cell_type": "code",
      "source": [
        "\n",
        "# following code will work on laptop and Raspberry Pi only, not on collab.\n",
        "import ctypes\n",
        "import pyRAPL\n",
        "import sys\n",
        "\n",
        "pyRAPL.setup()\n",
        "meter = pyRAPL.Measurement('ntru_full_kem')\n",
        "\n",
        "\n",
        "ntru = ctypes.CDLL(\"./libntru2048509.so\")\n",
        "kp = ntru.keypair\n",
        "enc = ntru.enc\n",
        "dec = ntru.dec\n",
        "\n",
        "kp.argtypes = [ctypes.c_void_p, ctypes.c_void_p]\n",
        "enc.argtypes = [ctypes.c_void_p, ctypes.c_void_p, ctypes.c_void_p]\n",
        "dec.argtypes = [ctypes.c_void_p, ctypes.c_void_p, ctypes.c_void_p]\n",
        "\n",
        "\n",
        "PK_BYTES = 1138\n",
        "SK_BYTES = 1671\n",
        "CT_BYTES = 1138\n",
        "SS_BYTES = 32\n",
        "\n",
        "pk = ctypes.create_string_buffer(PK_BYTES)\n",
        "sk = ctypes.create_string_buffer(SK_BYTES)\n",
        "ct = ctypes.create_string_buffer(CT_BYTES)\n",
        "ss = ctypes.create_string_buffer(SS_BYTES)\n",
        "\n",
        "meter.begin()\n",
        "kp(pk, sk)\n",
        "enc(ct, ss, pk)\n",
        "dec(ss, ct, sk)\n",
        "meter.end()\n",
        "\n",
        "print(\"NTRU-509 full KEM energy (µJ):\", meter.result.pkg)\n"
      ],
      "metadata": {
        "collapsed": true,
        "id": "0yDWRRlcZHTk"
      },
      "execution_count": null,
      "outputs": []
    },
    {
      "cell_type": "code",
      "source": [
        "# ntru_server.py\n",
        "import socket\n",
        "\n",
        "HOST, PORT = 'localhost', 7000\n",
        "sock = socket.socket()\n",
        "sock.bind((HOST, PORT))\n",
        "sock.listen(1)\n",
        "conn, _ = sock.accept()\n",
        "\n",
        "data = conn.recv(8192)\n",
        "print(\"NTRU-509 ciphertext bytes received:\", len(data))\n",
        "conn.close()\n",
        "sock.close()\n"
      ],
      "metadata": {
        "id": "NKQS8wXQZlIa"
      },
      "execution_count": null,
      "outputs": []
    }
  ]
}