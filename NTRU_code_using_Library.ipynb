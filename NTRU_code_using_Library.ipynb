{
  "nbformat": 4,
  "nbformat_minor": 0,
  "metadata": {
    "colab": {
      "provenance": [],
      "authorship_tag": "ABX9TyMjn7albjhs0YLuTZLsXWVh",
      "include_colab_link": true
    },
    "kernelspec": {
      "name": "python3",
      "display_name": "Python 3"
    },
    "language_info": {
      "name": "python"
    }
  },
  "cells": [
    {
      "cell_type": "markdown",
      "metadata": {
        "id": "view-in-github",
        "colab_type": "text"
      },
      "source": [
        "<a href=\"https://colab.research.google.com/github/AwaisEhsan67/Kyber512-and-NTRU509-comparison/blob/main/NTRU_code_using_Library.ipynb\" target=\"_parent\"><img src=\"https://colab.research.google.com/assets/colab-badge.svg\" alt=\"Open In Colab\"/></a>"
      ]
    },
    {
      "cell_type": "code",
      "execution_count": 1,
      "metadata": {
        "colab": {
          "base_uri": "https://localhost:8080/"
        },
        "id": "wGfVztW2J9RW",
        "outputId": "6a5200d0-ce84-4cd3-8ee6-9463d534370c"
      },
      "outputs": [
        {
          "output_type": "stream",
          "name": "stdout",
          "text": [
            "Cloning into 'ntru'...\n",
            "remote: Enumerating objects: 2446, done.\u001b[K\n",
            "remote: Counting objects: 100% (307/307), done.\u001b[K\n",
            "remote: Compressing objects: 100% (176/176), done.\u001b[K\n",
            "remote: Total 2446 (delta 204), reused 215 (delta 126), pack-reused 2139 (from 1)\u001b[K\n",
            "Receiving objects: 100% (2446/2446), 468.51 KiB | 6.60 MiB/s, done.\n",
            "Resolving deltas: 100% (1714/1714), done.\n"
          ]
        }
      ],
      "source": [
        "!git clone https://github.com/jschanck/ntru.git\n",
        "\n"
      ]
    },
    {
      "cell_type": "code",
      "source": [
        "cd ntru\n"
      ],
      "metadata": {
        "colab": {
          "base_uri": "https://localhost:8080/"
        },
        "id": "-De-yAKp6O4a",
        "outputId": "770cb2a5-d234-4634-aa92-a6122fb86c1b"
      },
      "execution_count": 2,
      "outputs": [
        {
          "output_type": "stream",
          "name": "stdout",
          "text": [
            "/content/ntru\n"
          ]
        }
      ]
    },
    {
      "cell_type": "code",
      "source": [
        "%%shell\n",
        "sudo apt-get update\n",
        "sudo apt-get install -y unifdef\n"
      ],
      "metadata": {
        "colab": {
          "base_uri": "https://localhost:8080/"
        },
        "id": "tsqcmelj6ZI3",
        "outputId": "3c1a94d8-6057-49b5-a6a7-c3fc4d879fe2"
      },
      "execution_count": 3,
      "outputs": [
        {
          "output_type": "stream",
          "name": "stdout",
          "text": [
            "Get:1 https://cloud.r-project.org/bin/linux/ubuntu jammy-cran40/ InRelease [3,632 B]\n",
            "Get:2 http://security.ubuntu.com/ubuntu jammy-security InRelease [129 kB]\n",
            "Get:3 https://developer.download.nvidia.com/compute/cuda/repos/ubuntu2204/x86_64  InRelease [1,581 B]\n",
            "Get:4 https://r2u.stat.illinois.edu/ubuntu jammy InRelease [6,555 B]\n",
            "Hit:5 https://ppa.launchpadcontent.net/deadsnakes/ppa/ubuntu jammy InRelease\n",
            "Hit:6 https://ppa.launchpadcontent.net/graphics-drivers/ppa/ubuntu jammy InRelease\n",
            "Hit:7 https://ppa.launchpadcontent.net/ubuntugis/ppa/ubuntu jammy InRelease\n",
            "Get:8 https://cloud.r-project.org/bin/linux/ubuntu jammy-cran40/ Packages [77.5 kB]\n",
            "Get:9 https://developer.download.nvidia.com/compute/cuda/repos/ubuntu2204/x86_64  Packages [1,659 kB]\n",
            "Get:10 https://r2u.stat.illinois.edu/ubuntu jammy/main all Packages [8,906 kB]\n",
            "Get:11 http://security.ubuntu.com/ubuntu jammy-security/multiverse amd64 Packages [47.7 kB]\n",
            "Get:12 http://security.ubuntu.com/ubuntu jammy-security/main amd64 Packages [2,893 kB]\n",
            "Get:13 https://r2u.stat.illinois.edu/ubuntu jammy/main amd64 Packages [2,715 kB]\n",
            "Get:14 http://security.ubuntu.com/ubuntu jammy-security/restricted amd64 Packages [4,266 kB]\n",
            "Get:15 http://security.ubuntu.com/ubuntu jammy-security/universe amd64 Packages [1,245 kB]\n",
            "Hit:16 http://archive.ubuntu.com/ubuntu jammy InRelease\n",
            "Get:17 http://archive.ubuntu.com/ubuntu jammy-updates InRelease [128 kB]\n",
            "Get:18 http://archive.ubuntu.com/ubuntu jammy-backports InRelease [127 kB]\n",
            "Get:19 http://archive.ubuntu.com/ubuntu jammy-updates/main amd64 Packages [3,205 kB]\n",
            "Get:20 http://archive.ubuntu.com/ubuntu jammy-updates/universe amd64 Packages [1,545 kB]\n",
            "Fetched 27.0 MB in 6s (4,459 kB/s)\n",
            "Reading package lists... Done\n",
            "W: Skipping acquire of configured file 'main/source/Sources' as repository 'https://r2u.stat.illinois.edu/ubuntu jammy InRelease' does not seem to provide it (sources.list entry misspelt?)\n",
            "Reading package lists... Done\n",
            "Building dependency tree... Done\n",
            "Reading state information... Done\n",
            "The following NEW packages will be installed:\n",
            "  unifdef\n",
            "0 upgraded, 1 newly installed, 0 to remove and 44 not upgraded.\n",
            "Need to get 21.9 kB of archives.\n",
            "After this operation, 72.7 kB of additional disk space will be used.\n",
            "Get:1 http://archive.ubuntu.com/ubuntu jammy-updates/universe amd64 unifdef amd64 2.10-1.1build0.2 [21.9 kB]\n",
            "Fetched 21.9 kB in 3s (7,803 B/s)\n",
            "debconf: unable to initialize frontend: Dialog\n",
            "debconf: (No usable dialog-like program is installed, so the dialog based frontend cannot be used. at /usr/share/perl5/Debconf/FrontEnd/Dialog.pm line 78, <> line 1.)\n",
            "debconf: falling back to frontend: Readline\n",
            "debconf: unable to initialize frontend: Readline\n",
            "debconf: (This frontend requires a controlling tty.)\n",
            "debconf: falling back to frontend: Teletype\n",
            "dpkg-preconfigure: unable to re-open stdin: \n",
            "Selecting previously unselected package unifdef.\n",
            "(Reading database ... 126101 files and directories currently installed.)\n",
            "Preparing to unpack .../unifdef_2.10-1.1build0.2_amd64.deb ...\n",
            "Unpacking unifdef (2.10-1.1build0.2) ...\n",
            "Setting up unifdef (2.10-1.1build0.2) ...\n",
            "Processing triggers for man-db (2.10.2-1) ...\n"
          ]
        },
        {
          "output_type": "execute_result",
          "data": {
            "text/plain": []
          },
          "metadata": {},
          "execution_count": 3
        }
      ]
    },
    {
      "cell_type": "code",
      "source": [
        "!mkdir -p hps-pruned"
      ],
      "metadata": {
        "id": "kGCbMw257OE_"
      },
      "execution_count": 4,
      "outputs": []
    },
    {
      "cell_type": "code",
      "source": [
        "%%shell\n",
        "for f in ref-hps2048509/*.c; do\n",
        "  unifdef -k \\\n",
        "    -DNTRU_HPS -UNTRU_HRSS \\\n",
        "    -DNTRU_N=509 -DNTRU_Q=2048 \\\n",
        "    \"ref-hps2048509/${f##*/}\" \\\n",
        "    > \"hps-pruned/${f##*/}\"\n",
        "done\n",
        "cp ref-hps2048509/*.h hps-pruned/\n",
        "cp ref-common/*.h     hps-pruned/\n"
      ],
      "metadata": {
        "colab": {
          "base_uri": "https://localhost:8080/"
        },
        "id": "CxmOprjY7v8G",
        "outputId": "adf6b3ff-c2ae-4a7c-fd83-ae1e8bcf8a49"
      },
      "execution_count": 5,
      "outputs": [
        {
          "output_type": "execute_result",
          "data": {
            "text/plain": []
          },
          "metadata": {},
          "execution_count": 5
        }
      ]
    },
    {
      "cell_type": "code",
      "source": [
        "%%shell\n",
        "gcc -shared -fPIC \\\n",
        "    -D'CRYPTO_NAMESPACE(name)=name' \\\n",
        "    hps-pruned/*.c \\\n",
        "    -I hps-pruned \\\n",
        "    -o libntru2048509.so\n"
      ],
      "metadata": {
        "colab": {
          "base_uri": "https://localhost:8080/"
        },
        "id": "fj5GcySX8Q4M",
        "outputId": "4232cae7-2048-4d94-dade-964738137694"
      },
      "execution_count": 6,
      "outputs": [
        {
          "output_type": "execute_result",
          "data": {
            "text/plain": []
          },
          "metadata": {},
          "execution_count": 6
        }
      ]
    },
    {
      "cell_type": "code",
      "source": [
        "ls -lh libntru2048509.so"
      ],
      "metadata": {
        "colab": {
          "base_uri": "https://localhost:8080/"
        },
        "id": "-rwoy0pZ8k2V",
        "outputId": "0922bc57-837b-4082-fcc7-9eca3e3920c3"
      },
      "execution_count": 7,
      "outputs": [
        {
          "output_type": "stream",
          "name": "stdout",
          "text": [
            "-rwxr-xr-x 1 root root 47K May  6 10:26 \u001b[0m\u001b[01;32mlibntru2048509.so\u001b[0m*\n"
          ]
        }
      ]
    },
    {
      "cell_type": "code",
      "source": [
        "!nm -D libntru2048509.so\n"
      ],
      "metadata": {
        "colab": {
          "base_uri": "https://localhost:8080/"
        },
        "id": "PpcPvr0H9f8S",
        "outputId": "8cf91eae-92c2-4bf9-d51e-356d6ad07d77"
      },
      "execution_count": 8,
      "outputs": [
        {
          "output_type": "stream",
          "name": "stdout",
          "text": [
            "0000000000001539 T cmov\n",
            "00000000000015b2 T cpucycles\n",
            "00000000000015cd T crypto_sort_int32\n",
            "                 w __cxa_finalize@GLIBC_2.2.5\n",
            "0000000000003867 T dec\n",
            "0000000000003752 T enc\n",
            "                 w __gmon_start__\n",
            "                 w _ITM_deregisterTMCloneTable\n",
            "                 w _ITM_registerTMCloneTable\n",
            "0000000000001d6b T KeccakF1600_StatePermute\n",
            "00000000000036bd T keypair\n",
            "                 U open@GLIBC_2.2.5\n",
            "0000000000003ed4 T owcpa_dec\n",
            "0000000000003d91 T owcpa_enc\n",
            "0000000000003afe T owcpa_keypair\n",
            "00000000000052c6 T poly_lift\n",
            "00000000000053b4 T poly_mod_3_Phi_n\n",
            "0000000000005413 T poly_mod_q_Phi_n\n",
            "0000000000005516 T poly_R2_inv\n",
            "000000000000524a T poly_Rq_inv\n",
            "00000000000059ce T poly_Rq_mul\n",
            "0000000000004e28 T poly_Rq_sum_zero_frombytes\n",
            "0000000000004dfe T poly_Rq_sum_zero_tobytes\n",
            "0000000000005464 T poly_Rq_to_S3\n",
            "0000000000004316 T poly_S3_frombytes\n",
            "000000000000749a T poly_S3_inv\n",
            "0000000000004fb8 T poly_S3_mul\n",
            "00000000000041b6 T poly_S3_tobytes\n",
            "00000000000048ca T poly_Sq_frombytes\n",
            "0000000000004f7a T poly_Sq_mul\n",
            "0000000000004495 T poly_Sq_tobytes\n",
            "0000000000004efd T poly_trinary_Zq_to_Z3\n",
            "0000000000004e9e T poly_Z3_to_Zq\n",
            "00000000000079d1 T randombytes\n",
            "                 U read@GLIBC_2.2.5\n",
            "0000000000007a93 T sample_fg\n",
            "0000000000007b23 T sample_fixed_type\n",
            "0000000000008042 T sample_iid\n",
            "0000000000007adb T sample_rm\n",
            "0000000000003513 T sha3_256\n",
            "00000000000035eb T sha3_512\n",
            "000000000000333c T shake128_absorb\n",
            "0000000000003374 T shake128_squeezeblocks\n",
            "00000000000033a8 T shake256\n",
            "                 U sleep@GLIBC_2.2.5\n",
            "                 U __stack_chk_fail@GLIBC_2.4\n"
          ]
        }
      ]
    },
    {
      "cell_type": "code",
      "source": [
        "import ctypes\n",
        "import time\n",
        "import statistics\n",
        "\n",
        "ntru = ctypes.CDLL(\"./libntru2048509.so\")\n",
        "\n",
        "keypair = ntru.keypair\n",
        "keypair.argtypes = [ctypes.c_void_p, ctypes.c_void_p]\n",
        "keypair.restype  = ctypes.c_int\n",
        "\n",
        "encapsulate = ntru.enc\n",
        "encapsulate.argtypes = [ctypes.c_void_p, ctypes.c_void_p, ctypes.c_void_p]\n",
        "encapsulate.restype  = ctypes.c_int\n",
        "\n",
        "decapsulate = ntru.dec\n",
        "decapsulate.argtypes = [ctypes.c_void_p, ctypes.c_void_p, ctypes.c_void_p]\n",
        "decapsulate.restype  = ctypes.c_int\n",
        "\n",
        "\n",
        "NTRU_PK, NTRU_SK    = 1138, 1671\n",
        "NTRU_CT, NTRU_SS    = 1138, 32\n",
        "\n",
        "\n",
        "def benchmark_keygen(trials=1000):\n",
        "    times = []\n",
        "    for _ in range(trials):\n",
        "        pk = ctypes.create_string_buffer(NTRU_PK)\n",
        "        sk = ctypes.create_string_buffer(NTRU_SK)\n",
        "        t0 = time.perf_counter()\n",
        "        if keypair(pk, sk) != 0:\n",
        "            raise RuntimeError(\"keypair failed\")\n",
        "        t1 = time.perf_counter()\n",
        "        times.append((t1 - t0) * 1000)\n",
        "    return times\n",
        "\n",
        "if __name__ == \"__main__\":\n",
        "    # Run 1000 trials\n",
        "    times = benchmark_keygen(1000)\n",
        "    print(f\"Avg keygen: {statistics.mean(times):.3f} ms\")\n",
        "    print(f\"Min keygen: {min(times):.3f} ms\")\n",
        "    print(f\"Max keygen: {max(times):.3f} ms\")\n",
        "    print(f\"Stddev   : {statistics.stdev(times):.3f} ms\")\n"
      ],
      "metadata": {
        "colab": {
          "base_uri": "https://localhost:8080/"
        },
        "id": "BKiJOMgY-DgB",
        "outputId": "77959b7f-30c8-49fb-ab00-6b9547a9c25c"
      },
      "execution_count": 9,
      "outputs": [
        {
          "output_type": "stream",
          "name": "stdout",
          "text": [
            "Avg keygen: 29.678 ms\n",
            "Min keygen: 26.499 ms\n",
            "Max keygen: 84.494 ms\n",
            "Stddev   : 4.997 ms\n"
          ]
        }
      ]
    },
    {
      "cell_type": "code",
      "source": [
        "import ctypes\n",
        "import time\n",
        "import statistics\n",
        "\n",
        "\n",
        "ntru = ctypes.CDLL(\"./libntru2048509.so\")\n",
        "\n",
        "\n",
        "keypair    = ntru.keypair\n",
        "keypair.argtypes = [ctypes.c_void_p, ctypes.c_void_p]\n",
        "keypair.restype  = ctypes.c_int\n",
        "\n",
        "encapsulate = ntru.enc\n",
        "encapsulate.argtypes = [ctypes.c_void_p, ctypes.c_void_p, ctypes.c_void_p]\n",
        "encapsulate.restype  = ctypes.c_int\n",
        "\n",
        "decapsulate = ntru.dec\n",
        "decapsulate.argtypes = [ctypes.c_void_p, ctypes.c_void_p, ctypes.c_void_p]\n",
        "decapsulate.restype  = ctypes.c_int\n",
        "\n",
        "NTRU_PK, NTRU_SK = 1138, 1671\n",
        "NTRU_CT, NTRU_SS = 1138,   32\n",
        "\n",
        "\n",
        "def functional_test():\n",
        "    pk = ctypes.create_string_buffer(NTRU_PK)\n",
        "    sk = ctypes.create_string_buffer(NTRU_SK)\n",
        "    ct = ctypes.create_string_buffer(NTRU_CT)\n",
        "    ss = ctypes.create_string_buffer(NTRU_SS)\n",
        "    ss_dec = ctypes.create_string_buffer(NTRU_SS)\n",
        "\n",
        "    assert keypair(pk, sk) == 0\n",
        "    assert encapsulate(ct, ss, pk) == 0\n",
        "    assert decapsulate(ss_dec, ct, sk) == 0\n",
        "\n",
        "    print(f\"[Functional] NTRU shared secret match: {ss.raw == ss_dec.raw}\")\n",
        "\n",
        "\n",
        "def benchmark(fn, buf_sizes, trials=1000):\n",
        "    times = []\n",
        "    for _ in range(trials):\n",
        "        bufs = [ctypes.create_string_buffer(sz) for sz in buf_sizes]\n",
        "        start = time.perf_counter()\n",
        "        assert fn(*bufs) == 0\n",
        "        end = time.perf_counter()\n",
        "        times.append((end - start)*1000)\n",
        "    return times\n",
        "\n",
        "def print_stats(label, times):\n",
        "    print(f\"[Benchmark] {label}: avg={statistics.mean(times):.3f} ms, \"\n",
        "          f\"min={min(times):.3f} ms, max={max(times):.3f} ms, std={statistics.stdev(times):.3f} ms\")\n",
        "\n",
        "if __name__ == \"__main__\":\n",
        "    functional_test()\n",
        "    trials = 1000\n",
        "    print_stats(\"NTRU KeyGen\",    benchmark(keypair,    [NTRU_PK, NTRU_SK],     trials))\n",
        "    print_stats(\"NTRU Encapsulate\",benchmark(encapsulate, [NTRU_CT, NTRU_SS, NTRU_PK], trials))\n",
        "    print_stats(\"NTRU Decapsulate\",benchmark(decapsulate, [NTRU_SS, NTRU_CT, NTRU_SK], trials))\n"
      ],
      "metadata": {
        "colab": {
          "base_uri": "https://localhost:8080/"
        },
        "id": "BB_tB5eJAYxD",
        "outputId": "b8a06ff3-faab-4880-8a41-05d634771352"
      },
      "execution_count": 10,
      "outputs": [
        {
          "output_type": "stream",
          "name": "stdout",
          "text": [
            "[Functional] NTRU shared secret match: True\n",
            "[Benchmark] NTRU KeyGen: avg=29.939 ms, min=26.455 ms, max=72.075 ms, std=4.869 ms\n",
            "[Benchmark] NTRU Encapsulate: avg=0.680 ms, min=0.411 ms, max=4.759 ms, std=0.261 ms\n",
            "[Benchmark] NTRU Decapsulate: avg=0.937 ms, min=0.871 ms, max=1.852 ms, std=0.126 ms\n"
          ]
        }
      ]
    },
    {
      "cell_type": "code",
      "source": [
        "!pip install psutil\n"
      ],
      "metadata": {
        "colab": {
          "base_uri": "https://localhost:8080/"
        },
        "id": "33d3DtPfHU6T",
        "outputId": "72935864-9a00-4576-ceba-545b91e97507"
      },
      "execution_count": 11,
      "outputs": [
        {
          "output_type": "stream",
          "name": "stdout",
          "text": [
            "Requirement already satisfied: psutil in /usr/local/lib/python3.11/dist-packages (5.9.5)\n"
          ]
        }
      ]
    },
    {
      "cell_type": "code",
      "source": [
        "import ctypes\n",
        "import psutil\n",
        "import time\n",
        "\n",
        "ntru = ctypes.CDLL(\"./libntru2048509.so\")\n",
        "\n",
        "\n",
        "keypair = ntru.keypair\n",
        "keypair.argtypes = [ctypes.c_void_p, ctypes.c_void_p]\n",
        "keypair.restype  = ctypes.c_int\n",
        "\n",
        "NTRU_PK = 1138\n",
        "NTRU_SK = 1671\n",
        "\n",
        "\n",
        "proc = psutil.Process()\n",
        "\n",
        "pk = ctypes.create_string_buffer(NTRU_PK)\n",
        "sk = ctypes.create_string_buffer(NTRU_SK)\n",
        "keypair(pk, sk)\n",
        "time.sleep(0.1)\n",
        "\n",
        "mem_before = proc.memory_info().rss\n",
        "\n",
        "pk = ctypes.create_string_buffer(NTRU_PK)\n",
        "sk = ctypes.create_string_buffer(NTRU_SK)\n",
        "keypair(pk, sk)\n",
        "\n",
        "\n",
        "mem_after = proc.memory_info().rss\n",
        "\n",
        "print(f\"NTRU-HPS-2048_509 KeyGen Memory (RSS):\")\n",
        "print(f\"  Before: {mem_before/1024:.1f} KB\")\n",
        "print(f\"  After:  {mem_after/1024:.1f} KB\")\n",
        "print(f\"  Delta:  {(mem_after-mem_before)/1024:.1f} KB\")\n"
      ],
      "metadata": {
        "colab": {
          "base_uri": "https://localhost:8080/"
        },
        "id": "uRkG0-hAH83F",
        "outputId": "281a0c2c-9160-40d9-82d5-72d6fc1391db"
      },
      "execution_count": 12,
      "outputs": [
        {
          "output_type": "stream",
          "name": "stdout",
          "text": [
            "NTRU-HPS-2048_509 KeyGen Memory (RSS):\n",
            "  Before: 102948.0 KB\n",
            "  After:  102948.0 KB\n",
            "  Delta:  0.0 KB\n"
          ]
        }
      ]
    },
    {
      "cell_type": "code",
      "source": [
        "!sudo apt-get update\n",
        "!sudo apt-get install time\n"
      ],
      "metadata": {
        "colab": {
          "base_uri": "https://localhost:8080/"
        },
        "id": "-LOVrPBqK59C",
        "outputId": "da1c9200-402b-4fd0-9caa-a3a758f471b2"
      },
      "execution_count": 13,
      "outputs": [
        {
          "output_type": "stream",
          "name": "stdout",
          "text": [
            "\r0% [Working]\r            \rHit:1 https://developer.download.nvidia.com/compute/cuda/repos/ubuntu2204/x86_64  InRelease\n",
            "Hit:2 https://cloud.r-project.org/bin/linux/ubuntu jammy-cran40/ InRelease\n",
            "Hit:3 https://r2u.stat.illinois.edu/ubuntu jammy InRelease\n",
            "Hit:4 http://archive.ubuntu.com/ubuntu jammy InRelease\n",
            "Hit:5 http://security.ubuntu.com/ubuntu jammy-security InRelease\n",
            "Hit:6 http://archive.ubuntu.com/ubuntu jammy-updates InRelease\n",
            "Hit:7 http://archive.ubuntu.com/ubuntu jammy-backports InRelease\n",
            "Hit:8 https://ppa.launchpadcontent.net/deadsnakes/ppa/ubuntu jammy InRelease\n",
            "Hit:9 https://ppa.launchpadcontent.net/graphics-drivers/ppa/ubuntu jammy InRelease\n",
            "Hit:10 https://ppa.launchpadcontent.net/ubuntugis/ppa/ubuntu jammy InRelease\n",
            "Reading package lists... Done\n",
            "W: Skipping acquire of configured file 'main/source/Sources' as repository 'https://r2u.stat.illinois.edu/ubuntu jammy InRelease' does not seem to provide it (sources.list entry misspelt?)\n",
            "Reading package lists... Done\n",
            "Building dependency tree... Done\n",
            "Reading state information... Done\n",
            "The following NEW packages will be installed:\n",
            "  time\n",
            "0 upgraded, 1 newly installed, 0 to remove and 44 not upgraded.\n",
            "Need to get 46.7 kB of archives.\n",
            "After this operation, 129 kB of additional disk space will be used.\n",
            "Get:1 http://archive.ubuntu.com/ubuntu jammy/main amd64 time amd64 1.9-0.1build2 [46.7 kB]\n",
            "Fetched 46.7 kB in 1s (85.2 kB/s)\n",
            "debconf: unable to initialize frontend: Dialog\n",
            "debconf: (No usable dialog-like program is installed, so the dialog based frontend cannot be used. at /usr/share/perl5/Debconf/FrontEnd/Dialog.pm line 78, <> line 1.)\n",
            "debconf: falling back to frontend: Readline\n",
            "debconf: unable to initialize frontend: Readline\n",
            "debconf: (This frontend requires a controlling tty.)\n",
            "debconf: falling back to frontend: Teletype\n",
            "dpkg-preconfigure: unable to re-open stdin: \n",
            "Selecting previously unselected package time.\n",
            "(Reading database ... 126110 files and directories currently installed.)\n",
            "Preparing to unpack .../time_1.9-0.1build2_amd64.deb ...\n",
            "Unpacking time (1.9-0.1build2) ...\n",
            "Setting up time (1.9-0.1build2) ...\n",
            "Processing triggers for man-db (2.10.2-1) ...\n"
          ]
        }
      ]
    },
    {
      "cell_type": "code",
      "source": [
        "!which time\n"
      ],
      "metadata": {
        "colab": {
          "base_uri": "https://localhost:8080/"
        },
        "id": "9ju7tTIsK9e7",
        "outputId": "339a5fda-36f3-44e1-f62a-cd6d6e466f2c"
      },
      "execution_count": 14,
      "outputs": [
        {
          "output_type": "stream",
          "name": "stdout",
          "text": [
            "/usr/bin/time\n"
          ]
        }
      ]
    },
    {
      "cell_type": "code",
      "source": [
        "%%shell\n",
        "/usr/bin/time -f \"NTRU-509 KeyGen PeakRSS: %M KB\" python3 - << 'PYCODE'\n",
        "import ctypes\n",
        "\n",
        "ntru = ctypes.CDLL(\"./libntru2048509.so\")\n",
        "kp   = ntru.keypair\n",
        "kp.argtypes = [ctypes.c_void_p, ctypes.c_void_p]\n",
        "\n",
        "\n",
        "pk = ctypes.create_string_buffer(1138)\n",
        "sk = ctypes.create_string_buffer(1671)\n",
        "kp(pk, sk)\n",
        "PYCODE\n"
      ],
      "metadata": {
        "colab": {
          "base_uri": "https://localhost:8080/"
        },
        "id": "dV8_oi_qJbbO",
        "outputId": "c33ad946-1435-4fbd-f40e-3977f7f08efb"
      },
      "execution_count": 15,
      "outputs": [
        {
          "output_type": "stream",
          "name": "stdout",
          "text": [
            "NTRU-509 KeyGen PeakRSS: 13428 KB\n"
          ]
        },
        {
          "output_type": "execute_result",
          "data": {
            "text/plain": []
          },
          "metadata": {},
          "execution_count": 15
        }
      ]
    },
    {
      "source": [
        "import ctypes\n",
        "import time\n",
        "\n",
        "\n",
        "ntru = ctypes.CDLL(\"./libntru2048509.so\")\n",
        "\n",
        "\n",
        "keypair    = ntru.keypair\n",
        "keypair.argtypes = [ctypes.c_void_p, ctypes.c_void_p]\n",
        "keypair.restype  = ctypes.c_int\n",
        "\n",
        "encapsulate = ntru.enc\n",
        "encapsulate.argtypes = [ctypes.c_void_p, ctypes.c_void_p, ctypes.c_void_p]\n",
        "encapsulate.restype  = ctypes.c_int\n",
        "\n",
        "decapsulate = ntru.dec\n",
        "decapsulate.argtypes = [ctypes.c_void_p, ctypes.c_void_p, ctypes.c_void_p]\n",
        "decapsulate.restype  = ctypes.c_int\n",
        "\n",
        "\n",
        "pk = ctypes.create_string_buffer(699)\n",
        "sk = ctypes.create_string_buffer(935)\n",
        "ct = ctypes.create_string_buffer(699)\n",
        "ss = ctypes.create_string_buffer(32)\n",
        "\n",
        "start = time.perf_counter_ns()\n",
        "keypair(pk, sk)\n",
        "keygen_time = time.perf_counter_ns() - start\n",
        "\n",
        "start = time.perf_counter_ns()\n",
        "encapsulate(ct, ss, pk)\n",
        "enc_time = time.perf_counter_ns() - start\n",
        "\n",
        "\n",
        "start = time.perf_counter_ns()\n",
        "decapsulate(ss, ct, sk)\n",
        "dec_time = time.perf_counter_ns() - start\n",
        "\n",
        "keygen_time //= 1000\n",
        "enc_time    //= 1000\n",
        "dec_time    //= 1000\n",
        "\n",
        "\n",
        "print(\"KeyGen:\", keygen_time, \"µs\")\n",
        "print(\"Encapsulation:\", enc_time, \"µs\")\n",
        "print(\"Decapsulation:\", dec_time, \"µs\")\n"
      ],
      "cell_type": "code",
      "metadata": {
        "colab": {
          "base_uri": "https://localhost:8080/"
        },
        "id": "uKIGluC2Jy4b",
        "outputId": "5d83b9aa-0196-4230-a193-7318d4186d98"
      },
      "execution_count": 31,
      "outputs": [
        {
          "output_type": "stream",
          "name": "stdout",
          "text": [
            "KeyGen: 37593 µs\n",
            "Encapsulation: 844 µs\n",
            "Decapsulation: 1537 µs\n"
          ]
        }
      ]
    },
    {
      "cell_type": "code",
      "source": [
        "!lscpu\n"
      ],
      "metadata": {
        "colab": {
          "base_uri": "https://localhost:8080/"
        },
        "id": "oyyidMx7ZgVr",
        "outputId": "7d15c25e-7cd1-4f2f-fda9-bb694e30da2f"
      },
      "execution_count": 34,
      "outputs": [
        {
          "output_type": "stream",
          "name": "stdout",
          "text": [
            "Architecture:             x86_64\n",
            "  CPU op-mode(s):         32-bit, 64-bit\n",
            "  Address sizes:          46 bits physical, 48 bits virtual\n",
            "  Byte Order:             Little Endian\n",
            "CPU(s):                   2\n",
            "  On-line CPU(s) list:    0,1\n",
            "Vendor ID:                GenuineIntel\n",
            "  Model name:             Intel(R) Xeon(R) CPU @ 2.20GHz\n",
            "    CPU family:           6\n",
            "    Model:                79\n",
            "    Thread(s) per core:   2\n",
            "    Core(s) per socket:   1\n",
            "    Socket(s):            1\n",
            "    Stepping:             0\n",
            "    BogoMIPS:             4399.99\n",
            "    Flags:                fpu vme de pse tsc msr pae mce cx8 apic sep mtrr pge m\n",
            "                          ca cmov pat pse36 clflush mmx fxsr sse sse2 ss ht sysc\n",
            "                          all nx pdpe1gb rdtscp lm constant_tsc rep_good nopl xt\n",
            "                          opology nonstop_tsc cpuid tsc_known_freq pni pclmulqdq\n",
            "                           ssse3 fma cx16 pcid sse4_1 sse4_2 x2apic movbe popcnt\n",
            "                           aes xsave avx f16c rdrand hypervisor lahf_lm abm 3dno\n",
            "                          wprefetch invpcid_single ssbd ibrs ibpb stibp fsgsbase\n",
            "                           tsc_adjust bmi1 hle avx2 smep bmi2 erms invpcid rtm r\n",
            "                          dseed adx smap xsaveopt arat md_clear arch_capabilitie\n",
            "                          s\n",
            "Virtualization features:  \n",
            "  Hypervisor vendor:      KVM\n",
            "  Virtualization type:    full\n",
            "Caches (sum of all):      \n",
            "  L1d:                    32 KiB (1 instance)\n",
            "  L1i:                    32 KiB (1 instance)\n",
            "  L2:                     256 KiB (1 instance)\n",
            "  L3:                     55 MiB (1 instance)\n",
            "NUMA:                     \n",
            "  NUMA node(s):           1\n",
            "  NUMA node0 CPU(s):      0,1\n",
            "Vulnerabilities:          \n",
            "  Gather data sampling:   Not affected\n",
            "  Itlb multihit:          Not affected\n",
            "  L1tf:                   Mitigation; PTE Inversion\n",
            "  Mds:                    Vulnerable; SMT Host state unknown\n",
            "  Meltdown:               Vulnerable\n",
            "  Mmio stale data:        Vulnerable\n",
            "  Reg file data sampling: Not affected\n",
            "  Retbleed:               Vulnerable\n",
            "  Spec rstack overflow:   Not affected\n",
            "  Spec store bypass:      Vulnerable\n",
            "  Spectre v1:             Vulnerable: __user pointer sanitization and usercopy b\n",
            "                          arriers only; no swapgs barriers\n",
            "  Spectre v2:             Vulnerable; IBPB: disabled; STIBP: disabled; PBRSB-eIB\n",
            "                          RS: Not affected; BHI: Vulnerable\n",
            "  Srbds:                  Not affected\n",
            "  Tsx async abort:        Vulnerable\n"
          ]
        }
      ]
    },
    {
      "cell_type": "code",
      "source": [
        "!free -h\n"
      ],
      "metadata": {
        "colab": {
          "base_uri": "https://localhost:8080/"
        },
        "id": "DSp9BRBSZs3r",
        "outputId": "7e507f01-ef14-49e3-9320-b26c660c3c55"
      },
      "execution_count": 35,
      "outputs": [
        {
          "output_type": "stream",
          "name": "stdout",
          "text": [
            "               total        used        free      shared  buff/cache   available\n",
            "Mem:            12Gi       894Mi       9.0Gi       3.0Mi       2.8Gi        11Gi\n",
            "Swap:             0B          0B          0B\n"
          ]
        }
      ]
    },
    {
      "cell_type": "code",
      "source": [
        "!pip install pyRAPL\n"
      ],
      "metadata": {
        "colab": {
          "base_uri": "https://localhost:8080/"
        },
        "id": "ShNIToPVZF0f",
        "outputId": "d3e4a164-9320-4ce4-b8ed-d966e593cc16"
      },
      "execution_count": 32,
      "outputs": [
        {
          "output_type": "stream",
          "name": "stdout",
          "text": [
            "Collecting pyRAPL\n",
            "  Downloading pyRAPL-0.2.3.1-py2.py3-none-any.whl.metadata (8.0 kB)\n",
            "Downloading pyRAPL-0.2.3.1-py2.py3-none-any.whl (27 kB)\n",
            "Installing collected packages: pyRAPL\n",
            "Successfully installed pyRAPL-0.2.3.1\n"
          ]
        }
      ]
    },
    {
      "cell_type": "code",
      "source": [
        "\n",
        "# following code will work on laptop and Raspberry Pi only, not on collab.\n",
        "import ctypes\n",
        "import pyRAPL\n",
        "import sys\n",
        "\n",
        "pyRAPL.setup()\n",
        "meter = pyRAPL.Measurement('ntru_full_kem')\n",
        "\n",
        "\n",
        "ntru = ctypes.CDLL(\"./libntru2048509.so\")\n",
        "kp = ntru.keypair\n",
        "enc = ntru.enc\n",
        "dec = ntru.dec\n",
        "\n",
        "kp.argtypes = [ctypes.c_void_p, ctypes.c_void_p]\n",
        "enc.argtypes = [ctypes.c_void_p, ctypes.c_void_p, ctypes.c_void_p]\n",
        "dec.argtypes = [ctypes.c_void_p, ctypes.c_void_p, ctypes.c_void_p]\n",
        "\n",
        "\n",
        "PK_BYTES = 1138\n",
        "SK_BYTES = 1671\n",
        "CT_BYTES = 1138\n",
        "SS_BYTES = 32\n",
        "\n",
        "pk = ctypes.create_string_buffer(PK_BYTES)\n",
        "sk = ctypes.create_string_buffer(SK_BYTES)\n",
        "ct = ctypes.create_string_buffer(CT_BYTES)\n",
        "ss = ctypes.create_string_buffer(SS_BYTES)\n",
        "\n",
        "meter.begin()\n",
        "kp(pk, sk)\n",
        "enc(ct, ss, pk)\n",
        "dec(ss, ct, sk)\n",
        "meter.end()\n",
        "\n",
        "print(\"NTRU-509 full KEM energy (µJ):\", meter.result.pkg)\n"
      ],
      "metadata": {
        "colab": {
          "base_uri": "https://localhost:8080/",
          "height": 391
        },
        "id": "0yDWRRlcZHTk",
        "outputId": "d581b422-12b1-4024-9e71-98aea5ff083e"
      },
      "execution_count": 33,
      "outputs": [
        {
          "output_type": "stream",
          "name": "stderr",
          "text": [
            "WARNING:root:imports error \n",
            " You need to install pymongo>=3.9.0 in order to use MongoOutput \n"
          ]
        },
        {
          "output_type": "error",
          "ename": "PyRAPLCantRecordEnergyConsumption",
          "evalue": "",
          "traceback": [
            "\u001b[0;31m---------------------------------------------------------------------------\u001b[0m",
            "\u001b[0;31mPyRAPLCantRecordEnergyConsumption\u001b[0m         Traceback (most recent call last)",
            "\u001b[0;32m<ipython-input-33-a998a5ce0a48>\u001b[0m in \u001b[0;36m<cell line: 0>\u001b[0;34m()\u001b[0m\n\u001b[1;32m      4\u001b[0m \u001b[0;32mimport\u001b[0m \u001b[0msys\u001b[0m\u001b[0;34m\u001b[0m\u001b[0;34m\u001b[0m\u001b[0m\n\u001b[1;32m      5\u001b[0m \u001b[0;34m\u001b[0m\u001b[0m\n\u001b[0;32m----> 6\u001b[0;31m \u001b[0mpyRAPL\u001b[0m\u001b[0;34m.\u001b[0m\u001b[0msetup\u001b[0m\u001b[0;34m(\u001b[0m\u001b[0;34m)\u001b[0m\u001b[0;34m\u001b[0m\u001b[0;34m\u001b[0m\u001b[0m\n\u001b[0m\u001b[1;32m      7\u001b[0m \u001b[0mmeter\u001b[0m \u001b[0;34m=\u001b[0m \u001b[0mpyRAPL\u001b[0m\u001b[0;34m.\u001b[0m\u001b[0mMeasurement\u001b[0m\u001b[0;34m(\u001b[0m\u001b[0;34m'ntru_full_kem'\u001b[0m\u001b[0;34m)\u001b[0m\u001b[0;34m\u001b[0m\u001b[0;34m\u001b[0m\u001b[0m\n\u001b[1;32m      8\u001b[0m \u001b[0;34m\u001b[0m\u001b[0m\n",
            "\u001b[0;32m/usr/local/lib/python3.11/dist-packages/pyRAPL/pyRAPL.py\u001b[0m in \u001b[0;36msetup\u001b[0;34m(devices, socket_ids)\u001b[0m\n\u001b[1;32m     37\u001b[0m     \u001b[0;34m:\u001b[0m\u001b[0;32mraise\u001b[0m \u001b[0mPyRAPLBadSocketIdException\u001b[0m\u001b[0;34m:\u001b[0m \u001b[0;32mif\u001b[0m \u001b[0mthe\u001b[0m \u001b[0mgiven\u001b[0m \u001b[0msocket\u001b[0m \u001b[0;32min\u001b[0m \u001b[0mparameter\u001b[0m \u001b[0mdoesn\u001b[0m\u001b[0;31m'\u001b[0m\u001b[0mt\u001b[0m \u001b[0mexist\u001b[0m\u001b[0;34m\u001b[0m\u001b[0;34m\u001b[0m\u001b[0m\n\u001b[1;32m     38\u001b[0m     \"\"\"\n\u001b[0;32m---> 39\u001b[0;31m     \u001b[0mpyRAPL\u001b[0m\u001b[0;34m.\u001b[0m\u001b[0m_sensor\u001b[0m \u001b[0;34m=\u001b[0m \u001b[0mSensor\u001b[0m\u001b[0;34m(\u001b[0m\u001b[0mdevices\u001b[0m\u001b[0;34m=\u001b[0m\u001b[0mdevices\u001b[0m\u001b[0;34m,\u001b[0m \u001b[0msocket_ids\u001b[0m\u001b[0;34m=\u001b[0m\u001b[0msocket_ids\u001b[0m\u001b[0;34m)\u001b[0m\u001b[0;34m\u001b[0m\u001b[0;34m\u001b[0m\u001b[0m\n\u001b[0m",
            "\u001b[0;32m/usr/local/lib/python3.11/dist-packages/pyRAPL/sensor.py\u001b[0m in \u001b[0;36m__init__\u001b[0;34m(self, devices, socket_ids)\u001b[0m\n\u001b[1;32m     66\u001b[0m \u001b[0;34m\u001b[0m\u001b[0m\n\u001b[1;32m     67\u001b[0m         \u001b[0;32mif\u001b[0m \u001b[0;32mnot\u001b[0m \u001b[0mself\u001b[0m\u001b[0;34m.\u001b[0m\u001b[0m_available_devices\u001b[0m\u001b[0;34m:\u001b[0m\u001b[0;34m\u001b[0m\u001b[0;34m\u001b[0m\u001b[0m\n\u001b[0;32m---> 68\u001b[0;31m             \u001b[0;32mraise\u001b[0m \u001b[0mPyRAPLCantRecordEnergyConsumption\u001b[0m\u001b[0;34m(\u001b[0m\u001b[0;32mNone\u001b[0m\u001b[0;34m)\u001b[0m\u001b[0;34m\u001b[0m\u001b[0;34m\u001b[0m\u001b[0m\n\u001b[0m\u001b[1;32m     69\u001b[0m \u001b[0;34m\u001b[0m\u001b[0m\n\u001b[1;32m     70\u001b[0m         \u001b[0mself\u001b[0m\u001b[0;34m.\u001b[0m\u001b[0m_socket_ids\u001b[0m \u001b[0;34m=\u001b[0m \u001b[0msocket_ids\u001b[0m \u001b[0;32mif\u001b[0m \u001b[0msocket_ids\u001b[0m \u001b[0;32mis\u001b[0m \u001b[0;32mnot\u001b[0m \u001b[0;32mNone\u001b[0m \u001b[0;32melse\u001b[0m \u001b[0mlist\u001b[0m\u001b[0;34m(\u001b[0m\u001b[0mself\u001b[0m\u001b[0;34m.\u001b[0m\u001b[0m_device_api\u001b[0m\u001b[0;34m.\u001b[0m\u001b[0mvalues\u001b[0m\u001b[0;34m(\u001b[0m\u001b[0;34m)\u001b[0m\u001b[0;34m)\u001b[0m\u001b[0;34m[\u001b[0m\u001b[0;36m0\u001b[0m\u001b[0;34m]\u001b[0m\u001b[0;34m.\u001b[0m\u001b[0m_socket_ids\u001b[0m\u001b[0;34m\u001b[0m\u001b[0;34m\u001b[0m\u001b[0m\n",
            "\u001b[0;31mPyRAPLCantRecordEnergyConsumption\u001b[0m: "
          ]
        }
      ]
    },
    {
      "cell_type": "code",
      "source": [
        "# ntru_server.py\n",
        "import socket\n",
        "\n",
        "HOST, PORT = 'localhost', 7000\n",
        "sock = socket.socket()\n",
        "sock.bind((HOST, PORT))\n",
        "sock.listen(1)\n",
        "conn, _ = sock.accept()\n",
        "\n",
        "data = conn.recv(8192)\n",
        "print(\"NTRU-509 ciphertext bytes received:\", len(data))\n",
        "conn.close()\n",
        "sock.close()\n"
      ],
      "metadata": {
        "id": "NKQS8wXQZlIa"
      },
      "execution_count": null,
      "outputs": []
    }
  ]
}